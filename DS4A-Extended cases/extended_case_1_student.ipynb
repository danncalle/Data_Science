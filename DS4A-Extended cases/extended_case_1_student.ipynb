{
 "cells": [
  {
   "cell_type": "markdown",
   "metadata": {},
   "source": [
    "# How can we control the increasing number of accidents in New York?"
   ]
  },
  {
   "cell_type": "code",
   "execution_count": 2,
   "metadata": {},
   "outputs": [],
   "source": [
    "import json\n",
    "import requests\n",
    "from bs4 import BeautifulSoup\n",
    "import pandas as pd\n",
    "import matplotlib.pyplot as plt\n",
    "import seaborn as sns\n",
    "import numpy"
   ]
  },
  {
   "cell_type": "markdown",
   "metadata": {},
   "source": [
    "## Introduction"
   ]
  },
  {
   "cell_type": "markdown",
   "metadata": {},
   "source": [
    "**Business Context.** The city of New York has seen a rise in the number of accidents on the roads in the city. They would like to know if the number of accidents have increased in the last few weeks. For all the reported accidents, they have collected details for each accident and have been maintaining records for the past year and a half (from January 2018 to August 2019). \n",
    "\n",
    "The city has contracted you to build visualizations that would help them identify patterns in accidents, which would help them take preventive actions to reduce the number of accidents in the future. They have certain parameters like borough, time of day, reason for accident, etc. Which they care about and which they would like to get specific information on."
   ]
  },
  {
   "cell_type": "markdown",
   "metadata": {},
   "source": [
    "**Business Problem.** Your task is to format the given data and provide visualizations that would answer the specific questions the client has, which are mentioned below."
   ]
  },
  {
   "cell_type": "markdown",
   "metadata": {},
   "source": [
    "**Analytical Context.** You are given a CSV file (stored in the already created ```data``` folder) containing details about each accident like date, time, location of the accident, reason for the accident, types of vehicles involved, injury and death count, etc. The delimiter in the given CSV file is `;` instead of the default `,`. You will be performing the following tasks on the data:\n",
    "\n",
    "1. Extract additional borough data stored in a JSON file\n",
    "2. Read, transform, and prepare data for visualization\n",
    "3. Perform analytics and construct visualizations of the data to identify patterns in the dataset\n",
    "        \n",
    "The client has a specific set of questions they would like to get answers to. You will need to provide visualizations to accompany these:\n",
    "\n",
    "1. How have the number of accidents fluctuated over the past year and a half? Have they increased over the time?\n",
    "2. For any particular day, during which hours are accidents most likely to occur?\n",
    "3. Are there more accidents on weekdays than weekends?\n",
    "4. What are the accidents count-to-area ratio per borough? Which boroughs have disproportionately large numbers of accidents for their size?\n",
    "5. For each borough, during which hours are accidents most likely to occur?\n",
    "6. What are the top 5 causes of accidents in the city? \n",
    "7. What types of vehicles are most involved in accidents per borough?\n",
    "8. What types of vehicles are most involved in deaths?"
   ]
  },
  {
   "cell_type": "markdown",
   "metadata": {},
   "source": [
    "## Fetching the relevant data"
   ]
  },
  {
   "cell_type": "markdown",
   "metadata": {},
   "source": [
    "The client has requested analysis of the accidents-to-area ratio for boroughs. Borough data is stored in a JSON file in the ```data``` folder."
   ]
  },
  {
   "cell_type": "markdown",
   "metadata": {},
   "source": [
    "### Question:\n",
    "\n",
    "Use the function ```json.load()``` to load the file ```borough_data.json``` as a dictionary."
   ]
  },
  {
   "cell_type": "markdown",
   "metadata": {},
   "source": [
    "**Answer.** One possible solution is given below:"
   ]
  },
  {
   "cell_type": "code",
   "execution_count": 3,
   "metadata": {},
   "outputs": [
    {
     "data": {
      "text/plain": [
       "{'the bronx': {'name': 'the bronx', 'population': 1471160.0, 'area': 42.1},\n",
       " 'brooklyn': {'name': 'brooklyn', 'population': 2648771.0, 'area': 70.82},\n",
       " 'manhattan': {'name': 'manhattan', 'population': 1664727.0, 'area': 22.83},\n",
       " 'queens': {'name': 'queens', 'population': 2358582.0, 'area': 108.53},\n",
       " 'staten island': {'name': 'staten island',\n",
       "  'population': 479458.0,\n",
       "  'area': 58.37}}"
      ]
     },
     "execution_count": 3,
     "metadata": {},
     "output_type": "execute_result"
    }
   ],
   "source": [
    "with open('data/borough_data.json') as f:\n",
    "    borough_data=json.load(f)\n",
    "    \n",
    "borough_data"
   ]
  },
  {
   "cell_type": "markdown",
   "metadata": {},
   "source": [
    "### Question:\n",
    "\n",
    "Similarly, use the pandas function ```read_csv()``` to load the file ```accidents.csv``` as a DataFrame. Name this DataFrame ```df```. "
   ]
  },
  {
   "cell_type": "markdown",
   "metadata": {},
   "source": [
    "**Answer.** One possible solution is given below:"
   ]
  },
  {
   "cell_type": "code",
   "execution_count": 4,
   "metadata": {},
   "outputs": [
    {
     "data": {
      "text/html": [
       "<div>\n",
       "<style scoped>\n",
       "    .dataframe tbody tr th:only-of-type {\n",
       "        vertical-align: middle;\n",
       "    }\n",
       "\n",
       "    .dataframe tbody tr th {\n",
       "        vertical-align: top;\n",
       "    }\n",
       "\n",
       "    .dataframe thead th {\n",
       "        text-align: right;\n",
       "    }\n",
       "</style>\n",
       "<table border=\"1\" class=\"dataframe\">\n",
       "  <thead>\n",
       "    <tr style=\"text-align: right;\">\n",
       "      <th></th>\n",
       "      <th>DATE</th>\n",
       "      <th>TIME</th>\n",
       "      <th>BOROUGH</th>\n",
       "      <th>ZIP CODE</th>\n",
       "      <th>LATITUDE</th>\n",
       "      <th>LONGITUDE</th>\n",
       "      <th>ON STREET NAME</th>\n",
       "      <th>NUMBER OF PEDESTRIANS INJURED</th>\n",
       "      <th>NUMBER OF PEDESTRIANS KILLED</th>\n",
       "      <th>NUMBER OF CYCLIST INJURED</th>\n",
       "      <th>...</th>\n",
       "      <th>CONTRIBUTING FACTOR VEHICLE 2</th>\n",
       "      <th>CONTRIBUTING FACTOR VEHICLE 3</th>\n",
       "      <th>CONTRIBUTING FACTOR VEHICLE 4</th>\n",
       "      <th>CONTRIBUTING FACTOR VEHICLE 5</th>\n",
       "      <th>COLLISION_ID</th>\n",
       "      <th>VEHICLE TYPE CODE 1</th>\n",
       "      <th>VEHICLE TYPE CODE 2</th>\n",
       "      <th>VEHICLE TYPE CODE 3</th>\n",
       "      <th>VEHICLE TYPE CODE 4</th>\n",
       "      <th>VEHICLE TYPE CODE 5</th>\n",
       "    </tr>\n",
       "  </thead>\n",
       "  <tbody>\n",
       "    <tr>\n",
       "      <th>0</th>\n",
       "      <td>09/26/2018</td>\n",
       "      <td>12:12</td>\n",
       "      <td>BRONX</td>\n",
       "      <td>10454.0</td>\n",
       "      <td>40.808987</td>\n",
       "      <td>-73.911316</td>\n",
       "      <td>NaN</td>\n",
       "      <td>0</td>\n",
       "      <td>0</td>\n",
       "      <td>0</td>\n",
       "      <td>...</td>\n",
       "      <td>NaN</td>\n",
       "      <td>NaN</td>\n",
       "      <td>NaN</td>\n",
       "      <td>NaN</td>\n",
       "      <td>3988123</td>\n",
       "      <td>Sedan</td>\n",
       "      <td>NaN</td>\n",
       "      <td>NaN</td>\n",
       "      <td>NaN</td>\n",
       "      <td>NaN</td>\n",
       "    </tr>\n",
       "    <tr>\n",
       "      <th>1</th>\n",
       "      <td>09/25/2018</td>\n",
       "      <td>16:30</td>\n",
       "      <td>BROOKLYN</td>\n",
       "      <td>11236.0</td>\n",
       "      <td>40.636005</td>\n",
       "      <td>-73.912510</td>\n",
       "      <td>FLATLANDS AVENUE</td>\n",
       "      <td>1</td>\n",
       "      <td>0</td>\n",
       "      <td>0</td>\n",
       "      <td>...</td>\n",
       "      <td>NaN</td>\n",
       "      <td>NaN</td>\n",
       "      <td>NaN</td>\n",
       "      <td>NaN</td>\n",
       "      <td>3987962</td>\n",
       "      <td>Sedan</td>\n",
       "      <td>NaN</td>\n",
       "      <td>NaN</td>\n",
       "      <td>NaN</td>\n",
       "      <td>NaN</td>\n",
       "    </tr>\n",
       "    <tr>\n",
       "      <th>2</th>\n",
       "      <td>08/22/2019</td>\n",
       "      <td>19:30</td>\n",
       "      <td>QUEENS</td>\n",
       "      <td>11101.0</td>\n",
       "      <td>40.755490</td>\n",
       "      <td>-73.939530</td>\n",
       "      <td>NaN</td>\n",
       "      <td>0</td>\n",
       "      <td>0</td>\n",
       "      <td>0</td>\n",
       "      <td>...</td>\n",
       "      <td>NaN</td>\n",
       "      <td>NaN</td>\n",
       "      <td>NaN</td>\n",
       "      <td>NaN</td>\n",
       "      <td>4193132</td>\n",
       "      <td>Sedan</td>\n",
       "      <td>NaN</td>\n",
       "      <td>NaN</td>\n",
       "      <td>NaN</td>\n",
       "      <td>NaN</td>\n",
       "    </tr>\n",
       "    <tr>\n",
       "      <th>3</th>\n",
       "      <td>09/23/2018</td>\n",
       "      <td>13:10</td>\n",
       "      <td>QUEENS</td>\n",
       "      <td>11367.0</td>\n",
       "      <td>NaN</td>\n",
       "      <td>NaN</td>\n",
       "      <td>MAIN STREET</td>\n",
       "      <td>0</td>\n",
       "      <td>0</td>\n",
       "      <td>1</td>\n",
       "      <td>...</td>\n",
       "      <td>Unspecified</td>\n",
       "      <td>NaN</td>\n",
       "      <td>NaN</td>\n",
       "      <td>NaN</td>\n",
       "      <td>3985962</td>\n",
       "      <td>Bike</td>\n",
       "      <td>Station Wagon/Sport Utility Vehicle</td>\n",
       "      <td>NaN</td>\n",
       "      <td>NaN</td>\n",
       "      <td>NaN</td>\n",
       "    </tr>\n",
       "    <tr>\n",
       "      <th>4</th>\n",
       "      <td>08/20/2019</td>\n",
       "      <td>22:40</td>\n",
       "      <td>BRONX</td>\n",
       "      <td>10468.0</td>\n",
       "      <td>40.868336</td>\n",
       "      <td>-73.901270</td>\n",
       "      <td>NaN</td>\n",
       "      <td>0</td>\n",
       "      <td>0</td>\n",
       "      <td>0</td>\n",
       "      <td>...</td>\n",
       "      <td>Unspecified</td>\n",
       "      <td>NaN</td>\n",
       "      <td>NaN</td>\n",
       "      <td>NaN</td>\n",
       "      <td>4192111</td>\n",
       "      <td>Sedan</td>\n",
       "      <td>Sedan</td>\n",
       "      <td>NaN</td>\n",
       "      <td>NaN</td>\n",
       "      <td>NaN</td>\n",
       "    </tr>\n",
       "  </tbody>\n",
       "</table>\n",
       "<p>5 rows × 24 columns</p>\n",
       "</div>"
      ],
      "text/plain": [
       "         DATE   TIME   BOROUGH  ZIP CODE   LATITUDE  LONGITUDE  \\\n",
       "0  09/26/2018  12:12     BRONX   10454.0  40.808987 -73.911316   \n",
       "1  09/25/2018  16:30  BROOKLYN   11236.0  40.636005 -73.912510   \n",
       "2  08/22/2019  19:30    QUEENS   11101.0  40.755490 -73.939530   \n",
       "3  09/23/2018  13:10    QUEENS   11367.0        NaN        NaN   \n",
       "4  08/20/2019  22:40     BRONX   10468.0  40.868336 -73.901270   \n",
       "\n",
       "                     ON STREET NAME  NUMBER OF PEDESTRIANS INJURED  \\\n",
       "0                               NaN                              0   \n",
       "1  FLATLANDS AVENUE                                              1   \n",
       "2                               NaN                              0   \n",
       "3  MAIN STREET                                                   0   \n",
       "4                               NaN                              0   \n",
       "\n",
       "   NUMBER OF PEDESTRIANS KILLED  NUMBER OF CYCLIST INJURED  ...  \\\n",
       "0                             0                          0  ...   \n",
       "1                             0                          0  ...   \n",
       "2                             0                          0  ...   \n",
       "3                             0                          1  ...   \n",
       "4                             0                          0  ...   \n",
       "\n",
       "   CONTRIBUTING FACTOR VEHICLE 2  CONTRIBUTING FACTOR VEHICLE 3  \\\n",
       "0                            NaN                            NaN   \n",
       "1                            NaN                            NaN   \n",
       "2                            NaN                            NaN   \n",
       "3                    Unspecified                            NaN   \n",
       "4                    Unspecified                            NaN   \n",
       "\n",
       "   CONTRIBUTING FACTOR VEHICLE 4 CONTRIBUTING FACTOR VEHICLE 5 COLLISION_ID  \\\n",
       "0                            NaN                           NaN      3988123   \n",
       "1                            NaN                           NaN      3987962   \n",
       "2                            NaN                           NaN      4193132   \n",
       "3                            NaN                           NaN      3985962   \n",
       "4                            NaN                           NaN      4192111   \n",
       "\n",
       "  VEHICLE TYPE CODE 1                  VEHICLE TYPE CODE 2  \\\n",
       "0               Sedan                                  NaN   \n",
       "1               Sedan                                  NaN   \n",
       "2               Sedan                                  NaN   \n",
       "3                Bike  Station Wagon/Sport Utility Vehicle   \n",
       "4               Sedan                                Sedan   \n",
       "\n",
       "  VEHICLE TYPE CODE 3  VEHICLE TYPE CODE 4 VEHICLE TYPE CODE 5  \n",
       "0                 NaN                  NaN                 NaN  \n",
       "1                 NaN                  NaN                 NaN  \n",
       "2                 NaN                  NaN                 NaN  \n",
       "3                 NaN                  NaN                 NaN  \n",
       "4                 NaN                  NaN                 NaN  \n",
       "\n",
       "[5 rows x 24 columns]"
      ]
     },
     "execution_count": 4,
     "metadata": {},
     "output_type": "execute_result"
    }
   ],
   "source": [
    "with open('data/accidents.csv') as f:\n",
    "    df=pd.read_csv(f, delimiter=';')\n",
    "    \n",
    "df.head()"
   ]
  },
  {
   "cell_type": "markdown",
   "metadata": {},
   "source": [
    "## Overview of the data"
   ]
  },
  {
   "cell_type": "markdown",
   "metadata": {},
   "source": [
    "Let's go through the columns present in the dataframe:"
   ]
  },
  {
   "cell_type": "code",
   "execution_count": 5,
   "metadata": {
    "scrolled": true
   },
   "outputs": [
    {
     "data": {
      "text/plain": [
       "Index(['DATE', 'TIME', 'BOROUGH', 'ZIP CODE', 'LATITUDE', 'LONGITUDE',\n",
       "       'ON STREET NAME', 'NUMBER OF PEDESTRIANS INJURED',\n",
       "       'NUMBER OF PEDESTRIANS KILLED', 'NUMBER OF CYCLIST INJURED',\n",
       "       'NUMBER OF CYCLIST KILLED', 'NUMBER OF MOTORIST INJURED',\n",
       "       'NUMBER OF MOTORIST KILLED', 'CONTRIBUTING FACTOR VEHICLE 1',\n",
       "       'CONTRIBUTING FACTOR VEHICLE 2', 'CONTRIBUTING FACTOR VEHICLE 3',\n",
       "       'CONTRIBUTING FACTOR VEHICLE 4', 'CONTRIBUTING FACTOR VEHICLE 5',\n",
       "       'COLLISION_ID', 'VEHICLE TYPE CODE 1', 'VEHICLE TYPE CODE 2',\n",
       "       'VEHICLE TYPE CODE 3', 'VEHICLE TYPE CODE 4', 'VEHICLE TYPE CODE 5'],\n",
       "      dtype='object')"
      ]
     },
     "execution_count": 5,
     "metadata": {},
     "output_type": "execute_result"
    }
   ],
   "source": [
    "df.columns"
   ]
  },
  {
   "cell_type": "markdown",
   "metadata": {},
   "source": [
    "We have the following columns\n",
    "\n",
    "1. **BOROUGH**: The borough in which the accident occured\n",
    "2. **COLLISION_ID**: A unique identifier for this collision\n",
    "3. **CONTRIBUTING FACTOR VEHICLE (1, 2, 3, 4, 5)**: Reasons for the accident\n",
    "4. **CROSS STREET NAME**: Nearest cross street to the place of accidents\n",
    "5. **DATE**: Date of the accident\n",
    "6. **TIME**: Time of accident\n",
    "7. **LATITUDE**: Latitude of the accident\n",
    "8. **LONGITUDE**: Longitude of the accident\n",
    "9. **NUMBER OF (CYCLISTS, MOTORISTS, PEDESTRIANS) INJURED**: Category wise injury\n",
    "10. **NUMBER OF (CYCLISTS, MOTORISTS, PEDESTRIANS) KILLED**: Category wise death\n",
    "11. **ON STREET NAME**: Street where the accident occured\n",
    "13. **VEHICLE TYPE CODE (1, 2, 3, 4, 5)**: Types of vehicles involved in the accident\n",
    "14. **ZIP CODE**: zip code of the accident location"
   ]
  },
  {
   "cell_type": "markdown",
   "metadata": {},
   "source": [
    "### Exercise 1 (30 min):\n",
    "\n",
    "Since 2014, New York City has been implementing a road safety plan named [Vision Zero](https://www1.nyc.gov/content/visionzero/pages/). It aims to reduce the number of traffic deaths to *zero* by the end of 2024. The plan is creating new and enhancing current safety measures, some of these include:\n",
    "\n",
    "- [ ] Automated pedestrian detection\n",
    "- [ ] Road safety audits at high risk locations\n",
    "- [ ] Expansion in the cycle track network\n",
    "- [ ] Targeted education and awareness initiatives\n",
    "- [ ] Creation of pedestrian refuge islands\n",
    "- [ ] Launch Integrated Data-Driven Speed Reducer Program (speed humps & speed cushions)\n",
    "\n",
    "Which of these initiatives could directly benefit from an analysis of the data provided? Check all that apply.\n",
    "\n",
    "**Note:** You can create check marks by double-clicking this cell and adding an ```[x]``` in the corresponding lines. "
   ]
  },
  {
   "cell_type": "markdown",
   "metadata": {},
   "source": [
    "**Answer.**\n",
    "\n",
    "- [ ] Automated pedestrian detection\n",
    "\n",
    "\n",
    "- [x] Road safety audits at high risk locations\n",
    "\n",
    "\n",
    "- [x] Expansion in the cycle track network\n",
    "\n",
    "\n",
    "- [x] Targeted education and awareness initiatives\n",
    "\n",
    "\n",
    "- [x] Creation of pedestrian refuge islands\n",
    "\n",
    "\n",
    "- [x] Launch Integrated Data-Driven Speed Reducer Program (speed humps & speed cushions)\n"
   ]
  },
  {
   "cell_type": "markdown",
   "metadata": {},
   "source": [
    "Let's go ahead and answer each of the client's questions."
   ]
  },
  {
   "cell_type": "markdown",
   "metadata": {},
   "source": [
    "## Answering the client's questions"
   ]
  },
  {
   "cell_type": "markdown",
   "metadata": {},
   "source": [
    "### Exercise 2 (45 min):\n",
    "\n",
    "Group the available data on a monthly basis and generate a line plot of accidents over time. Has the number of accidents increased over the past year and a half?\n",
    "\n",
    "**Hint**: You may find the pandas functions ```to_datetime()``` and ```dt.to_period()``` useful."
   ]
  },
  {
   "cell_type": "markdown",
   "metadata": {},
   "source": [
    "**Answer.**"
   ]
  },
  {
   "cell_type": "code",
   "execution_count": 6,
   "metadata": {},
   "outputs": [],
   "source": [
    "# df.reset_index(inplace=True)\n",
    "df['DATE']=pd.to_datetime(df['DATE'])"
   ]
  },
  {
   "cell_type": "code",
   "execution_count": 7,
   "metadata": {},
   "outputs": [
    {
     "data": {
      "text/html": [
       "<div>\n",
       "<style scoped>\n",
       "    .dataframe tbody tr th:only-of-type {\n",
       "        vertical-align: middle;\n",
       "    }\n",
       "\n",
       "    .dataframe tbody tr th {\n",
       "        vertical-align: top;\n",
       "    }\n",
       "\n",
       "    .dataframe thead th {\n",
       "        text-align: right;\n",
       "    }\n",
       "</style>\n",
       "<table border=\"1\" class=\"dataframe\">\n",
       "  <thead>\n",
       "    <tr style=\"text-align: right;\">\n",
       "      <th></th>\n",
       "      <th>DATE</th>\n",
       "    </tr>\n",
       "    <tr>\n",
       "      <th>DATE</th>\n",
       "      <th></th>\n",
       "    </tr>\n",
       "  </thead>\n",
       "  <tbody>\n",
       "    <tr>\n",
       "      <th>2018-01</th>\n",
       "      <td>11735</td>\n",
       "    </tr>\n",
       "    <tr>\n",
       "      <th>2018-02</th>\n",
       "      <td>10395</td>\n",
       "    </tr>\n",
       "    <tr>\n",
       "      <th>2018-03</th>\n",
       "      <td>12519</td>\n",
       "    </tr>\n",
       "    <tr>\n",
       "      <th>2018-04</th>\n",
       "      <td>11679</td>\n",
       "    </tr>\n",
       "    <tr>\n",
       "      <th>2018-05</th>\n",
       "      <td>13438</td>\n",
       "    </tr>\n",
       "    <tr>\n",
       "      <th>2018-06</th>\n",
       "      <td>13314</td>\n",
       "    </tr>\n",
       "    <tr>\n",
       "      <th>2018-07</th>\n",
       "      <td>12787</td>\n",
       "    </tr>\n",
       "    <tr>\n",
       "      <th>2018-08</th>\n",
       "      <td>12644</td>\n",
       "    </tr>\n",
       "    <tr>\n",
       "      <th>2018-09</th>\n",
       "      <td>12425</td>\n",
       "    </tr>\n",
       "    <tr>\n",
       "      <th>2018-10</th>\n",
       "      <td>13336</td>\n",
       "    </tr>\n",
       "    <tr>\n",
       "      <th>2018-11</th>\n",
       "      <td>12447</td>\n",
       "    </tr>\n",
       "    <tr>\n",
       "      <th>2018-12</th>\n",
       "      <td>12479</td>\n",
       "    </tr>\n",
       "    <tr>\n",
       "      <th>2019-01</th>\n",
       "      <td>11000</td>\n",
       "    </tr>\n",
       "    <tr>\n",
       "      <th>2019-02</th>\n",
       "      <td>10310</td>\n",
       "    </tr>\n",
       "    <tr>\n",
       "      <th>2019-03</th>\n",
       "      <td>11482</td>\n",
       "    </tr>\n",
       "    <tr>\n",
       "      <th>2019-04</th>\n",
       "      <td>10833</td>\n",
       "    </tr>\n",
       "    <tr>\n",
       "      <th>2019-05</th>\n",
       "      <td>12642</td>\n",
       "    </tr>\n",
       "    <tr>\n",
       "      <th>2019-06</th>\n",
       "      <td>12577</td>\n",
       "    </tr>\n",
       "    <tr>\n",
       "      <th>2019-07</th>\n",
       "      <td>12014</td>\n",
       "    </tr>\n",
       "    <tr>\n",
       "      <th>2019-08</th>\n",
       "      <td>8466</td>\n",
       "    </tr>\n",
       "  </tbody>\n",
       "</table>\n",
       "</div>"
      ],
      "text/plain": [
       "          DATE\n",
       "DATE          \n",
       "2018-01  11735\n",
       "2018-02  10395\n",
       "2018-03  12519\n",
       "2018-04  11679\n",
       "2018-05  13438\n",
       "2018-06  13314\n",
       "2018-07  12787\n",
       "2018-08  12644\n",
       "2018-09  12425\n",
       "2018-10  13336\n",
       "2018-11  12447\n",
       "2018-12  12479\n",
       "2019-01  11000\n",
       "2019-02  10310\n",
       "2019-03  11482\n",
       "2019-04  10833\n",
       "2019-05  12642\n",
       "2019-06  12577\n",
       "2019-07  12014\n",
       "2019-08   8466"
      ]
     },
     "execution_count": 7,
     "metadata": {},
     "output_type": "execute_result"
    }
   ],
   "source": [
    "monthly = df['DATE']\n",
    "# print(monthly.head())\n",
    "monthly = pd.DataFrame(monthly)\n",
    "# monthly.DATE.dt.to_period('M')\n",
    "monthly = pd.DataFrame(monthly['DATE'].groupby(monthly.DATE.dt.to_period('M')).agg('count'))\n",
    "monthly"
   ]
  },
  {
   "cell_type": "code",
   "execution_count": 8,
   "metadata": {
    "scrolled": false
   },
   "outputs": [
    {
     "data": {
      "image/png": "[encoded data removed]",
      "text/plain": [
       "<Figure size 864x540 with 1 Axes>"
      ]
     },
     "metadata": {
      "needs_background": "light"
     },
     "output_type": "display_data"
    }
   ],
   "source": [
    "ax = monthly.plot.line(y='DATE', legend=False, figsize = (12, 7.5))\n",
    "# ax = monthly.plot.bar(y='DATE', legend=False, figsize = (12, 7.5))\n",
    "\n",
    "ax.set_xlabel(\"Month\", labelpad=18, fontsize=16, fontweight='bold')\n",
    "ax.set_ylabel(\"# Accidents\", labelpad=18, fontsize=16, fontweight='bold')\n",
    "ax.set_title('Accidents per month from 2018-01 to 2019-08', fontsize=20, fontweight='bold', pad=15)\n",
    "ax.tick_params(axis='x', rotation=45)\n",
    "plt.show()"
   ]
  },
  {
   "cell_type": "markdown",
   "metadata": {},
   "source": [
    "**Additional comment:** From the plot above, we can see that the maximum amount of accidents ocurred in May-2018. Also, we can see that it decresed since that month until Feb-2019, with the only exception of Oct-2018 which had a very high number of accidents. Also, we can see that compared to the same month in 2018, there have been less accidents every month in 2019."
   ]
  },
  {
   "cell_type": "markdown",
   "metadata": {},
   "source": [
    "### Exercise 3 (20 min):\n",
    "\n",
    "From the plot above, which months seem to have the least number of accidents? What do you think are the reasons behind this?"
   ]
  },
  {
   "cell_type": "markdown",
   "metadata": {},
   "source": [
    "**Answer.**\n",
    "From the plot above, it is clear that Aug-2019 is the month with the lowest number of accidents. But, we should check what is the amount of data we have from that month."
   ]
  },
  {
   "cell_type": "code",
   "execution_count": 17,
   "metadata": {},
   "outputs": [
    {
     "data": {
      "text/plain": [
       "Period('2019-08', 'M')"
      ]
     },
     "execution_count": 17,
     "metadata": {},
     "output_type": "execute_result"
    }
   ],
   "source": [
    "# monthly[monthly==monthly.min()]\n",
    "monthly.index[monthly[\"DATE\"].argmin()]"
   ]
  },
  {
   "cell_type": "code",
   "execution_count": 18,
   "metadata": {},
   "outputs": [
    {
     "name": "stdout",
     "output_type": "stream",
     "text": [
      "3165    2019-08-24\n",
      "3081    2019-08-24\n",
      "15404   2019-08-24\n",
      "5104    2019-08-24\n",
      "5112    2019-08-24\n",
      "Name: DATE, dtype: datetime64[ns]\n"
     ]
    },
    {
     "data": {
      "text/html": [
       "<div>\n",
       "<style scoped>\n",
       "    .dataframe tbody tr th:only-of-type {\n",
       "        vertical-align: middle;\n",
       "    }\n",
       "\n",
       "    .dataframe tbody tr th {\n",
       "        vertical-align: top;\n",
       "    }\n",
       "\n",
       "    .dataframe thead th {\n",
       "        text-align: right;\n",
       "    }\n",
       "</style>\n",
       "<table border=\"1\" class=\"dataframe\">\n",
       "  <thead>\n",
       "    <tr style=\"text-align: right;\">\n",
       "      <th></th>\n",
       "      <th>DATE</th>\n",
       "    </tr>\n",
       "    <tr>\n",
       "      <th>DATE</th>\n",
       "      <th></th>\n",
       "    </tr>\n",
       "  </thead>\n",
       "  <tbody>\n",
       "    <tr>\n",
       "      <th>2018-01-01/2018-01-07</th>\n",
       "      <td>2581</td>\n",
       "    </tr>\n",
       "    <tr>\n",
       "      <th>2018-01-08/2018-01-14</th>\n",
       "      <td>2953</td>\n",
       "    </tr>\n",
       "    <tr>\n",
       "      <th>2018-01-15/2018-01-21</th>\n",
       "      <td>2583</td>\n",
       "    </tr>\n",
       "    <tr>\n",
       "      <th>2018-01-22/2018-01-28</th>\n",
       "      <td>2508</td>\n",
       "    </tr>\n",
       "    <tr>\n",
       "      <th>2018-01-29/2018-02-04</th>\n",
       "      <td>2570</td>\n",
       "    </tr>\n",
       "    <tr>\n",
       "      <th>...</th>\n",
       "      <td>...</td>\n",
       "    </tr>\n",
       "    <tr>\n",
       "      <th>2019-07-22/2019-07-28</th>\n",
       "      <td>2731</td>\n",
       "    </tr>\n",
       "    <tr>\n",
       "      <th>2019-07-29/2019-08-04</th>\n",
       "      <td>2695</td>\n",
       "    </tr>\n",
       "    <tr>\n",
       "      <th>2019-08-05/2019-08-11</th>\n",
       "      <td>2635</td>\n",
       "    </tr>\n",
       "    <tr>\n",
       "      <th>2019-08-12/2019-08-18</th>\n",
       "      <td>2388</td>\n",
       "    </tr>\n",
       "    <tr>\n",
       "      <th>2019-08-19/2019-08-25</th>\n",
       "      <td>1977</td>\n",
       "    </tr>\n",
       "  </tbody>\n",
       "</table>\n",
       "<p>86 rows × 1 columns</p>\n",
       "</div>"
      ],
      "text/plain": [
       "                       DATE\n",
       "DATE                       \n",
       "2018-01-01/2018-01-07  2581\n",
       "2018-01-08/2018-01-14  2953\n",
       "2018-01-15/2018-01-21  2583\n",
       "2018-01-22/2018-01-28  2508\n",
       "2018-01-29/2018-02-04  2570\n",
       "...                     ...\n",
       "2019-07-22/2019-07-28  2731\n",
       "2019-07-29/2019-08-04  2695\n",
       "2019-08-05/2019-08-11  2635\n",
       "2019-08-12/2019-08-18  2388\n",
       "2019-08-19/2019-08-25  1977\n",
       "\n",
       "[86 rows x 1 columns]"
      ]
     },
     "execution_count": 18,
     "metadata": {},
     "output_type": "execute_result"
    }
   ],
   "source": [
    "df.sort_values(by=['DATE'], inplace=True, ascending=False)\n",
    "print(df['DATE'].head())\n",
    "weekly = pd.DataFrame(df['DATE'])\n",
    "weekly_ = pd.DataFrame(df['DATE'].groupby(weekly.DATE.dt.to_period('W')).agg('count'))\n",
    "weekly_"
   ]
  },
  {
   "cell_type": "code",
   "execution_count": 290,
   "metadata": {},
   "outputs": [
    {
     "data": {
      "image/png": "[encoded data removed]",
      "text/plain": [
       "<Figure size 864x540 with 1 Axes>"
      ]
     },
     "metadata": {
      "needs_background": "light"
     },
     "output_type": "display_data"
    }
   ],
   "source": [
    "ax = weekly_.plot(y='DATE', legend=False, figsize = (12, 7.5),style='o-', markevery=1)\n",
    "ax.set_xlabel(\"Week\", labelpad=18, fontsize=16, fontweight='bold')\n",
    "ax.set_ylabel(\"# Accidents\", labelpad=18, fontsize=16, fontweight='bold')\n",
    "ax.set_title('Accidents per week', fontsize=20, fontweight='bold', pad=15)\n",
    "ax.tick_params(axis='x', rotation=45)\n",
    "# ax.plot(, markevery=1)\n",
    "plt.show()"
   ]
  },
  {
   "cell_type": "markdown",
   "metadata": {},
   "source": [
    "**Answer continued.**\n",
    "From the previous analysis, it is noticeable that we only have data until August 24th. Also, given the weekly plot, it is highly unlikely that the last week of August had 0 accidents. Therefore, we could be simply facing a lack of data. Moreover, the last week is the week with the least amount of accidents, with **1977** . In a best case scenario, that being the last week of August following the trend of previous weeks. The amount of accident might have been around 1500. Giving us a total of roughly **10000** accidents by the end of August, which is similar to other months, like Jan-2019."
   ]
  },
  {
   "cell_type": "markdown",
   "metadata": {},
   "source": [
    "### Exercise 4 (40 min):\n",
    "\n",
    "How does the number of accidents vary throughout a single day? Create a new column `HOUR` based on the data from the `TIME` column, then plot a bar graph of the distribution per hour throughout the day.\n",
    "\n",
    "**Hint:** You may find the function ```dt.hour``` useful. "
   ]
  },
  {
   "cell_type": "markdown",
   "metadata": {},
   "source": [
    "**Answer.**"
   ]
  },
  {
   "cell_type": "code",
   "execution_count": 291,
   "metadata": {},
   "outputs": [],
   "source": [
    "df.loc[:,'TIME'] = pd.to_datetime(df.TIME, format='%H:%M')"
   ]
  },
  {
   "cell_type": "code",
   "execution_count": 292,
   "metadata": {},
   "outputs": [
    {
     "data": {
      "text/html": [
       "<div>\n",
       "<style scoped>\n",
       "    .dataframe tbody tr th:only-of-type {\n",
       "        vertical-align: middle;\n",
       "    }\n",
       "\n",
       "    .dataframe tbody tr th {\n",
       "        vertical-align: top;\n",
       "    }\n",
       "\n",
       "    .dataframe thead th {\n",
       "        text-align: right;\n",
       "    }\n",
       "</style>\n",
       "<table border=\"1\" class=\"dataframe\">\n",
       "  <thead>\n",
       "    <tr style=\"text-align: right;\">\n",
       "      <th></th>\n",
       "      <th>DATE</th>\n",
       "      <th>TIME</th>\n",
       "      <th>BOROUGH</th>\n",
       "      <th>ZIP CODE</th>\n",
       "      <th>LATITUDE</th>\n",
       "      <th>LONGITUDE</th>\n",
       "      <th>ON STREET NAME</th>\n",
       "      <th>NUMBER OF PEDESTRIANS INJURED</th>\n",
       "      <th>NUMBER OF PEDESTRIANS KILLED</th>\n",
       "      <th>NUMBER OF CYCLIST INJURED</th>\n",
       "      <th>...</th>\n",
       "      <th>CONTRIBUTING FACTOR VEHICLE 2</th>\n",
       "      <th>CONTRIBUTING FACTOR VEHICLE 3</th>\n",
       "      <th>CONTRIBUTING FACTOR VEHICLE 4</th>\n",
       "      <th>CONTRIBUTING FACTOR VEHICLE 5</th>\n",
       "      <th>COLLISION_ID</th>\n",
       "      <th>VEHICLE TYPE CODE 1</th>\n",
       "      <th>VEHICLE TYPE CODE 2</th>\n",
       "      <th>VEHICLE TYPE CODE 3</th>\n",
       "      <th>VEHICLE TYPE CODE 4</th>\n",
       "      <th>VEHICLE TYPE CODE 5</th>\n",
       "    </tr>\n",
       "  </thead>\n",
       "  <tbody>\n",
       "    <tr>\n",
       "      <th>3165</th>\n",
       "      <td>2019-08-24</td>\n",
       "      <td>1900-01-01 22:00:00</td>\n",
       "      <td>MANHATTAN</td>\n",
       "      <td>10022.0</td>\n",
       "      <td>40.758980</td>\n",
       "      <td>-73.96244</td>\n",
       "      <td>1 AVENUE</td>\n",
       "      <td>0</td>\n",
       "      <td>0</td>\n",
       "      <td>0</td>\n",
       "      <td>...</td>\n",
       "      <td>Driver Inattention/Distraction</td>\n",
       "      <td>NaN</td>\n",
       "      <td>NaN</td>\n",
       "      <td>NaN</td>\n",
       "      <td>4193901</td>\n",
       "      <td>Taxi</td>\n",
       "      <td>Box Truck</td>\n",
       "      <td>NaN</td>\n",
       "      <td>NaN</td>\n",
       "      <td>NaN</td>\n",
       "    </tr>\n",
       "    <tr>\n",
       "      <th>3081</th>\n",
       "      <td>2019-08-24</td>\n",
       "      <td>1900-01-01 15:08:00</td>\n",
       "      <td>BROOKLYN</td>\n",
       "      <td>11228.0</td>\n",
       "      <td>40.616695</td>\n",
       "      <td>-74.00761</td>\n",
       "      <td>79 STREET</td>\n",
       "      <td>0</td>\n",
       "      <td>0</td>\n",
       "      <td>0</td>\n",
       "      <td>...</td>\n",
       "      <td>Unspecified</td>\n",
       "      <td>NaN</td>\n",
       "      <td>NaN</td>\n",
       "      <td>NaN</td>\n",
       "      <td>4193831</td>\n",
       "      <td>Sedan</td>\n",
       "      <td>Sedan</td>\n",
       "      <td>NaN</td>\n",
       "      <td>NaN</td>\n",
       "      <td>NaN</td>\n",
       "    </tr>\n",
       "    <tr>\n",
       "      <th>15404</th>\n",
       "      <td>2019-08-24</td>\n",
       "      <td>1900-01-01 17:06:00</td>\n",
       "      <td>BROOKLYN</td>\n",
       "      <td>11226.0</td>\n",
       "      <td>40.652170</td>\n",
       "      <td>-73.96141</td>\n",
       "      <td>CATON AVENUE</td>\n",
       "      <td>0</td>\n",
       "      <td>0</td>\n",
       "      <td>0</td>\n",
       "      <td>...</td>\n",
       "      <td>Unspecified</td>\n",
       "      <td>NaN</td>\n",
       "      <td>NaN</td>\n",
       "      <td>NaN</td>\n",
       "      <td>4193923</td>\n",
       "      <td>Station Wagon/Sport Utility Vehicle</td>\n",
       "      <td>Sedan</td>\n",
       "      <td>NaN</td>\n",
       "      <td>NaN</td>\n",
       "      <td>NaN</td>\n",
       "    </tr>\n",
       "    <tr>\n",
       "      <th>5104</th>\n",
       "      <td>2019-08-24</td>\n",
       "      <td>1900-01-01 10:51:00</td>\n",
       "      <td>QUEENS</td>\n",
       "      <td>11361.0</td>\n",
       "      <td>40.760800</td>\n",
       "      <td>-73.76570</td>\n",
       "      <td>NORTHERN BOULEVARD</td>\n",
       "      <td>0</td>\n",
       "      <td>0</td>\n",
       "      <td>0</td>\n",
       "      <td>...</td>\n",
       "      <td>Unspecified</td>\n",
       "      <td>NaN</td>\n",
       "      <td>NaN</td>\n",
       "      <td>NaN</td>\n",
       "      <td>4193786</td>\n",
       "      <td>Sedan</td>\n",
       "      <td>Sedan</td>\n",
       "      <td>NaN</td>\n",
       "      <td>NaN</td>\n",
       "      <td>NaN</td>\n",
       "    </tr>\n",
       "    <tr>\n",
       "      <th>5112</th>\n",
       "      <td>2019-08-24</td>\n",
       "      <td>1900-01-01 15:20:00</td>\n",
       "      <td>QUEENS</td>\n",
       "      <td>11412.0</td>\n",
       "      <td>40.693170</td>\n",
       "      <td>-73.75688</td>\n",
       "      <td>LINDEN BOULEVARD</td>\n",
       "      <td>0</td>\n",
       "      <td>0</td>\n",
       "      <td>0</td>\n",
       "      <td>...</td>\n",
       "      <td>Unspecified</td>\n",
       "      <td>NaN</td>\n",
       "      <td>NaN</td>\n",
       "      <td>NaN</td>\n",
       "      <td>4194228</td>\n",
       "      <td>Sedan</td>\n",
       "      <td>Motorbike</td>\n",
       "      <td>NaN</td>\n",
       "      <td>NaN</td>\n",
       "      <td>NaN</td>\n",
       "    </tr>\n",
       "  </tbody>\n",
       "</table>\n",
       "<p>5 rows × 24 columns</p>\n",
       "</div>"
      ],
      "text/plain": [
       "            DATE                TIME    BOROUGH  ZIP CODE   LATITUDE  \\\n",
       "3165  2019-08-24 1900-01-01 22:00:00  MANHATTAN   10022.0  40.758980   \n",
       "3081  2019-08-24 1900-01-01 15:08:00   BROOKLYN   11228.0  40.616695   \n",
       "15404 2019-08-24 1900-01-01 17:06:00   BROOKLYN   11226.0  40.652170   \n",
       "5104  2019-08-24 1900-01-01 10:51:00     QUEENS   11361.0  40.760800   \n",
       "5112  2019-08-24 1900-01-01 15:20:00     QUEENS   11412.0  40.693170   \n",
       "\n",
       "       LONGITUDE                    ON STREET NAME  \\\n",
       "3165   -73.96244  1 AVENUE                           \n",
       "3081   -74.00761  79 STREET                          \n",
       "15404  -73.96141  CATON AVENUE                       \n",
       "5104   -73.76570  NORTHERN BOULEVARD                 \n",
       "5112   -73.75688  LINDEN BOULEVARD                   \n",
       "\n",
       "       NUMBER OF PEDESTRIANS INJURED  NUMBER OF PEDESTRIANS KILLED  \\\n",
       "3165                               0                             0   \n",
       "3081                               0                             0   \n",
       "15404                              0                             0   \n",
       "5104                               0                             0   \n",
       "5112                               0                             0   \n",
       "\n",
       "       NUMBER OF CYCLIST INJURED  ...   CONTRIBUTING FACTOR VEHICLE 2  \\\n",
       "3165                           0  ...  Driver Inattention/Distraction   \n",
       "3081                           0  ...                     Unspecified   \n",
       "15404                          0  ...                     Unspecified   \n",
       "5104                           0  ...                     Unspecified   \n",
       "5112                           0  ...                     Unspecified   \n",
       "\n",
       "       CONTRIBUTING FACTOR VEHICLE 3  CONTRIBUTING FACTOR VEHICLE 4  \\\n",
       "3165                             NaN                            NaN   \n",
       "3081                             NaN                            NaN   \n",
       "15404                            NaN                            NaN   \n",
       "5104                             NaN                            NaN   \n",
       "5112                             NaN                            NaN   \n",
       "\n",
       "      CONTRIBUTING FACTOR VEHICLE 5 COLLISION_ID  \\\n",
       "3165                            NaN      4193901   \n",
       "3081                            NaN      4193831   \n",
       "15404                           NaN      4193923   \n",
       "5104                            NaN      4193786   \n",
       "5112                            NaN      4194228   \n",
       "\n",
       "                       VEHICLE TYPE CODE 1 VEHICLE TYPE CODE 2  \\\n",
       "3165                                  Taxi           Box Truck   \n",
       "3081                                 Sedan               Sedan   \n",
       "15404  Station Wagon/Sport Utility Vehicle               Sedan   \n",
       "5104                                 Sedan               Sedan   \n",
       "5112                                 Sedan           Motorbike   \n",
       "\n",
       "      VEHICLE TYPE CODE 3  VEHICLE TYPE CODE 4 VEHICLE TYPE CODE 5  \n",
       "3165                  NaN                  NaN                 NaN  \n",
       "3081                  NaN                  NaN                 NaN  \n",
       "15404                 NaN                  NaN                 NaN  \n",
       "5104                  NaN                  NaN                 NaN  \n",
       "5112                  NaN                  NaN                 NaN  \n",
       "\n",
       "[5 rows x 24 columns]"
      ]
     },
     "execution_count": 292,
     "metadata": {},
     "output_type": "execute_result"
    }
   ],
   "source": [
    "# df['TIME'] = pd.Series([val.time() for val in df['TIME']])\n",
    "# df['DATE_TIME']=df.apply(lambda r : pd.datetime.combine(r['DATE'],r['TIME']),1)\n",
    "df.head()"
   ]
  },
  {
   "cell_type": "code",
   "execution_count": 293,
   "metadata": {},
   "outputs": [
    {
     "data": {
      "image/png": "[encoded data removed]",
      "text/plain": [
       "<Figure size 864x540 with 1 Axes>"
      ]
     },
     "metadata": {
      "needs_background": "light"
     },
     "output_type": "display_data"
    }
   ],
   "source": [
    "hourly = pd.DataFrame(df['TIME'])\n",
    "hourly_ = pd.DataFrame(df['TIME'].groupby(hourly.TIME.dt.hour).agg('count'))\n",
    "hourly_\n",
    "\n",
    "ax = hourly_.plot.bar(y='TIME', legend=False, figsize = (12, 7.5))\n",
    "ax.set_xlabel(\"Hour\", labelpad=18, fontsize=16, fontweight='bold')\n",
    "ax.set_ylabel(\"# Accidents\", labelpad=18, fontsize=16, fontweight='bold')\n",
    "ax.set_title('Accumulated accidents that ocurred at the same hour (not day)', fontsize=20, fontweight='bold', pad=15)\n",
    "ax.tick_params(axis='x', rotation=45)\n",
    "plt.show()"
   ]
  },
  {
   "cell_type": "markdown",
   "metadata": {},
   "source": [
    "### Exercise 5 (15 min):\n",
    "\n",
    "In the above question we have aggregated the number accidents per hour disregarding the date and place of ocurrence. Which criticism would you give to this approach?"
   ]
  },
  {
   "cell_type": "markdown",
   "metadata": {},
   "source": [
    "**Answer.**\n",
    "Here, since we are not considering the date or place, we are in a clear example of the Simpson Paradox. The information accumulated in such a broad way, provides information that leads to over-generalized conclusions. Probably misleading if we group by date or borough."
   ]
  },
  {
   "cell_type": "markdown",
   "metadata": {},
   "source": [
    "### Exercise 6:\n",
    "\n",
    "How does the number of accidents vary throughout a single week? Plot a bar graph based on the accidents count by day of the week.\n",
    "\n",
    "**Hint:** You may find the function ```dt.weekday``` useful."
   ]
  },
  {
   "cell_type": "markdown",
   "metadata": {},
   "source": [
    "**Answer.**"
   ]
  },
  {
   "cell_type": "code",
   "execution_count": 294,
   "metadata": {
    "scrolled": false
   },
   "outputs": [
    {
     "name": "stdout",
     "output_type": "stream",
     "text": [
      "       DATE\n",
      "DATE       \n",
      "0     34719\n",
      "1     35651\n",
      "2     35188\n",
      "3     36254\n",
      "4     37886\n",
      "5     31784\n",
      "6     27040\n"
     ]
    }
   ],
   "source": [
    "week_day = pd.DataFrame(df['DATE'])\n",
    "week_day_ = pd.DataFrame(df['DATE'].groupby(week_day.DATE.dt.weekday).agg('count'))\n",
    "print(week_day_)"
   ]
  },
  {
   "cell_type": "code",
   "execution_count": 295,
   "metadata": {},
   "outputs": [
    {
     "name": "stdout",
     "output_type": "stream",
     "text": [
      "    DATE        Day\n",
      "0  34719     Monday\n",
      "1  35651    Tuesday\n",
      "2  35188  Wednesday\n",
      "3  36254   Thursday\n",
      "4  37886     Friday\n",
      "5  31784   Saturday\n",
      "6  27040     Sunday\n"
     ]
    }
   ],
   "source": [
    "week_day_.reset_index(drop=True, inplace=True)\n",
    "x = ['Monday', 'Tuesday', 'Wednesday', 'Thursday', 'Friday', 'Saturday', 'Sunday']\n",
    "week_day_['Day'] = x\n",
    "week_day_.set_index('Day')\n",
    "print(week_day_)"
   ]
  },
  {
   "cell_type": "code",
   "execution_count": 296,
   "metadata": {},
   "outputs": [
    {
     "data": {
      "image/png": "[encoded data removed]",
      "text/plain": [
       "<Figure size 864x540 with 1 Axes>"
      ]
     },
     "metadata": {
      "needs_background": "light"
     },
     "output_type": "display_data"
    }
   ],
   "source": [
    "ax = week_day_.plot.bar(x='Day',y='DATE', legend=False, figsize = (12, 7.5))\n",
    "ax.set_xlabel(\"Day\", labelpad=18, fontsize=16, fontweight='bold')\n",
    "ax.set_ylabel(\"# Accidents\", labelpad=18, fontsize=16, fontweight='bold')\n",
    "ax.set_title('Accumulated accidents per day of the week', fontsize=20, fontweight='bold', pad=15)\n",
    "ax.tick_params(axis='x', rotation=45)\n",
    "plt.show()"
   ]
  },
  {
   "cell_type": "markdown",
   "metadata": {},
   "source": [
    "**Answer** We can see that this can be misleading as well. Given that we do not discriminate by place or date."
   ]
  },
  {
   "cell_type": "markdown",
   "metadata": {},
   "source": [
    "### Exercise 7 (40 min):\n",
    "\n",
    "Plot a bar graph of the total number of accidents in each borough, as well as one of the accidents per square mile per borough. What can you conclude?\n",
    "\n",
    "**Hint:** You may want to update some of the keys in the borough dictionary to match the names in the dataframe. "
   ]
  },
  {
   "cell_type": "code",
   "execution_count": 297,
   "metadata": {},
   "outputs": [
    {
     "name": "stdout",
     "output_type": "stream",
     "text": [
      "['MANHATTAN' 'BROOKLYN' 'QUEENS' 'BRONX' 'STATEN ISLAND']\n",
      "the bronx\n",
      "brooklyn\n",
      "manhattan\n",
      "queens\n",
      "staten island\n"
     ]
    }
   ],
   "source": [
    "print(df['BOROUGH'].unique())\n",
    "bor=df['BOROUGH'].unique()\n",
    "borough_data_2=dict()\n",
    "for key in borough_data.keys():\n",
    "    print(key)\n",
    "    for borough in bor:\n",
    "        if borough.lower() in key:\n",
    "            borough_data_2[borough]= borough_data[key]"
   ]
  },
  {
   "cell_type": "code",
   "execution_count": 298,
   "metadata": {},
   "outputs": [
    {
     "name": "stdout",
     "output_type": "stream",
     "text": [
      "{'BRONX': {'name': 'the bronx', 'population': 1471160.0, 'area': 42.1}, 'BROOKLYN': {'name': 'brooklyn', 'population': 2648771.0, 'area': 70.82}, 'MANHATTAN': {'name': 'manhattan', 'population': 1664727.0, 'area': 22.83}, 'QUEENS': {'name': 'queens', 'population': 2358582.0, 'area': 108.53}, 'STATEN ISLAND': {'name': 'staten island', 'population': 479458.0, 'area': 58.37}}\n"
     ]
    }
   ],
   "source": [
    "#This should not print anything\n",
    "for key in borough_data_2.keys():\n",
    "    if key not in bor:\n",
    "        print('Failed test')\n",
    "        \n",
    "print(borough_data_2)"
   ]
  },
  {
   "cell_type": "code",
   "execution_count": 299,
   "metadata": {
    "scrolled": false
   },
   "outputs": [
    {
     "name": "stdout",
     "output_type": "stream",
     "text": [
      "               BOROUGH\n",
      "BOROUGH               \n",
      "BRONX            37709\n",
      "BROOKLYN         76253\n",
      "MANHATTAN        48749\n",
      "QUEENS           67120\n",
      "STATEN ISLAND     8691\n",
      "               BOROUGH           name  population    area\n",
      "BOROUGH                                                  \n",
      "BRONX            37709      the bronx   1471160.0   42.10\n",
      "BROOKLYN         76253       brooklyn   2648771.0   70.82\n",
      "MANHATTAN        48749      manhattan   1664727.0   22.83\n",
      "QUEENS           67120         queens   2358582.0  108.53\n",
      "STATEN ISLAND     8691  staten island    479458.0   58.37\n",
      "                         0\n",
      "BOROUGH                   \n",
      "BRONX           895.700713\n",
      "BROOKLYN       1076.715617\n",
      "MANHATTAN      2135.304424\n",
      "QUEENS          618.446512\n",
      "STATEN ISLAND   148.894980\n"
     ]
    }
   ],
   "source": [
    "by_borough = pd.DataFrame(df['BOROUGH'])\n",
    "by_borough_ = pd.DataFrame(df.groupby('BOROUGH')['BOROUGH'].agg('count'))\n",
    "print(by_borough_)\n",
    "\n",
    "bd_df = pd.DataFrame.from_dict(borough_data_2, orient='index')\n",
    "\n",
    "by_borough_ = pd.concat([by_borough_['BOROUGH'], bd_df], axis=1)\n",
    "print(by_borough_)\n",
    "area = pd.DataFrame(by_borough_['BOROUGH']/by_borough_['area'])\n",
    "print(area)\n",
    "# area.columns"
   ]
  },
  {
   "cell_type": "code",
   "execution_count": 300,
   "metadata": {},
   "outputs": [
    {
     "data": {
      "image/png": "[encoded data removed]",
      "text/plain": [
       "<Figure size 864x540 with 1 Axes>"
      ]
     },
     "metadata": {
      "needs_background": "light"
     },
     "output_type": "display_data"
    },
    {
     "data": {
      "image/png": "[encoded data removed]",
      "text/plain": [
       "<Figure size 864x540 with 1 Axes>"
      ]
     },
     "metadata": {
      "needs_background": "light"
     },
     "output_type": "display_data"
    }
   ],
   "source": [
    "ax = by_borough_.plot.bar(y=['BOROUGH'], legend=False, figsize = (12, 7.5))\n",
    "ax.set_xlabel(\"Borough\", labelpad=18, fontsize=16, fontweight='bold')\n",
    "ax.set_ylabel(\"# Accidents\", labelpad=18, fontsize=16, fontweight='bold')\n",
    "ax.set_title('Accumulated accidents per borough', fontsize=20, fontweight='bold', pad=15)\n",
    "ax.tick_params(axis='x', rotation=45)\n",
    "\n",
    "ax1 = area.plot.bar(y=0, legend=False, figsize = (12, 7.5))\n",
    "ax1.set_xlabel(\"Borough\", labelpad=18, fontsize=16, fontweight='bold')\n",
    "ax1.set_ylabel(\"# Accidents per square mile\", labelpad=18, fontsize=16, fontweight='bold')\n",
    "ax1.set_title('Accumulated accidents per square mile per borough', fontsize=20, fontweight='bold', pad=15)\n",
    "ax1.tick_params(axis='x', rotation=45)\n",
    "\n",
    "plt.show()\n"
   ]
  },
  {
   "cell_type": "markdown",
   "metadata": {},
   "source": [
    "**Answer.** From the previous plots, we can see that, despite there are more accidents in Brooklyn and Queens, they are much bigger boroughs that the rest. This is also misleading, because it is natural to have more accidents in a bigger location because there are more streets, crossings and probably connections to other locations. It is only when normalized by the area of each borough that we can notice that Manhattan has the biggest issue, because they have the highest number of accidents per square mile by far. Doubling the number of Brooklyn, which is second."
   ]
  },
  {
   "cell_type": "markdown",
   "metadata": {},
   "source": [
    "### Exercise 8 (40 min):\n",
    "\n",
    "Which hours have the most accidents for each borough? Plot a bar graph for each borough showing the number of accidents for each hour of the day.\n",
    "\n",
    "**Hint:** You can use ```sns.FacetGrid``` to create a grid of plots with the hourly data of each borough. "
   ]
  },
  {
   "cell_type": "code",
   "execution_count": 301,
   "metadata": {},
   "outputs": [
    {
     "data": {
      "text/html": [
       "<div>\n",
       "<style scoped>\n",
       "    .dataframe tbody tr th:only-of-type {\n",
       "        vertical-align: middle;\n",
       "    }\n",
       "\n",
       "    .dataframe tbody tr th {\n",
       "        vertical-align: top;\n",
       "    }\n",
       "\n",
       "    .dataframe thead th {\n",
       "        text-align: right;\n",
       "    }\n",
       "</style>\n",
       "<table border=\"1\" class=\"dataframe\">\n",
       "  <thead>\n",
       "    <tr style=\"text-align: right;\">\n",
       "      <th></th>\n",
       "      <th>BOROUGH</th>\n",
       "      <th>TIME</th>\n",
       "      <th>COUNT</th>\n",
       "    </tr>\n",
       "  </thead>\n",
       "  <tbody>\n",
       "    <tr>\n",
       "      <th>0</th>\n",
       "      <td>BRONX</td>\n",
       "      <td>0</td>\n",
       "      <td>1329</td>\n",
       "    </tr>\n",
       "    <tr>\n",
       "      <th>1</th>\n",
       "      <td>BRONX</td>\n",
       "      <td>1</td>\n",
       "      <td>529</td>\n",
       "    </tr>\n",
       "    <tr>\n",
       "      <th>2</th>\n",
       "      <td>BRONX</td>\n",
       "      <td>2</td>\n",
       "      <td>402</td>\n",
       "    </tr>\n",
       "    <tr>\n",
       "      <th>3</th>\n",
       "      <td>BRONX</td>\n",
       "      <td>3</td>\n",
       "      <td>361</td>\n",
       "    </tr>\n",
       "    <tr>\n",
       "      <th>4</th>\n",
       "      <td>BRONX</td>\n",
       "      <td>4</td>\n",
       "      <td>418</td>\n",
       "    </tr>\n",
       "    <tr>\n",
       "      <th>...</th>\n",
       "      <td>...</td>\n",
       "      <td>...</td>\n",
       "      <td>...</td>\n",
       "    </tr>\n",
       "    <tr>\n",
       "      <th>115</th>\n",
       "      <td>STATEN ISLAND</td>\n",
       "      <td>19</td>\n",
       "      <td>415</td>\n",
       "    </tr>\n",
       "    <tr>\n",
       "      <th>116</th>\n",
       "      <td>STATEN ISLAND</td>\n",
       "      <td>20</td>\n",
       "      <td>367</td>\n",
       "    </tr>\n",
       "    <tr>\n",
       "      <th>117</th>\n",
       "      <td>STATEN ISLAND</td>\n",
       "      <td>21</td>\n",
       "      <td>268</td>\n",
       "    </tr>\n",
       "    <tr>\n",
       "      <th>118</th>\n",
       "      <td>STATEN ISLAND</td>\n",
       "      <td>22</td>\n",
       "      <td>224</td>\n",
       "    </tr>\n",
       "    <tr>\n",
       "      <th>119</th>\n",
       "      <td>STATEN ISLAND</td>\n",
       "      <td>23</td>\n",
       "      <td>174</td>\n",
       "    </tr>\n",
       "  </tbody>\n",
       "</table>\n",
       "<p>120 rows × 3 columns</p>\n",
       "</div>"
      ],
      "text/plain": [
       "           BOROUGH  TIME  COUNT\n",
       "0            BRONX     0   1329\n",
       "1            BRONX     1    529\n",
       "2            BRONX     2    402\n",
       "3            BRONX     3    361\n",
       "4            BRONX     4    418\n",
       "..             ...   ...    ...\n",
       "115  STATEN ISLAND    19    415\n",
       "116  STATEN ISLAND    20    367\n",
       "117  STATEN ISLAND    21    268\n",
       "118  STATEN ISLAND    22    224\n",
       "119  STATEN ISLAND    23    174\n",
       "\n",
       "[120 rows x 3 columns]"
      ]
     },
     "execution_count": 301,
     "metadata": {},
     "output_type": "execute_result"
    }
   ],
   "source": [
    "time_bor = df[['BOROUGH','TIME']]\n",
    "\n",
    "time_bor = pd.DataFrame(time_bor.groupby(['BOROUGH',time_bor.TIME.dt.hour]).agg('count'))\n",
    "time_bor.columns = ['COUNT']\n",
    "time_bor.reset_index(level=['TIME', 'BOROUGH'],inplace=True)\n",
    "time_bor"
   ]
  },
  {
   "cell_type": "code",
   "execution_count": 302,
   "metadata": {
    "scrolled": false
   },
   "outputs": [
    {
     "data": {
      "image/png": "[encoded data removed]",
      "text/plain": [
       "<Figure size 1152x864 with 5 Axes>"
      ]
     },
     "metadata": {},
     "output_type": "display_data"
    }
   ],
   "source": [
    "with sns.axes_style(\"dark\"):\n",
    "    g = sns.FacetGrid(time_bor, col = 'BOROUGH',\n",
    "                  height=4, aspect=2, col_wrap=2)\n",
    "g = g.map_dataframe(plt.bar, x=\"TIME\", height=\"COUNT\")\n",
    "g.set_axis_labels(\"Hour of the day\", \"# of accidents\");\n",
    "g.set(xticks=[0,2,4,6,8,10,12,14,16,18,20,22], yticks=[0, 500, 1000, 2000, 3000, 4000, 5000])\n",
    "g.fig.subplots_adjust(hspace=0.2)\n",
    "plt.show()"
   ]
  },
  {
   "cell_type": "markdown",
   "metadata": {},
   "source": [
    "**Answer.** We can clearly see from the plots that:\n",
    "BRONX, BROOKLYN and STATEN ISLAND have most accidents around 16h.\n",
    "QUEENS has most of them around 17h.\n",
    "MANHATTAN has most of them around 14h but also has a high amount around 16h.\n",
    "\n",
    "The hours of most amount of accidents seem to coincide in all the Boroughs."
   ]
  },
  {
   "cell_type": "markdown",
   "metadata": {},
   "source": [
    "**Is the number of accidents higher at different times in different boroughs? Should we concentrate at different times for each borough?**"
   ]
  },
  {
   "cell_type": "markdown",
   "metadata": {},
   "source": [
    "We can see that in all the boroughs the accident count is highest from approximately 2 - 6PM. But in Manhattan and the Bronx, you can see that there is not as much of a relative increase during these hours as in Brooklyn or Queens. Additionally, Staten Island has the lowest overall number of accidents."
   ]
  },
  {
   "cell_type": "markdown",
   "metadata": {},
   "source": [
    "### Exercise 9 (55 min):\n",
    "\n",
    "What factors cause the most accidents? Avoid double counting the contributing factors of a single accident. \n",
    "\n",
    "**Hint:** One way of dealing with repetitions is to concatenate the corresponding columns while preserving their indexes, you can do that with the functions ```pd.concat()``` and  ```reset_index()```. Then, use an appropiate ```group_by``` to count the number of repetitions of contributed factors per accident.   "
   ]
  },
  {
   "cell_type": "code",
   "execution_count": 303,
   "metadata": {},
   "outputs": [
    {
     "name": "stdout",
     "output_type": "stream",
     "text": [
      "          index                               0\n",
      "0          3165  Driver Inattention/Distraction\n",
      "1          3081  Driver Inattention/Distraction\n",
      "2         15404           Following Too Closely\n",
      "3          5104            Unsafe Lane Changing\n",
      "4          5112           Following Too Closely\n",
      "...         ...                             ...\n",
      "1192605  230599                             NaN\n",
      "1192606  229587                             NaN\n",
      "1192607  238107                             NaN\n",
      "1192608  233571                             NaN\n",
      "1192609  234500                             NaN\n",
      "\n",
      "[1192610 rows x 2 columns]\n"
     ]
    }
   ],
   "source": [
    "test = df[['CONTRIBUTING FACTOR VEHICLE 1','CONTRIBUTING FACTOR VEHICLE 2','CONTRIBUTING FACTOR VEHICLE 3',\n",
    "                'CONTRIBUTING FACTOR VEHICLE 4', 'CONTRIBUTING FACTOR VEHICLE 5']]\n",
    "\n",
    "test_concat = pd.DataFrame(pd.concat([test['CONTRIBUTING FACTOR VEHICLE 1'],test['CONTRIBUTING FACTOR VEHICLE 2'],\n",
    "                              test['CONTRIBUTING FACTOR VEHICLE 3'], test['CONTRIBUTING FACTOR VEHICLE 4'],\n",
    "                              test['CONTRIBUTING FACTOR VEHICLE 5']]))\n",
    "test_concat.reset_index(inplace=True)\n",
    "print(test_concat)\n",
    "grouped=test_concat.groupby(['index',0])"
   ]
  },
  {
   "cell_type": "code",
   "execution_count": 304,
   "metadata": {},
   "outputs": [
    {
     "data": {
      "text/html": [
       "<div>\n",
       "<style scoped>\n",
       "    .dataframe tbody tr th:only-of-type {\n",
       "        vertical-align: middle;\n",
       "    }\n",
       "\n",
       "    .dataframe tbody tr th {\n",
       "        vertical-align: top;\n",
       "    }\n",
       "\n",
       "    .dataframe thead th {\n",
       "        text-align: right;\n",
       "    }\n",
       "</style>\n",
       "<table border=\"1\" class=\"dataframe\">\n",
       "  <thead>\n",
       "    <tr style=\"text-align: right;\">\n",
       "      <th></th>\n",
       "      <th>index</th>\n",
       "      <th>0</th>\n",
       "    </tr>\n",
       "  </thead>\n",
       "  <tbody>\n",
       "    <tr>\n",
       "      <th>148046</th>\n",
       "      <td>100</td>\n",
       "      <td>Other Vehicular</td>\n",
       "    </tr>\n",
       "    <tr>\n",
       "      <th>386568</th>\n",
       "      <td>100</td>\n",
       "      <td>Unspecified</td>\n",
       "    </tr>\n",
       "    <tr>\n",
       "      <th>625090</th>\n",
       "      <td>100</td>\n",
       "      <td>NaN</td>\n",
       "    </tr>\n",
       "    <tr>\n",
       "      <th>863612</th>\n",
       "      <td>100</td>\n",
       "      <td>NaN</td>\n",
       "    </tr>\n",
       "    <tr>\n",
       "      <th>1102134</th>\n",
       "      <td>100</td>\n",
       "      <td>NaN</td>\n",
       "    </tr>\n",
       "  </tbody>\n",
       "</table>\n",
       "</div>"
      ],
      "text/plain": [
       "         index                0\n",
       "148046     100  Other Vehicular\n",
       "386568     100      Unspecified\n",
       "625090     100              NaN\n",
       "863612     100              NaN\n",
       "1102134    100              NaN"
      ]
     },
     "execution_count": 304,
     "metadata": {},
     "output_type": "execute_result"
    }
   ],
   "source": [
    "test_concat[test_concat['index']==100]"
   ]
  },
  {
   "cell_type": "code",
   "execution_count": 305,
   "metadata": {},
   "outputs": [],
   "source": [
    "test_concat2 = test_concat.groupby(['index',0]).first()\n",
    "test_concat2.dropna(inplace=True)\n",
    "test_concat2= test_concat2.reset_index()"
   ]
  },
  {
   "cell_type": "code",
   "execution_count": 306,
   "metadata": {
    "scrolled": false
   },
   "outputs": [
    {
     "data": {
      "text/html": [
       "<div>\n",
       "<style scoped>\n",
       "    .dataframe tbody tr th:only-of-type {\n",
       "        vertical-align: middle;\n",
       "    }\n",
       "\n",
       "    .dataframe tbody tr th {\n",
       "        vertical-align: top;\n",
       "    }\n",
       "\n",
       "    .dataframe thead th {\n",
       "        text-align: right;\n",
       "    }\n",
       "</style>\n",
       "<table border=\"1\" class=\"dataframe\">\n",
       "  <thead>\n",
       "    <tr style=\"text-align: right;\">\n",
       "      <th></th>\n",
       "      <th>CRASH_INDEX</th>\n",
       "      <th>CAUSE</th>\n",
       "    </tr>\n",
       "  </thead>\n",
       "  <tbody>\n",
       "    <tr>\n",
       "      <th>0</th>\n",
       "      <td>0</td>\n",
       "      <td>Unspecified</td>\n",
       "    </tr>\n",
       "    <tr>\n",
       "      <th>1</th>\n",
       "      <td>1</td>\n",
       "      <td>Unspecified</td>\n",
       "    </tr>\n",
       "    <tr>\n",
       "      <th>2</th>\n",
       "      <td>2</td>\n",
       "      <td>Unspecified</td>\n",
       "    </tr>\n",
       "    <tr>\n",
       "      <th>3</th>\n",
       "      <td>3</td>\n",
       "      <td>Driver Inattention/Distraction</td>\n",
       "    </tr>\n",
       "    <tr>\n",
       "      <th>4</th>\n",
       "      <td>3</td>\n",
       "      <td>Unspecified</td>\n",
       "    </tr>\n",
       "    <tr>\n",
       "      <th>...</th>\n",
       "      <td>...</td>\n",
       "      <td>...</td>\n",
       "    </tr>\n",
       "    <tr>\n",
       "      <th>384273</th>\n",
       "      <td>238519</td>\n",
       "      <td>Unspecified</td>\n",
       "    </tr>\n",
       "    <tr>\n",
       "      <th>384274</th>\n",
       "      <td>238520</td>\n",
       "      <td>Failure to Yield Right-of-Way</td>\n",
       "    </tr>\n",
       "    <tr>\n",
       "      <th>384275</th>\n",
       "      <td>238520</td>\n",
       "      <td>Unspecified</td>\n",
       "    </tr>\n",
       "    <tr>\n",
       "      <th>384276</th>\n",
       "      <td>238521</td>\n",
       "      <td>Following Too Closely</td>\n",
       "    </tr>\n",
       "    <tr>\n",
       "      <th>384277</th>\n",
       "      <td>238521</td>\n",
       "      <td>Passing or Lane Usage Improper</td>\n",
       "    </tr>\n",
       "  </tbody>\n",
       "</table>\n",
       "<p>384278 rows × 2 columns</p>\n",
       "</div>"
      ],
      "text/plain": [
       "        CRASH_INDEX                           CAUSE\n",
       "0                 0                     Unspecified\n",
       "1                 1                     Unspecified\n",
       "2                 2                     Unspecified\n",
       "3                 3  Driver Inattention/Distraction\n",
       "4                 3                     Unspecified\n",
       "...             ...                             ...\n",
       "384273       238519                     Unspecified\n",
       "384274       238520   Failure to Yield Right-of-Way\n",
       "384275       238520                     Unspecified\n",
       "384276       238521           Following Too Closely\n",
       "384277       238521  Passing or Lane Usage Improper\n",
       "\n",
       "[384278 rows x 2 columns]"
      ]
     },
     "execution_count": 306,
     "metadata": {},
     "output_type": "execute_result"
    }
   ],
   "source": [
    "test_concat2[test_concat2['index']==1000]\n",
    "test_concat2.rename(columns={'index':\"CRASH_INDEX\", 0: \"CAUSE\"},inplace=True)\n",
    "test_concat2"
   ]
  },
  {
   "cell_type": "code",
   "execution_count": 307,
   "metadata": {},
   "outputs": [],
   "source": [
    "test_concat3 = pd.DataFrame(test_concat2.groupby(['CAUSE']).agg('count'))\n",
    "test_concat3.rename(columns={'CRASH_INDEX':\"COUNT\"},inplace=True)"
   ]
  },
  {
   "cell_type": "code",
   "execution_count": 308,
   "metadata": {},
   "outputs": [
    {
     "name": "stdout",
     "output_type": "stream",
     "text": [
      "                                                     COUNT\n",
      "CAUSE                                                     \n",
      "Unspecified                                         190096\n",
      "Driver Inattention/Distraction                       61752\n",
      "Failure to Yield Right-of-Way                        19641\n",
      "Following Too Closely                                17293\n",
      "Backing Unsafely                                     14835\n",
      "Passing Too Closely                                  12631\n",
      "Passing or Lane Usage Improper                       11808\n",
      "Other Vehicular                                       8860\n",
      "Unsafe Lane Changing                                  6643\n",
      "Turning Improperly                                    6626\n",
      "Traffic Control Disregarded                           4687\n",
      "Driver Inexperience                                   4152\n",
      "Unsafe Speed                                          3469\n",
      "Reaction to Uninvolved Vehicle                        3034\n",
      "Alcohol Involvement                                   2491\n",
      "View Obstructed/Limited                               2345\n",
      "Oversized Vehicle                                     1977\n",
      "Pavement Slippery                                     1935\n",
      "Pedestrian/Bicyclist/Other Pedestrian Error/Con...    1788\n",
      "Aggressive Driving/Road Rage                          1095\n",
      "Passenger Distraction                                 1040\n",
      "Brakes Defective                                       840\n",
      "Fell Asleep                                            598\n",
      "Outside Car Distraction                                549\n",
      "Glare                                                  435\n",
      "Obstruction/Debris                                     431\n",
      "Failure to Keep Right                                  357\n",
      "Steering Failure                                       320\n",
      "Pavement Defective                                     301\n",
      "Illnes                                                 255\n",
      "Driverless/Runaway Vehicle                             241\n",
      "Tire Failure/Inadequate                                220\n",
      "Fatigued/Drowsy                                        218\n",
      "Lost Consciousness                                     206\n",
      "Animals Action                                         183\n",
      "Lane Marking Improper/Inadequate                       144\n",
      "Accelerator Defective                                  143\n",
      "Drugs (illegal)                                        118\n",
      "Traffic Control Device Improper/Non-Working             99\n",
      "Cell Phone (hand-Held)                                  94\n",
      "Physical Disability                                     61\n",
      "Other Lighting Defects                                  39\n",
      "Other Electronic Device                                 31\n",
      "Tinted Windows                                          27\n",
      "Tow Hitch Defective                                     26\n",
      "Vehicle Vandalism                                       23\n",
      "Prescription Medication                                 20\n",
      "Using On Board Navigation Device                        19\n",
      "Headlights Defective                                    17\n",
      "Eating or Drinking                                      16\n",
      "Texting                                                 13\n",
      "Cell Phone (hands-free)                                 12\n",
      "Shoulders Defective/Improper                             9\n",
      "Windshield Inadequate                                    8\n",
      "Listening/Using Headphones                               7\n"
     ]
    },
    {
     "data": {
      "image/png": "[encoded data removed]",
      "text/plain": [
       "<Figure size 1296x540 with 1 Axes>"
      ]
     },
     "metadata": {
      "needs_background": "light"
     },
     "output_type": "display_data"
    }
   ],
   "source": [
    "test_concat3.sort_values(by=['COUNT'], inplace=True, ascending=False)\n",
    "print(test_concat3)\n",
    "\n",
    "ax = test_concat3[test_concat3['COUNT']>100].plot.bar(y=['COUNT'], legend=False, figsize = (18, 7.5))\n",
    "ax.set_xlabel(\"Indicated Accident Cause\", labelpad=18, fontsize=20, fontweight='bold')\n",
    "ax.set_ylabel(\"# Accidents\", labelpad=18, fontsize=16, fontweight='bold')\n",
    "ax.set_title('Main probable cause for accidents', fontsize=20, fontweight='bold', pad=15)\n",
    "ax.tick_params(axis='x', rotation=90, labelsize =12)\n",
    "ax.tick_params(axis='y', rotation=0, labelsize =14)\n",
    "\n",
    "plt.show()"
   ]
  },
  {
   "cell_type": "markdown",
   "metadata": {},
   "source": [
    "**Answer**. We can see that the most common cause is reported to be \"unspecified\", and it is not a negligible number. In fact, it is more than 3 times the second most common cause of accidents. This is definitely an indicator that a better follow up on the cause of the accident must be done to classify those 190k accidents correctly and the ones to happen in the future.\n",
    "\n",
    "After unspecified, we have \"Driver Inattention/Distraction\", \"Failure to Yield Right-of-Way\", \"Following Too Closely\", \"Bracking Unsafely\" and \"Passing Too Closely\". \n",
    "\n",
    "It is also noticeable that in many cases, the accidents report an \"unspecified cause\" plus another main cause which was correctly identified."
   ]
  },
  {
   "cell_type": "markdown",
   "metadata": {},
   "source": [
    "### Exercise 10 (55 min):\n",
    "\n",
    "Which vehicle types are most involved in accidents per borough? Avoid double counting the type of vehicles present in a single accident. \n",
    "\n",
    "**Hint:** You can apply a similar approach to the one used in the previous question."
   ]
  },
  {
   "cell_type": "code",
   "execution_count": 310,
   "metadata": {},
   "outputs": [
    {
     "name": "stdout",
     "output_type": "stream",
     "text": [
      "          index                                    0\n",
      "0          3165                                 Taxi\n",
      "1          3081                                Sedan\n",
      "2         15404  Station Wagon/Sport Utility Vehicle\n",
      "3          5104                                Sedan\n",
      "4          5112                                Sedan\n",
      "...         ...                                  ...\n",
      "1192605  230599                                  NaN\n",
      "1192606  229587                                  NaN\n",
      "1192607  238107                                  NaN\n",
      "1192608  233571                                  NaN\n",
      "1192609  234500                                  NaN\n",
      "\n",
      "[1192610 rows x 2 columns]\n"
     ]
    }
   ],
   "source": [
    "vh_test = df[['VEHICLE TYPE CODE 1','VEHICLE TYPE CODE 2','VEHICLE TYPE CODE 3',\n",
    "                'VEHICLE TYPE CODE 4', 'VEHICLE TYPE CODE 5']]\n",
    "\n",
    "vh_test_concat = pd.DataFrame(pd.concat([vh_test['VEHICLE TYPE CODE 1'],vh_test['VEHICLE TYPE CODE 2'],\n",
    "                              vh_test['VEHICLE TYPE CODE 3'], vh_test['VEHICLE TYPE CODE 4'], vh_test['VEHICLE TYPE CODE 5']]))\n",
    "vh_test_concat.reset_index(inplace=True)\n",
    "print(vh_test_concat)\n",
    "\n",
    "vh_test_concat.dropna(inplace=True)\n",
    "\n",
    "vh_test_concat.rename(columns={0: \"VEHICLE_TYPE\"},inplace=True)\n",
    "\n",
    "vh_test_concat.loc[vh_test_concat.VEHICLE_TYPE == \"SPORT UTILITY / STATION WAGON\", \"VEHICLE_TYPE\"] = \"Station Wagon/Sport Utility Vehicle\"\n",
    "vh_test_concat['VEHICLE_TYPE'] = vh_test_concat['VEHICLE_TYPE'].str.lower()\n",
    "vh_test_concat['VEHICLE_TYPE'] = vh_test_concat['VEHICLE_TYPE'].apply(lambda x: \"ambulance\" if x in \"ambulance\" else x)\n",
    "vh_test_concat['VEHICLE_TYPE'] = vh_test_concat['VEHICLE_TYPE'].apply(lambda x: \"sedan\" if x in \"sedan\" else x)\n",
    "vh_test_concat['VEHICLE_TYPE'] = vh_test_concat['VEHICLE_TYPE'].apply(lambda x: \"bike\" if x in \"bicycle\" else x)\n",
    "vh_test_concat['VEHICLE_TYPE'] = vh_test_concat['VEHICLE_TYPE'].apply(lambda x: \"sedan\" if \"sedan\" in x else x)\n",
    "\n",
    "vh_grouped=vh_test_concat.groupby(['index',\"VEHICLE_TYPE\"])"
   ]
  },
  {
   "cell_type": "code",
   "execution_count": 311,
   "metadata": {},
   "outputs": [
    {
     "data": {
      "text/html": [
       "<div>\n",
       "<style scoped>\n",
       "    .dataframe tbody tr th:only-of-type {\n",
       "        vertical-align: middle;\n",
       "    }\n",
       "\n",
       "    .dataframe tbody tr th {\n",
       "        vertical-align: top;\n",
       "    }\n",
       "\n",
       "    .dataframe thead th {\n",
       "        text-align: right;\n",
       "    }\n",
       "</style>\n",
       "<table border=\"1\" class=\"dataframe\">\n",
       "  <thead>\n",
       "    <tr style=\"text-align: right;\">\n",
       "      <th></th>\n",
       "      <th>index</th>\n",
       "      <th>VEHICLE_TYPE</th>\n",
       "    </tr>\n",
       "  </thead>\n",
       "  <tbody>\n",
       "    <tr>\n",
       "      <th>13329</th>\n",
       "      <td>2500</td>\n",
       "      <td>sedan</td>\n",
       "    </tr>\n",
       "    <tr>\n",
       "      <th>251851</th>\n",
       "      <td>2500</td>\n",
       "      <td>sedan</td>\n",
       "    </tr>\n",
       "    <tr>\n",
       "      <th>490373</th>\n",
       "      <td>2500</td>\n",
       "      <td>sedan</td>\n",
       "    </tr>\n",
       "  </tbody>\n",
       "</table>\n",
       "</div>"
      ],
      "text/plain": [
       "        index VEHICLE_TYPE\n",
       "13329    2500        sedan\n",
       "251851   2500        sedan\n",
       "490373   2500        sedan"
      ]
     },
     "execution_count": 311,
     "metadata": {},
     "output_type": "execute_result"
    }
   ],
   "source": [
    "vh_test_concat[vh_test_concat['index']==2500]"
   ]
  },
  {
   "cell_type": "code",
   "execution_count": 312,
   "metadata": {},
   "outputs": [],
   "source": [
    "vh_test_concat2 = vh_test_concat.groupby(['index',\"VEHICLE_TYPE\"]).first()"
   ]
  },
  {
   "cell_type": "code",
   "execution_count": 316,
   "metadata": {},
   "outputs": [],
   "source": [
    "vh_test_concat2.dropna(inplace=True)\n",
    "vh_test_concat2= vh_test_concat2.reset_index()"
   ]
  },
  {
   "cell_type": "code",
   "execution_count": 317,
   "metadata": {
    "scrolled": true
   },
   "outputs": [
    {
     "data": {
      "text/html": [
       "<div>\n",
       "<style scoped>\n",
       "    .dataframe tbody tr th:only-of-type {\n",
       "        vertical-align: middle;\n",
       "    }\n",
       "\n",
       "    .dataframe tbody tr th {\n",
       "        vertical-align: top;\n",
       "    }\n",
       "\n",
       "    .dataframe thead th {\n",
       "        text-align: right;\n",
       "    }\n",
       "</style>\n",
       "<table border=\"1\" class=\"dataframe\">\n",
       "  <thead>\n",
       "    <tr style=\"text-align: right;\">\n",
       "      <th></th>\n",
       "      <th>CRASH_INDEX</th>\n",
       "      <th>VEHICLE_TYPE</th>\n",
       "    </tr>\n",
       "  </thead>\n",
       "  <tbody>\n",
       "    <tr>\n",
       "      <th>0</th>\n",
       "      <td>0</td>\n",
       "      <td>sedan</td>\n",
       "    </tr>\n",
       "    <tr>\n",
       "      <th>1</th>\n",
       "      <td>1</td>\n",
       "      <td>sedan</td>\n",
       "    </tr>\n",
       "    <tr>\n",
       "      <th>2</th>\n",
       "      <td>2</td>\n",
       "      <td>sedan</td>\n",
       "    </tr>\n",
       "    <tr>\n",
       "      <th>3</th>\n",
       "      <td>3</td>\n",
       "      <td>bike</td>\n",
       "    </tr>\n",
       "    <tr>\n",
       "      <th>4</th>\n",
       "      <td>3</td>\n",
       "      <td>station wagon/sport utility vehicle</td>\n",
       "    </tr>\n",
       "    <tr>\n",
       "      <th>...</th>\n",
       "      <td>...</td>\n",
       "      <td>...</td>\n",
       "    </tr>\n",
       "    <tr>\n",
       "      <th>354055</th>\n",
       "      <td>238519</td>\n",
       "      <td>passenger vehicle</td>\n",
       "    </tr>\n",
       "    <tr>\n",
       "      <th>354056</th>\n",
       "      <td>238519</td>\n",
       "      <td>station wagon/sport utility vehicle</td>\n",
       "    </tr>\n",
       "    <tr>\n",
       "      <th>354057</th>\n",
       "      <td>238520</td>\n",
       "      <td>passenger vehicle</td>\n",
       "    </tr>\n",
       "    <tr>\n",
       "      <th>354058</th>\n",
       "      <td>238520</td>\n",
       "      <td>station wagon/sport utility vehicle</td>\n",
       "    </tr>\n",
       "    <tr>\n",
       "      <th>354059</th>\n",
       "      <td>238521</td>\n",
       "      <td>station wagon/sport utility vehicle</td>\n",
       "    </tr>\n",
       "  </tbody>\n",
       "</table>\n",
       "<p>354060 rows × 2 columns</p>\n",
       "</div>"
      ],
      "text/plain": [
       "        CRASH_INDEX                         VEHICLE_TYPE\n",
       "0                 0                                sedan\n",
       "1                 1                                sedan\n",
       "2                 2                                sedan\n",
       "3                 3                                 bike\n",
       "4                 3  station wagon/sport utility vehicle\n",
       "...             ...                                  ...\n",
       "354055       238519                    passenger vehicle\n",
       "354056       238519  station wagon/sport utility vehicle\n",
       "354057       238520                    passenger vehicle\n",
       "354058       238520  station wagon/sport utility vehicle\n",
       "354059       238521  station wagon/sport utility vehicle\n",
       "\n",
       "[354060 rows x 2 columns]"
      ]
     },
     "execution_count": 317,
     "metadata": {},
     "output_type": "execute_result"
    }
   ],
   "source": [
    "vh_test_concat2.rename(columns={'index':\"CRASH_INDEX\"},inplace=True)\n",
    "vh_test_concat2"
   ]
  },
  {
   "cell_type": "code",
   "execution_count": 320,
   "metadata": {},
   "outputs": [],
   "source": [
    "vh_test_concat3 = pd.DataFrame(vh_test_concat2.groupby(['VEHICLE_TYPE']).agg('count'))\n",
    "vh_test_concat3.rename(columns={'CRASH_INDEX':\"COUNT\"},inplace=True)"
   ]
  },
  {
   "cell_type": "code",
   "execution_count": 321,
   "metadata": {
    "scrolled": false
   },
   "outputs": [
    {
     "name": "stdout",
     "output_type": "stream",
     "text": [
      "                                      COUNT\n",
      "VEHICLE_TYPE                               \n",
      "station wagon/sport utility vehicle  124205\n",
      "sedan                                119716\n",
      "passenger vehicle                     31228\n",
      "taxi                                  19082\n",
      "pick-up truck                         13638\n",
      "box truck                              8509\n",
      "bike                                   7271\n",
      "bus                                    5870\n",
      "ambulance                              2981\n",
      "van                                    2730\n",
      "tractor truck diesel                   2317\n",
      "motorcycle                             2124\n",
      "tk                                     2051\n",
      "dump                                   1140\n",
      "convertible                             987\n",
      "pk                                      712\n",
      "garbage or refuse                       693\n",
      "flat bed                                684\n",
      "vn                                      594\n",
      "ds                                      554\n"
     ]
    },
    {
     "data": {
      "image/png": "[encoded data removed]",
      "text/plain": [
       "<Figure size 1296x540 with 1 Axes>"
      ]
     },
     "metadata": {
      "needs_background": "light"
     },
     "output_type": "display_data"
    }
   ],
   "source": [
    "vh_test_concat3.sort_values(by=['COUNT'], inplace=True, ascending=False)\n",
    "print(vh_test_concat3.head(20))\n",
    "\n",
    "ax = vh_test_concat3[vh_test_concat3['COUNT']>300].plot.bar(y=['COUNT'], legend=False, figsize = (18, 7.5))\n",
    "ax.set_xlabel(\"Indicated Accident Cause\", labelpad=18, fontsize=20, fontweight='bold')\n",
    "ax.set_ylabel(\"# Accidents\", labelpad=18, fontsize=16, fontweight='bold')\n",
    "ax.set_title('Vehicles involved in most accidents', fontsize=20, fontweight='bold', pad=15)\n",
    "ax.tick_params(axis='x', rotation=90, labelsize =14)\n",
    "ax.tick_params(axis='y', rotation=0, labelsize =14)\n",
    "\n",
    "plt.show()"
   ]
  },
  {
   "cell_type": "code",
   "execution_count": 322,
   "metadata": {},
   "outputs": [
    {
     "name": "stdout",
     "output_type": "stream",
     "text": [
      "(449, 1)\n",
      "              COUNT\n",
      "VEHICLE_TYPE       \n",
      "fdny             95\n",
      "3-door           78\n",
      "tt               74\n",
      "e-bik            71\n",
      "tn               69\n",
      "...             ...\n",
      "jcb40             1\n",
      "icecr             1\n",
      "hwy c             1\n",
      "hrse              1\n",
      "ã¯â¿â½mbu         1\n",
      "\n",
      "[407 rows x 1 columns]\n",
      "              COUNT\n",
      "VEHICLE_TYPE       \n",
      "sprin             9\n",
      "freig             9\n",
      "food              9\n",
      "trac              9\n",
      "e bik             9\n",
      "...             ...\n",
      "jcb40             1\n",
      "icecr             1\n",
      "hwy c             1\n",
      "hrse              1\n",
      "ã¯â¿â½mbu         1\n",
      "\n",
      "[343 rows x 1 columns]\n"
     ]
    },
    {
     "data": {
      "text/html": [
       "<div>\n",
       "<style scoped>\n",
       "    .dataframe tbody tr th:only-of-type {\n",
       "        vertical-align: middle;\n",
       "    }\n",
       "\n",
       "    .dataframe tbody tr th {\n",
       "        vertical-align: top;\n",
       "    }\n",
       "\n",
       "    .dataframe thead th {\n",
       "        text-align: right;\n",
       "    }\n",
       "</style>\n",
       "<table border=\"1\" class=\"dataframe\">\n",
       "  <thead>\n",
       "    <tr style=\"text-align: right;\">\n",
       "      <th></th>\n",
       "      <th>COUNT</th>\n",
       "    </tr>\n",
       "    <tr>\n",
       "      <th>VEHICLE_TYPE</th>\n",
       "      <th></th>\n",
       "    </tr>\n",
       "  </thead>\n",
       "  <tbody>\n",
       "    <tr>\n",
       "      <th>utll</th>\n",
       "      <td>1</td>\n",
       "    </tr>\n",
       "    <tr>\n",
       "      <th>red t</th>\n",
       "      <td>1</td>\n",
       "    </tr>\n",
       "    <tr>\n",
       "      <th>van c</th>\n",
       "      <td>1</td>\n",
       "    </tr>\n",
       "    <tr>\n",
       "      <th>ukn</th>\n",
       "      <td>1</td>\n",
       "    </tr>\n",
       "    <tr>\n",
       "      <th>uhual</th>\n",
       "      <td>1</td>\n",
       "    </tr>\n",
       "    <tr>\n",
       "      <th>...</th>\n",
       "      <td>...</td>\n",
       "    </tr>\n",
       "    <tr>\n",
       "      <th>jcb40</th>\n",
       "      <td>1</td>\n",
       "    </tr>\n",
       "    <tr>\n",
       "      <th>icecr</th>\n",
       "      <td>1</td>\n",
       "    </tr>\n",
       "    <tr>\n",
       "      <th>hwy c</th>\n",
       "      <td>1</td>\n",
       "    </tr>\n",
       "    <tr>\n",
       "      <th>hrse</th>\n",
       "      <td>1</td>\n",
       "    </tr>\n",
       "    <tr>\n",
       "      <th>ã¯â¿â½mbu</th>\n",
       "      <td>1</td>\n",
       "    </tr>\n",
       "  </tbody>\n",
       "</table>\n",
       "<p>208 rows × 1 columns</p>\n",
       "</div>"
      ],
      "text/plain": [
       "              COUNT\n",
       "VEHICLE_TYPE       \n",
       "utll              1\n",
       "red t             1\n",
       "van c             1\n",
       "ukn               1\n",
       "uhual             1\n",
       "...             ...\n",
       "jcb40             1\n",
       "icecr             1\n",
       "hwy c             1\n",
       "hrse              1\n",
       "ã¯â¿â½mbu         1\n",
       "\n",
       "[208 rows x 1 columns]"
      ]
     },
     "execution_count": 322,
     "metadata": {},
     "output_type": "execute_result"
    }
   ],
   "source": [
    "# vh_test_concat3.iloc[50:100]\n",
    "# vh_test_concat3.loc['SPORT UTILITY / STATION WAGON']\n",
    "vh_test_concat3.sort_index().iloc[0:50]\n",
    "print(vh_test_concat3.shape)\n",
    "print(vh_test_concat3[vh_test_concat3['COUNT']<100])\n",
    "print(vh_test_concat3[vh_test_concat3['COUNT']<10])\n",
    "vh_test_concat3[vh_test_concat3['COUNT']==1]"
   ]
  },
  {
   "cell_type": "markdown",
   "metadata": {},
   "source": [
    "**Answer.** \n",
    "In the plot shown above, we can see that the main vehicles involved in accidents are the following (accompanied by the amount of accidents):\n",
    "\n",
    "**VEHICLE_TYPE**                              \n",
    "\n",
    "station wagon/sport utility vehicle  124205\n",
    "\n",
    "sedan                                119718\n",
    "\n",
    "passenger vehicle                     31228\n",
    "\n",
    "taxi                                  19082\n",
    "\n",
    "pick-up truck                         13638\n",
    "\n",
    "box truck                              8509\n",
    "\n",
    "bike                                   7271\n",
    "\n",
    "bus                                    5870\n",
    "\n",
    "ambulance                              2993\n",
    "\n",
    "van 2731\n",
    "\n",
    "Moreover, we can see that there are 208 out of 449 vehicle types that appear only once and seem to have wrong typing. I consider we should not dispose of them in this case, given the total amount of crashes is also important.\n",
    "Also, 135 out of 449 vehicle types appear more than once and up to 10 times. And 64 out of 449 appear more than 10 times and up to 100 times. We can quickly see that the description is confusing and this probably requires a deeper processing of the data as was done with the types that were described as \"bi\", \"bic\", \"bicycle\" that were grouped together with \"bike\"."
   ]
  },
  {
   "cell_type": "markdown",
   "metadata": {},
   "source": [
    "### Exercise 11 (15 min):\n",
    "\n",
    "In a 2018 [interview](https://www.nytimes.com/2019/01/01/nyregion/traffic-deaths-decrease-nyc.html) with The New York Times, New York's mayor de Blasio stated that *'Vision Zero is clearly working'*. That year, the number of deaths in traffic accidents in NYC dropped to a historical 202. Yet, as reported by [am New York Metro](https://www.amny.com/news/vision-zero-de-blasio-1-30707464/), the number of fatalities has increased by 30% in the first quarter of 2019 compared to the previous year and the number of pedestrians and cyclist injured has not seen any improvement.\n",
    "\n",
    "How would you use the provided data to understand what went wrong in the first quarter of 2019?\n",
    "\n",
    "> - [ ] Consider the accidents of the first quarter of 2019. Then, check for the most common causes of accidents where pedestrians and cyclists were involved. Give a recommendation based solely on this information. \n",
    "\n",
    "> - [ ] Create a pair of heatmaps of the accidents involving injured/killed pedestrians and cyclists in the first quarter of 2018 and 2019. Compare these two to see if there is any change in the concentration of accidents. In critical areas, study the type of factors involved in the accidents. Give a recommendation to visit these areas to study the problem further.    \n",
    "\n",
    "> - [ ] The provided data is insufficient to improve our understanding of the situation.\n",
    "\n",
    "> - [x] None of the above. I would do the following: *Create a pair of heatmaps of the accidents involving injured/killed pedestrians, cyclists and people in vehicles in the first quarter of 2018 and 2019. Compare these two to see if there is any change in the concentration of accidents. In critical areas, study the type of factors involved in the accidents, the predominant hours for the accidents and check how the \"Vision Zero\" initiatives are being applied in those places. Give a recommendation to visit these areas to study the problem further. It would be important to check if the places have simmilarities with places which problems have been already addressed via \"Vision Zero\".*"
   ]
  },
  {
   "cell_type": "markdown",
   "metadata": {},
   "source": [
    "### Exercise 12 (45 min):\n",
    "\n",
    "Calculate the number of deaths caused by each type of vehicle. Plot a bar chart for the top 5 vehicles. Which vehicles are most often involved in deaths, and by how much more than the others?\n",
    "\n",
    "**For example,** if two people died at an accident where 5 vehicles were involved: 4 are PASSENGER VEHICLE and 1 is a SPORT UTILITY/STATION WAGON. Then, we would add two deaths to each PASSENGER VEHICLE and SPORT UTILITY/STATION WAGON types.\n",
    "\n",
    "**Hint:** You may want to create a new column with the total number of kills in the accident. For that you may find the function ```.to_numpy()``` useful. Then, proceed as the previous excercises to avoid double-counting the type of vehicles. "
   ]
  },
  {
   "cell_type": "code",
   "execution_count": 19,
   "metadata": {
    "scrolled": false
   },
   "outputs": [
    {
     "name": "stdout",
     "output_type": "stream",
     "text": [
      "Checking for NaNs in the columns that report kills\n",
      " NUMBER OF PEDESTRIANS KILLED    False\n",
      "NUMBER OF CYCLIST KILLED        False\n",
      "NUMBER OF MOTORIST KILLED       False\n",
      "dtype: bool\n"
     ]
    },
    {
     "name": "stderr",
     "output_type": "stream",
     "text": [
      "<ipython-input-19-e19c0f6846c9>:11: SettingWithCopyWarning: \n",
      "A value is trying to be set on a copy of a slice from a DataFrame.\n",
      "Try using .loc[row_indexer,col_indexer] = value instead\n",
      "\n",
      "See the caveats in the documentation: https://pandas.pydata.org/pandas-docs/stable/user_guide/indexing.html#returning-a-view-versus-a-copy\n",
      "  dth['TOTAL_KILLS']= pd.Series(numpy.sum(dth.to_numpy(),axis=1))\n",
      "<ipython-input-19-e19c0f6846c9>:12: SettingWithCopyWarning: \n",
      "A value is trying to be set on a copy of a slice from a DataFrame.\n",
      "Try using .loc[row_indexer,col_indexer] = value instead\n",
      "\n",
      "See the caveats in the documentation: https://pandas.pydata.org/pandas-docs/stable/user_guide/indexing.html#returning-a-view-versus-a-copy\n",
      "  dth_df['TOTAL_KILLS'] = dth['TOTAL_KILLS'];\n"
     ]
    },
    {
     "data": {
      "text/html": [
       "<div>\n",
       "<style scoped>\n",
       "    .dataframe tbody tr th:only-of-type {\n",
       "        vertical-align: middle;\n",
       "    }\n",
       "\n",
       "    .dataframe tbody tr th {\n",
       "        vertical-align: top;\n",
       "    }\n",
       "\n",
       "    .dataframe thead th {\n",
       "        text-align: right;\n",
       "    }\n",
       "</style>\n",
       "<table border=\"1\" class=\"dataframe\">\n",
       "  <thead>\n",
       "    <tr style=\"text-align: right;\">\n",
       "      <th></th>\n",
       "      <th>VEHICLE TYPE CODE 1</th>\n",
       "      <th>VEHICLE TYPE CODE 2</th>\n",
       "      <th>VEHICLE TYPE CODE 3</th>\n",
       "      <th>VEHICLE TYPE CODE 4</th>\n",
       "      <th>VEHICLE TYPE CODE 5</th>\n",
       "      <th>TOTAL_KILLS</th>\n",
       "    </tr>\n",
       "  </thead>\n",
       "  <tbody>\n",
       "    <tr>\n",
       "      <th>9439</th>\n",
       "      <td>NaN</td>\n",
       "      <td>NaN</td>\n",
       "      <td>NaN</td>\n",
       "      <td>NaN</td>\n",
       "      <td>NaN</td>\n",
       "      <td>0</td>\n",
       "    </tr>\n",
       "    <tr>\n",
       "      <th>12990</th>\n",
       "      <td>NaN</td>\n",
       "      <td>NaN</td>\n",
       "      <td>NaN</td>\n",
       "      <td>NaN</td>\n",
       "      <td>NaN</td>\n",
       "      <td>0</td>\n",
       "    </tr>\n",
       "    <tr>\n",
       "      <th>2035</th>\n",
       "      <td>NaN</td>\n",
       "      <td>NaN</td>\n",
       "      <td>NaN</td>\n",
       "      <td>NaN</td>\n",
       "      <td>NaN</td>\n",
       "      <td>0</td>\n",
       "    </tr>\n",
       "    <tr>\n",
       "      <th>3124</th>\n",
       "      <td>NaN</td>\n",
       "      <td>NaN</td>\n",
       "      <td>NaN</td>\n",
       "      <td>NaN</td>\n",
       "      <td>NaN</td>\n",
       "      <td>0</td>\n",
       "    </tr>\n",
       "    <tr>\n",
       "      <th>6020</th>\n",
       "      <td>NaN</td>\n",
       "      <td>NaN</td>\n",
       "      <td>NaN</td>\n",
       "      <td>NaN</td>\n",
       "      <td>NaN</td>\n",
       "      <td>0</td>\n",
       "    </tr>\n",
       "    <tr>\n",
       "      <th>...</th>\n",
       "      <td>...</td>\n",
       "      <td>...</td>\n",
       "      <td>...</td>\n",
       "      <td>...</td>\n",
       "      <td>...</td>\n",
       "      <td>...</td>\n",
       "    </tr>\n",
       "    <tr>\n",
       "      <th>226902</th>\n",
       "      <td>NaN</td>\n",
       "      <td>NaN</td>\n",
       "      <td>NaN</td>\n",
       "      <td>NaN</td>\n",
       "      <td>NaN</td>\n",
       "      <td>0</td>\n",
       "    </tr>\n",
       "    <tr>\n",
       "      <th>231858</th>\n",
       "      <td>NaN</td>\n",
       "      <td>NaN</td>\n",
       "      <td>NaN</td>\n",
       "      <td>NaN</td>\n",
       "      <td>NaN</td>\n",
       "      <td>0</td>\n",
       "    </tr>\n",
       "    <tr>\n",
       "      <th>228150</th>\n",
       "      <td>NaN</td>\n",
       "      <td>NaN</td>\n",
       "      <td>NaN</td>\n",
       "      <td>NaN</td>\n",
       "      <td>NaN</td>\n",
       "      <td>0</td>\n",
       "    </tr>\n",
       "    <tr>\n",
       "      <th>226917</th>\n",
       "      <td>NaN</td>\n",
       "      <td>NaN</td>\n",
       "      <td>NaN</td>\n",
       "      <td>NaN</td>\n",
       "      <td>NaN</td>\n",
       "      <td>0</td>\n",
       "    </tr>\n",
       "    <tr>\n",
       "      <th>230632</th>\n",
       "      <td>NaN</td>\n",
       "      <td>NaN</td>\n",
       "      <td>NaN</td>\n",
       "      <td>NaN</td>\n",
       "      <td>NaN</td>\n",
       "      <td>0</td>\n",
       "    </tr>\n",
       "  </tbody>\n",
       "</table>\n",
       "<p>1721 rows × 6 columns</p>\n",
       "</div>"
      ],
      "text/plain": [
       "       VEHICLE TYPE CODE 1 VEHICLE TYPE CODE 2 VEHICLE TYPE CODE 3  \\\n",
       "9439                   NaN                 NaN                 NaN   \n",
       "12990                  NaN                 NaN                 NaN   \n",
       "2035                   NaN                 NaN                 NaN   \n",
       "3124                   NaN                 NaN                 NaN   \n",
       "6020                   NaN                 NaN                 NaN   \n",
       "...                    ...                 ...                 ...   \n",
       "226902                 NaN                 NaN                 NaN   \n",
       "231858                 NaN                 NaN                 NaN   \n",
       "228150                 NaN                 NaN                 NaN   \n",
       "226917                 NaN                 NaN                 NaN   \n",
       "230632                 NaN                 NaN                 NaN   \n",
       "\n",
       "       VEHICLE TYPE CODE 4 VEHICLE TYPE CODE 5  TOTAL_KILLS  \n",
       "9439                   NaN                 NaN            0  \n",
       "12990                  NaN                 NaN            0  \n",
       "2035                   NaN                 NaN            0  \n",
       "3124                   NaN                 NaN            0  \n",
       "6020                   NaN                 NaN            0  \n",
       "...                    ...                 ...          ...  \n",
       "226902                 NaN                 NaN            0  \n",
       "231858                 NaN                 NaN            0  \n",
       "228150                 NaN                 NaN            0  \n",
       "226917                 NaN                 NaN            0  \n",
       "230632                 NaN                 NaN            0  \n",
       "\n",
       "[1721 rows x 6 columns]"
      ]
     },
     "execution_count": 19,
     "metadata": {},
     "output_type": "execute_result"
    }
   ],
   "source": [
    "dth_df = df[['VEHICLE TYPE CODE 1','VEHICLE TYPE CODE 2','VEHICLE TYPE CODE 3',\n",
    "                'VEHICLE TYPE CODE 4', 'VEHICLE TYPE CODE 5']]\n",
    "\n",
    "dth_df\n",
    "# df['COLLISION_ID'].unique().shape[0] == df.shape[0]\n",
    "dth = df[['NUMBER OF PEDESTRIANS KILLED',\n",
    "              'NUMBER OF CYCLIST KILLED', 'NUMBER OF MOTORIST KILLED']]\n",
    "\n",
    "print(\"Checking for NaNs in the columns that report kills\\n\", dth.isna().any())\n",
    "\n",
    "dth['TOTAL_KILLS']= pd.Series(numpy.sum(dth.to_numpy(),axis=1))\n",
    "dth_df['TOTAL_KILLS'] = dth['TOTAL_KILLS'];\n",
    "# dth[dth[\"TOTAL_KILLS\"]==1]\n",
    "dth_df[dth_df['VEHICLE TYPE CODE 1'].isna()]"
   ]
  },
  {
   "cell_type": "code",
   "execution_count": 20,
   "metadata": {},
   "outputs": [
    {
     "name": "stderr",
     "output_type": "stream",
     "text": [
      "C:\\Users\\dcalle.MATONE\\Documents\\case_1.2_var2\\lib\\site-packages\\pandas\\core\\frame.py:4125: SettingWithCopyWarning: \n",
      "A value is trying to be set on a copy of a slice from a DataFrame\n",
      "\n",
      "See the caveats in the documentation: https://pandas.pydata.org/pandas-docs/stable/user_guide/indexing.html#returning-a-view-versus-a-copy\n",
      "  return super().rename(\n"
     ]
    },
    {
     "data": {
      "text/html": [
       "<div>\n",
       "<style scoped>\n",
       "    .dataframe tbody tr th:only-of-type {\n",
       "        vertical-align: middle;\n",
       "    }\n",
       "\n",
       "    .dataframe tbody tr th {\n",
       "        vertical-align: top;\n",
       "    }\n",
       "\n",
       "    .dataframe thead th {\n",
       "        text-align: right;\n",
       "    }\n",
       "</style>\n",
       "<table border=\"1\" class=\"dataframe\">\n",
       "  <thead>\n",
       "    <tr style=\"text-align: right;\">\n",
       "      <th></th>\n",
       "      <th>index</th>\n",
       "      <th>VEHICLE_TYPE</th>\n",
       "      <th>TOTAL_KILLS</th>\n",
       "    </tr>\n",
       "  </thead>\n",
       "  <tbody>\n",
       "    <tr>\n",
       "      <th>0</th>\n",
       "      <td>3165</td>\n",
       "      <td>taxi</td>\n",
       "      <td>0</td>\n",
       "    </tr>\n",
       "    <tr>\n",
       "      <th>1</th>\n",
       "      <td>3081</td>\n",
       "      <td>sedan</td>\n",
       "      <td>0</td>\n",
       "    </tr>\n",
       "    <tr>\n",
       "      <th>2</th>\n",
       "      <td>15404</td>\n",
       "      <td>station wagon/sport utility vehicle</td>\n",
       "      <td>0</td>\n",
       "    </tr>\n",
       "    <tr>\n",
       "      <th>3</th>\n",
       "      <td>5104</td>\n",
       "      <td>sedan</td>\n",
       "      <td>0</td>\n",
       "    </tr>\n",
       "    <tr>\n",
       "      <th>4</th>\n",
       "      <td>5112</td>\n",
       "      <td>sedan</td>\n",
       "      <td>0</td>\n",
       "    </tr>\n",
       "    <tr>\n",
       "      <th>...</th>\n",
       "      <td>...</td>\n",
       "      <td>...</td>\n",
       "      <td>...</td>\n",
       "    </tr>\n",
       "    <tr>\n",
       "      <th>435498</th>\n",
       "      <td>231681</td>\n",
       "      <td>station wagon/sport utility vehicle</td>\n",
       "      <td>0</td>\n",
       "    </tr>\n",
       "    <tr>\n",
       "      <th>435499</th>\n",
       "      <td>230485</td>\n",
       "      <td>sedan</td>\n",
       "      <td>0</td>\n",
       "    </tr>\n",
       "    <tr>\n",
       "      <th>435500</th>\n",
       "      <td>225966</td>\n",
       "      <td>passenger vehicle</td>\n",
       "      <td>0</td>\n",
       "    </tr>\n",
       "    <tr>\n",
       "      <th>435501</th>\n",
       "      <td>229916</td>\n",
       "      <td>passenger vehicle</td>\n",
       "      <td>0</td>\n",
       "    </tr>\n",
       "    <tr>\n",
       "      <th>435502</th>\n",
       "      <td>231568</td>\n",
       "      <td>station wagon/sport utility vehicle</td>\n",
       "      <td>0</td>\n",
       "    </tr>\n",
       "  </tbody>\n",
       "</table>\n",
       "<p>435503 rows × 3 columns</p>\n",
       "</div>"
      ],
      "text/plain": [
       "         index                         VEHICLE_TYPE  TOTAL_KILLS\n",
       "0         3165                                 taxi            0\n",
       "1         3081                                sedan            0\n",
       "2        15404  station wagon/sport utility vehicle            0\n",
       "3         5104                                sedan            0\n",
       "4         5112                                sedan            0\n",
       "...        ...                                  ...          ...\n",
       "435498  231681  station wagon/sport utility vehicle            0\n",
       "435499  230485                                sedan            0\n",
       "435500  225966                    passenger vehicle            0\n",
       "435501  229916                    passenger vehicle            0\n",
       "435502  231568  station wagon/sport utility vehicle            0\n",
       "\n",
       "[435503 rows x 3 columns]"
      ]
     },
     "execution_count": 20,
     "metadata": {},
     "output_type": "execute_result"
    }
   ],
   "source": [
    "d1 = dth_df[['VEHICLE TYPE CODE 1', 'TOTAL_KILLS']]\n",
    "d2 = dth_df[['VEHICLE TYPE CODE 2', 'TOTAL_KILLS']]\n",
    "d3 = dth_df[['VEHICLE TYPE CODE 3', 'TOTAL_KILLS']]\n",
    "d4 = dth_df[['VEHICLE TYPE CODE 4', 'TOTAL_KILLS']]\n",
    "d5 = dth_df[['VEHICLE TYPE CODE 5', 'TOTAL_KILLS']]\n",
    "\n",
    "d1.rename(columns={'VEHICLE TYPE CODE 1':'VEHICLE_TYPE'},inplace=True)\n",
    "d2.rename(columns={'VEHICLE TYPE CODE 2':'VEHICLE_TYPE'},inplace=True)\n",
    "d3.rename(columns={'VEHICLE TYPE CODE 3':'VEHICLE_TYPE'},inplace=True)\n",
    "d4.rename(columns={'VEHICLE TYPE CODE 4':'VEHICLE_TYPE'},inplace=True)\n",
    "d5.rename(columns={'VEHICLE TYPE CODE 5':'VEHICLE_TYPE'},inplace=True)\n",
    "\n",
    "dth_df2 = d1.append([d2,d3,d4,d5])\n",
    "dth_df2.dropna(inplace=True)\n",
    "\n",
    "dth_df2.loc[dth_df2.VEHICLE_TYPE == \"SPORT UTILITY / STATION WAGON\", \"VEHICLE_TYPE\"] = \"Station Wagon/Sport Utility Vehicle\"\n",
    "dth_df2['VEHICLE_TYPE'] = dth_df2['VEHICLE_TYPE'].str.lower()\n",
    "dth_df2['VEHICLE_TYPE'] = dth_df2['VEHICLE_TYPE'].apply(lambda x: \"ambulance\" if x in \"ambulance\" else x)\n",
    "dth_df2['VEHICLE_TYPE'] = dth_df2['VEHICLE_TYPE'].apply(lambda x: \"sedan\" if x in \"sedan\" else x)\n",
    "dth_df2['VEHICLE_TYPE'] = dth_df2['VEHICLE_TYPE'].apply(lambda x: \"bike\" if x in \"bicycle\" else x)\n",
    "dth_df2['VEHICLE_TYPE'] = dth_df2['VEHICLE_TYPE'].apply(lambda x: \"sedan\" if \"sedan\" in x else x)\n",
    "dth_df2.reset_index(inplace=True)\n",
    "\n",
    "# dth_df2[(dth_df2['VEHICLE_TYPE']=='ambulance') & (dth_df2[\"TOTAL_KILLS\"]==1)]\n",
    "dth_df2"
   ]
  },
  {
   "cell_type": "code",
   "execution_count": 27,
   "metadata": {},
   "outputs": [
    {
     "data": {
      "text/html": [
       "<div>\n",
       "<style scoped>\n",
       "    .dataframe tbody tr th:only-of-type {\n",
       "        vertical-align: middle;\n",
       "    }\n",
       "\n",
       "    .dataframe tbody tr th {\n",
       "        vertical-align: top;\n",
       "    }\n",
       "\n",
       "    .dataframe thead th {\n",
       "        text-align: right;\n",
       "    }\n",
       "</style>\n",
       "<table border=\"1\" class=\"dataframe\">\n",
       "  <thead>\n",
       "    <tr style=\"text-align: right;\">\n",
       "      <th></th>\n",
       "      <th>index</th>\n",
       "      <th>VEHICLE_TYPE</th>\n",
       "      <th>TOTAL_KILLS</th>\n",
       "    </tr>\n",
       "  </thead>\n",
       "  <tbody>\n",
       "    <tr>\n",
       "      <th>0</th>\n",
       "      <td>0</td>\n",
       "      <td>sedan</td>\n",
       "      <td>0</td>\n",
       "    </tr>\n",
       "    <tr>\n",
       "      <th>1</th>\n",
       "      <td>1</td>\n",
       "      <td>sedan</td>\n",
       "      <td>0</td>\n",
       "    </tr>\n",
       "    <tr>\n",
       "      <th>2</th>\n",
       "      <td>2</td>\n",
       "      <td>sedan</td>\n",
       "      <td>0</td>\n",
       "    </tr>\n",
       "    <tr>\n",
       "      <th>3</th>\n",
       "      <td>3</td>\n",
       "      <td>bike</td>\n",
       "      <td>0</td>\n",
       "    </tr>\n",
       "    <tr>\n",
       "      <th>4</th>\n",
       "      <td>3</td>\n",
       "      <td>station wagon/sport utility vehicle</td>\n",
       "      <td>0</td>\n",
       "    </tr>\n",
       "    <tr>\n",
       "      <th>...</th>\n",
       "      <td>...</td>\n",
       "      <td>...</td>\n",
       "      <td>...</td>\n",
       "    </tr>\n",
       "    <tr>\n",
       "      <th>354055</th>\n",
       "      <td>238519</td>\n",
       "      <td>passenger vehicle</td>\n",
       "      <td>0</td>\n",
       "    </tr>\n",
       "    <tr>\n",
       "      <th>354056</th>\n",
       "      <td>238519</td>\n",
       "      <td>station wagon/sport utility vehicle</td>\n",
       "      <td>0</td>\n",
       "    </tr>\n",
       "    <tr>\n",
       "      <th>354057</th>\n",
       "      <td>238520</td>\n",
       "      <td>passenger vehicle</td>\n",
       "      <td>0</td>\n",
       "    </tr>\n",
       "    <tr>\n",
       "      <th>354058</th>\n",
       "      <td>238520</td>\n",
       "      <td>station wagon/sport utility vehicle</td>\n",
       "      <td>0</td>\n",
       "    </tr>\n",
       "    <tr>\n",
       "      <th>354059</th>\n",
       "      <td>238521</td>\n",
       "      <td>station wagon/sport utility vehicle</td>\n",
       "      <td>0</td>\n",
       "    </tr>\n",
       "  </tbody>\n",
       "</table>\n",
       "<p>354060 rows × 3 columns</p>\n",
       "</div>"
      ],
      "text/plain": [
       "         index                         VEHICLE_TYPE  TOTAL_KILLS\n",
       "0            0                                sedan            0\n",
       "1            1                                sedan            0\n",
       "2            2                                sedan            0\n",
       "3            3                                 bike            0\n",
       "4            3  station wagon/sport utility vehicle            0\n",
       "...        ...                                  ...          ...\n",
       "354055  238519                    passenger vehicle            0\n",
       "354056  238519  station wagon/sport utility vehicle            0\n",
       "354057  238520                    passenger vehicle            0\n",
       "354058  238520  station wagon/sport utility vehicle            0\n",
       "354059  238521  station wagon/sport utility vehicle            0\n",
       "\n",
       "[354060 rows x 3 columns]"
      ]
     },
     "execution_count": 27,
     "metadata": {},
     "output_type": "execute_result"
    }
   ],
   "source": [
    "dth_df2 = dth_df2.groupby(['index','VEHICLE_TYPE']).first()\n",
    "\n",
    "# dth_df2.sort_values('index').groupby(['VEHICLE_TYPE']).first()"
   ]
  },
  {
   "cell_type": "code",
   "execution_count": 30,
   "metadata": {},
   "outputs": [
    {
     "data": {
      "text/html": [
       "<div>\n",
       "<style scoped>\n",
       "    .dataframe tbody tr th:only-of-type {\n",
       "        vertical-align: middle;\n",
       "    }\n",
       "\n",
       "    .dataframe tbody tr th {\n",
       "        vertical-align: top;\n",
       "    }\n",
       "\n",
       "    .dataframe thead th {\n",
       "        text-align: right;\n",
       "    }\n",
       "</style>\n",
       "<table border=\"1\" class=\"dataframe\">\n",
       "  <thead>\n",
       "    <tr style=\"text-align: right;\">\n",
       "      <th></th>\n",
       "      <th>index</th>\n",
       "      <th>VEHICLE_TYPE</th>\n",
       "      <th>TOTAL_KILLS</th>\n",
       "    </tr>\n",
       "  </thead>\n",
       "  <tbody>\n",
       "    <tr>\n",
       "      <th>8317</th>\n",
       "      <td>5588</td>\n",
       "      <td>station wagon/sport utility vehicle</td>\n",
       "      <td>1</td>\n",
       "    </tr>\n",
       "    <tr>\n",
       "      <th>8800</th>\n",
       "      <td>5919</td>\n",
       "      <td>station wagon/sport utility vehicle</td>\n",
       "      <td>1</td>\n",
       "    </tr>\n",
       "    <tr>\n",
       "      <th>12819</th>\n",
       "      <td>8588</td>\n",
       "      <td>station wagon/sport utility vehicle</td>\n",
       "      <td>1</td>\n",
       "    </tr>\n",
       "    <tr>\n",
       "      <th>12831</th>\n",
       "      <td>8595</td>\n",
       "      <td>station wagon/sport utility vehicle</td>\n",
       "      <td>1</td>\n",
       "    </tr>\n",
       "    <tr>\n",
       "      <th>13062</th>\n",
       "      <td>8744</td>\n",
       "      <td>station wagon/sport utility vehicle</td>\n",
       "      <td>1</td>\n",
       "    </tr>\n",
       "    <tr>\n",
       "      <th>...</th>\n",
       "      <td>...</td>\n",
       "      <td>...</td>\n",
       "      <td>...</td>\n",
       "    </tr>\n",
       "    <tr>\n",
       "      <th>334462</th>\n",
       "      <td>225006</td>\n",
       "      <td>station wagon/sport utility vehicle</td>\n",
       "      <td>1</td>\n",
       "    </tr>\n",
       "    <tr>\n",
       "      <th>340037</th>\n",
       "      <td>228847</td>\n",
       "      <td>station wagon/sport utility vehicle</td>\n",
       "      <td>1</td>\n",
       "    </tr>\n",
       "    <tr>\n",
       "      <th>340252</th>\n",
       "      <td>228991</td>\n",
       "      <td>station wagon/sport utility vehicle</td>\n",
       "      <td>1</td>\n",
       "    </tr>\n",
       "    <tr>\n",
       "      <th>341575</th>\n",
       "      <td>229907</td>\n",
       "      <td>station wagon/sport utility vehicle</td>\n",
       "      <td>1</td>\n",
       "    </tr>\n",
       "    <tr>\n",
       "      <th>351612</th>\n",
       "      <td>236846</td>\n",
       "      <td>station wagon/sport utility vehicle</td>\n",
       "      <td>1</td>\n",
       "    </tr>\n",
       "  </tbody>\n",
       "</table>\n",
       "<p>113 rows × 3 columns</p>\n",
       "</div>"
      ],
      "text/plain": [
       "         index                         VEHICLE_TYPE  TOTAL_KILLS\n",
       "8317      5588  station wagon/sport utility vehicle            1\n",
       "8800      5919  station wagon/sport utility vehicle            1\n",
       "12819     8588  station wagon/sport utility vehicle            1\n",
       "12831     8595  station wagon/sport utility vehicle            1\n",
       "13062     8744  station wagon/sport utility vehicle            1\n",
       "...        ...                                  ...          ...\n",
       "334462  225006  station wagon/sport utility vehicle            1\n",
       "340037  228847  station wagon/sport utility vehicle            1\n",
       "340252  228991  station wagon/sport utility vehicle            1\n",
       "341575  229907  station wagon/sport utility vehicle            1\n",
       "351612  236846  station wagon/sport utility vehicle            1\n",
       "\n",
       "[113 rows x 3 columns]"
      ]
     },
     "execution_count": 30,
     "metadata": {},
     "output_type": "execute_result"
    }
   ],
   "source": [
    "dth_df2.reset_index(level='VEHICLE_TYPE',inplace=True)\n",
    "# dth_df2.index.unique()\n",
    "dth_df2.VEHICLE_TYPE.unique().shape\n",
    "dth_df2[(dth_df2['VEHICLE_TYPE']=='station wagon/sport utility vehicle') & (dth_df2[\"TOTAL_KILLS\"]==1)]"
   ]
  },
  {
   "cell_type": "code",
   "execution_count": 31,
   "metadata": {},
   "outputs": [
    {
     "data": {
      "text/html": [
       "<div>\n",
       "<style scoped>\n",
       "    .dataframe tbody tr th:only-of-type {\n",
       "        vertical-align: middle;\n",
       "    }\n",
       "\n",
       "    .dataframe tbody tr th {\n",
       "        vertical-align: top;\n",
       "    }\n",
       "\n",
       "    .dataframe thead th {\n",
       "        text-align: right;\n",
       "    }\n",
       "</style>\n",
       "<table border=\"1\" class=\"dataframe\">\n",
       "  <thead>\n",
       "    <tr style=\"text-align: right;\">\n",
       "      <th></th>\n",
       "      <th>index</th>\n",
       "      <th>TOTAL_KILLS</th>\n",
       "    </tr>\n",
       "    <tr>\n",
       "      <th>VEHICLE_TYPE</th>\n",
       "      <th></th>\n",
       "      <th></th>\n",
       "    </tr>\n",
       "  </thead>\n",
       "  <tbody>\n",
       "    <tr>\n",
       "      <th>station wagon/sport utility vehicle</th>\n",
       "      <td>14681267486</td>\n",
       "      <td>115</td>\n",
       "    </tr>\n",
       "    <tr>\n",
       "      <th>sedan</th>\n",
       "      <td>11396633667</td>\n",
       "      <td>105</td>\n",
       "    </tr>\n",
       "    <tr>\n",
       "      <th>passenger vehicle</th>\n",
       "      <td>6626331652</td>\n",
       "      <td>20</td>\n",
       "    </tr>\n",
       "    <tr>\n",
       "      <th>taxi</th>\n",
       "      <td>2375362680</td>\n",
       "      <td>17</td>\n",
       "    </tr>\n",
       "    <tr>\n",
       "      <th>pick-up truck</th>\n",
       "      <td>1609654427</td>\n",
       "      <td>15</td>\n",
       "    </tr>\n",
       "    <tr>\n",
       "      <th>box truck</th>\n",
       "      <td>803385932</td>\n",
       "      <td>11</td>\n",
       "    </tr>\n",
       "    <tr>\n",
       "      <th>bus</th>\n",
       "      <td>575815769</td>\n",
       "      <td>8</td>\n",
       "    </tr>\n",
       "    <tr>\n",
       "      <th>bike</th>\n",
       "      <td>767187478</td>\n",
       "      <td>6</td>\n",
       "    </tr>\n",
       "    <tr>\n",
       "      <th>motorcycle</th>\n",
       "      <td>216987366</td>\n",
       "      <td>3</td>\n",
       "    </tr>\n",
       "    <tr>\n",
       "      <th>ambulance</th>\n",
       "      <td>510510826</td>\n",
       "      <td>2</td>\n",
       "    </tr>\n",
       "    <tr>\n",
       "      <th>ds</th>\n",
       "      <td>117552165</td>\n",
       "      <td>2</td>\n",
       "    </tr>\n",
       "    <tr>\n",
       "      <th>garbage or refuse</th>\n",
       "      <td>66614073</td>\n",
       "      <td>2</td>\n",
       "    </tr>\n",
       "    <tr>\n",
       "      <th>van</th>\n",
       "      <td>279119903</td>\n",
       "      <td>2</td>\n",
       "    </tr>\n",
       "    <tr>\n",
       "      <th>convertible</th>\n",
       "      <td>92300149</td>\n",
       "      <td>2</td>\n",
       "    </tr>\n",
       "    <tr>\n",
       "      <th>posta</th>\n",
       "      <td>1262649</td>\n",
       "      <td>1</td>\n",
       "    </tr>\n",
       "    <tr>\n",
       "      <th>conv</th>\n",
       "      <td>49209119</td>\n",
       "      <td>1</td>\n",
       "    </tr>\n",
       "    <tr>\n",
       "      <th>concrete mixer</th>\n",
       "      <td>17732617</td>\n",
       "      <td>1</td>\n",
       "    </tr>\n",
       "    <tr>\n",
       "      <th>fb</th>\n",
       "      <td>33646721</td>\n",
       "      <td>1</td>\n",
       "    </tr>\n",
       "    <tr>\n",
       "      <th>flat bed</th>\n",
       "      <td>60020294</td>\n",
       "      <td>1</td>\n",
       "    </tr>\n",
       "    <tr>\n",
       "      <th>sprin</th>\n",
       "      <td>910180</td>\n",
       "      <td>1</td>\n",
       "    </tr>\n",
       "    <tr>\n",
       "      <th>dump</th>\n",
       "      <td>108916903</td>\n",
       "      <td>1</td>\n",
       "    </tr>\n",
       "    <tr>\n",
       "      <th>chassis cab</th>\n",
       "      <td>15901993</td>\n",
       "      <td>1</td>\n",
       "    </tr>\n",
       "    <tr>\n",
       "      <th>pk</th>\n",
       "      <td>88910779</td>\n",
       "      <td>1</td>\n",
       "    </tr>\n",
       "    <tr>\n",
       "      <th>gray</th>\n",
       "      <td>260637</td>\n",
       "      <td>1</td>\n",
       "    </tr>\n",
       "  </tbody>\n",
       "</table>\n",
       "</div>"
      ],
      "text/plain": [
       "                                           index  TOTAL_KILLS\n",
       "VEHICLE_TYPE                                                 \n",
       "station wagon/sport utility vehicle  14681267486          115\n",
       "sedan                                11396633667          105\n",
       "passenger vehicle                     6626331652           20\n",
       "taxi                                  2375362680           17\n",
       "pick-up truck                         1609654427           15\n",
       "box truck                              803385932           11\n",
       "bus                                    575815769            8\n",
       "bike                                   767187478            6\n",
       "motorcycle                             216987366            3\n",
       "ambulance                              510510826            2\n",
       "ds                                     117552165            2\n",
       "garbage or refuse                       66614073            2\n",
       "van                                    279119903            2\n",
       "convertible                             92300149            2\n",
       "posta                                    1262649            1\n",
       "conv                                    49209119            1\n",
       "concrete mixer                          17732617            1\n",
       "fb                                      33646721            1\n",
       "flat bed                                60020294            1\n",
       "sprin                                     910180            1\n",
       "dump                                   108916903            1\n",
       "chassis cab                             15901993            1\n",
       "pk                                      88910779            1\n",
       "gray                                      260637            1"
      ]
     },
     "execution_count": 31,
     "metadata": {},
     "output_type": "execute_result"
    }
   ],
   "source": [
    "dth_df3 = dth_df2.groupby(['VEHICLE_TYPE']).agg('sum')\n",
    "dth_df3.sort_values(by=['TOTAL_KILLS'], inplace=True, ascending=False)\n",
    "# dth_df3=dth_df3.drop(columns='index')\n",
    "dth_df3[(dth_df3[\"TOTAL_KILLS\"]>0)]"
   ]
  },
  {
   "cell_type": "markdown",
   "metadata": {},
   "source": [
    "**Answer.**"
   ]
  },
  {
   "cell_type": "code",
   "execution_count": 329,
   "metadata": {
    "scrolled": false
   },
   "outputs": [],
   "source": [
    "dth_df4=dth_df3.reset_index()\n",
    "dth_df4=dth_df4[dth_df4.index<5]"
   ]
  },
  {
   "cell_type": "code",
   "execution_count": 330,
   "metadata": {},
   "outputs": [
    {
     "name": "stdout",
     "output_type": "stream",
     "text": [
      "                                     TOTAL_KILLS\n",
      "VEHICLE_TYPE                                    \n",
      "station wagon/sport utility vehicle          115\n",
      "sedan                                        105\n",
      "passenger vehicle                             20\n",
      "taxi                                          17\n",
      "pick-up truck                                 15\n"
     ]
    },
    {
     "data": {
      "image/png": "[encoded data removed]",
      "text/plain": [
       "<Figure size 1296x540 with 1 Axes>"
      ]
     },
     "metadata": {
      "needs_background": "light"
     },
     "output_type": "display_data"
    }
   ],
   "source": [
    "dth_df4=dth_df4.set_index(\"VEHICLE_TYPE\")\n",
    "print(dth_df4)\n",
    "ax = dth_df4.plot.bar(y=['TOTAL_KILLS'], legend=False, figsize = (18, 7.5))\n",
    "ax.set_xlabel(\"Vehicle type\", labelpad=18, fontsize=20, fontweight='bold')\n",
    "ax.set_ylabel(\"# Deceases\", labelpad=18, fontsize=16, fontweight='bold')\n",
    "ax.set_title('Vehicles involved in most deceases', fontsize=20, fontweight='bold', pad=15)\n",
    "ax.tick_params(axis='x', rotation=90, labelsize =14)\n",
    "ax.tick_params(axis='y', rotation=0, labelsize =14)\n",
    "\n",
    "plt.show()"
   ]
  },
  {
   "cell_type": "markdown",
   "metadata": {},
   "source": [
    "As can be seen above, the pick-up truck has the lowest amount of deceases from the top 5. Following it are the the following vehicles:\n",
    "\n",
    "box truck\t11\n",
    "\n",
    "bus\t8\n",
    "\n",
    "bike\t6\n",
    "\n",
    "motorcycle\t3\n",
    "\n",
    "All the other types of vehicles are only involved in at most 2 deceases."
   ]
  }
 ],
 "metadata": {
  "celltoolbar": "Raw Cell Format",
  "kernelspec": {
   "display_name": "Python 3",
   "language": "python",
   "name": "python3"
  },
  "language_info": {
   "codemirror_mode": {
    "name": "ipython",
    "version": 3
   },
   "file_extension": ".py",
   "mimetype": "text/x-python",
   "name": "python",
   "nbconvert_exporter": "python",
   "pygments_lexer": "ipython3",
   "version": "3.8.3"
  }
 },
 "nbformat": 4,
 "nbformat_minor": 2
}
