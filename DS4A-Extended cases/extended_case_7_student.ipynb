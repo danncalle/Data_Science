{
 "cells": [
  {
   "cell_type": "markdown",
   "metadata": {},
   "source": [
    "# Strategies to prevent overfitting in neural networks"
   ]
  },
  {
   "cell_type": "code",
   "execution_count": 2,
   "metadata": {},
   "outputs": [],
   "source": [
    "# !pip install tensorflow==2.1 --user"
   ]
  },
  {
   "cell_type": "code",
   "execution_count": 1,
   "metadata": {},
   "outputs": [],
   "source": [
    "%matplotlib inline\n",
    "\n",
    "import numpy as np\n",
    "import pandas as pd\n",
    "import tensorflow as tf\n",
    "\n",
    "from sklearn.model_selection import train_test_split\n",
    "from sklearn.metrics import accuracy_score\n",
    "from sklearn.metrics import confusion_matrix\n",
    "\n",
    "from tensorflow.keras import regularizers\n",
    "from tensorflow.keras.preprocessing.text import Tokenizer\n",
    "from tensorflow.keras.preprocessing.sequence import pad_sequences\n",
    "from tensorflow.keras.layers import Embedding, Dense, GlobalMaxPooling1D, Dropout\n",
    "from tensorflow.keras.models import Sequential\n",
    "from tensorflow.keras import regularizers\n",
    "from tensorflow.keras.callbacks import EarlyStopping\n",
    "\n",
    "try:\n",
    "    tf.set_random_seed(1337)                    # set the random seed for reproducibility\n",
    "except:\n",
    "    tf.random.set_seed(1337)                     # NOTE: Newer version of tensorflow uses tf.random.set_seed\n",
    "np.random.seed(1337)                         #       instead of tf.set_random_seed"
   ]
  },
  {
   "cell_type": "markdown",
   "metadata": {},
   "source": [
    "## Introduction\n",
    "\n",
    "**Business Context.** You are a data scientist working for a machine learning consultancy. One of your clients wants to be able to classify text reviews automatically by the likely rating (on a 1 - 5 scale) that that person would give. However, they do not have sufficient data they generated on their own to do this, so you need to use an external, rich dataset as a basis on which to build your model and then translate it over.\n",
    "\n",
    "**Business Problem.** Your task is to **build a neural networks-based model for classifying text reviews into likely ratings (on a 1 - 5 scale)**.\n",
    "\n",
    "**Analytical Context.** We'll use the Amazon review dataset again and try to classify reviews into star ratings automatically. Instead of just positive and negative, we'll take on the harder challenge of predicting the *exact* star rating. The lowest score is 1 and the highest is 5.\n",
    "\n",
    "Instead of trying to optimize by pre-processing the text, we'll do very basic tokenization and experiment with different neural network models, architectures, and hyperparameters to optimize the results. You'll start by building a simple dense neural network and try to get it to perform better using various techniques. Then you'll evaluate the results and diagnose where it tends to perform more poorly."
   ]
  },
  {
   "cell_type": "markdown",
   "metadata": {},
   "source": [
    "## Setting up and preparing the data\n",
    "\n",
    "We'll mainly be using the `keras` module from TensorFlow, but we'll also use `pandas` to read the CSV file and `sklearn` for some helper functions. We'll be using only the \"Text\" and \"Score\" columns in the `Reviews.csv` file:"
   ]
  },
  {
   "cell_type": "code",
   "execution_count": 2,
   "metadata": {},
   "outputs": [
    {
     "data": {
      "text/html": [
       "<div>\n",
       "<style scoped>\n",
       "    .dataframe tbody tr th:only-of-type {\n",
       "        vertical-align: middle;\n",
       "    }\n",
       "\n",
       "    .dataframe tbody tr th {\n",
       "        vertical-align: top;\n",
       "    }\n",
       "\n",
       "    .dataframe thead th {\n",
       "        text-align: right;\n",
       "    }\n",
       "</style>\n",
       "<table border=\"1\" class=\"dataframe\">\n",
       "  <thead>\n",
       "    <tr style=\"text-align: right;\">\n",
       "      <th></th>\n",
       "      <th>Id</th>\n",
       "      <th>ProductId</th>\n",
       "      <th>UserId</th>\n",
       "      <th>ProfileName</th>\n",
       "      <th>HelpfulnessNumerator</th>\n",
       "      <th>HelpfulnessDenominator</th>\n",
       "      <th>Score</th>\n",
       "      <th>Time</th>\n",
       "      <th>Summary</th>\n",
       "      <th>Text</th>\n",
       "    </tr>\n",
       "  </thead>\n",
       "  <tbody>\n",
       "    <tr>\n",
       "      <th>0</th>\n",
       "      <td>1</td>\n",
       "      <td>B001E4KFG0</td>\n",
       "      <td>A3SGXH7AUHU8GW</td>\n",
       "      <td>delmartian</td>\n",
       "      <td>1</td>\n",
       "      <td>1</td>\n",
       "      <td>5</td>\n",
       "      <td>1303862400</td>\n",
       "      <td>Good Quality Dog Food</td>\n",
       "      <td>I have bought several of the Vitality canned d...</td>\n",
       "    </tr>\n",
       "    <tr>\n",
       "      <th>1</th>\n",
       "      <td>2</td>\n",
       "      <td>B00813GRG4</td>\n",
       "      <td>A1D87F6ZCVE5NK</td>\n",
       "      <td>dll pa</td>\n",
       "      <td>0</td>\n",
       "      <td>0</td>\n",
       "      <td>1</td>\n",
       "      <td>1346976000</td>\n",
       "      <td>Not as Advertised</td>\n",
       "      <td>Product arrived labeled as Jumbo Salted Peanut...</td>\n",
       "    </tr>\n",
       "    <tr>\n",
       "      <th>2</th>\n",
       "      <td>3</td>\n",
       "      <td>B000LQOCH0</td>\n",
       "      <td>ABXLMWJIXXAIN</td>\n",
       "      <td>Natalia Corres \"Natalia Corres\"</td>\n",
       "      <td>1</td>\n",
       "      <td>1</td>\n",
       "      <td>4</td>\n",
       "      <td>1219017600</td>\n",
       "      <td>\"Delight\" says it all</td>\n",
       "      <td>This is a confection that has been around a fe...</td>\n",
       "    </tr>\n",
       "    <tr>\n",
       "      <th>3</th>\n",
       "      <td>4</td>\n",
       "      <td>B000UA0QIQ</td>\n",
       "      <td>A395BORC6FGVXV</td>\n",
       "      <td>Karl</td>\n",
       "      <td>3</td>\n",
       "      <td>3</td>\n",
       "      <td>2</td>\n",
       "      <td>1307923200</td>\n",
       "      <td>Cough Medicine</td>\n",
       "      <td>If you are looking for the secret ingredient i...</td>\n",
       "    </tr>\n",
       "    <tr>\n",
       "      <th>4</th>\n",
       "      <td>5</td>\n",
       "      <td>B006K2ZZ7K</td>\n",
       "      <td>A1UQRSCLF8GW1T</td>\n",
       "      <td>Michael D. Bigham \"M. Wassir\"</td>\n",
       "      <td>0</td>\n",
       "      <td>0</td>\n",
       "      <td>5</td>\n",
       "      <td>1350777600</td>\n",
       "      <td>Great taffy</td>\n",
       "      <td>Great taffy at a great price.  There was a wid...</td>\n",
       "    </tr>\n",
       "  </tbody>\n",
       "</table>\n",
       "</div>"
      ],
      "text/plain": [
       "   Id   ProductId          UserId                      ProfileName  \\\n",
       "0   1  B001E4KFG0  A3SGXH7AUHU8GW                       delmartian   \n",
       "1   2  B00813GRG4  A1D87F6ZCVE5NK                           dll pa   \n",
       "2   3  B000LQOCH0   ABXLMWJIXXAIN  Natalia Corres \"Natalia Corres\"   \n",
       "3   4  B000UA0QIQ  A395BORC6FGVXV                             Karl   \n",
       "4   5  B006K2ZZ7K  A1UQRSCLF8GW1T    Michael D. Bigham \"M. Wassir\"   \n",
       "\n",
       "   HelpfulnessNumerator  HelpfulnessDenominator  Score        Time  \\\n",
       "0                     1                       1      5  1303862400   \n",
       "1                     0                       0      1  1346976000   \n",
       "2                     1                       1      4  1219017600   \n",
       "3                     3                       3      2  1307923200   \n",
       "4                     0                       0      5  1350777600   \n",
       "\n",
       "                 Summary                                               Text  \n",
       "0  Good Quality Dog Food  I have bought several of the Vitality canned d...  \n",
       "1      Not as Advertised  Product arrived labeled as Jumbo Salted Peanut...  \n",
       "2  \"Delight\" says it all  This is a confection that has been around a fe...  \n",
       "3         Cough Medicine  If you are looking for the secret ingredient i...  \n",
       "4            Great taffy  Great taffy at a great price.  There was a wid...  "
      ]
     },
     "execution_count": 2,
     "metadata": {},
     "output_type": "execute_result"
    }
   ],
   "source": [
    "amazon_reviews = pd.read_csv('Reviews.csv', nrows=262084)\n",
    "amazon_reviews.head(5)"
   ]
  },
  {
   "cell_type": "markdown",
   "metadata": {},
   "source": [
    "### Exercise 1:\n",
    "\n",
    "Combine the first 1,000 of each of the 1-, 2-, 3-, 4-, and 5-star reviews in `amazon_reviews` into a single DataFrame (so you should have 5,000 observations in total). Split this DataFrame into training and test sets, with 80% of the data for the training set.\n",
    "\n",
    "**Hint:** `keras` will expected your labels to start with 0, and not 1, so make sure to adjust the labels accordingly."
   ]
  },
  {
   "cell_type": "code",
   "execution_count": 3,
   "metadata": {},
   "outputs": [
    {
     "name": "stderr",
     "output_type": "stream",
     "text": [
      "C:\\Conda\\envs\\extended_case_7\\lib\\site-packages\\pandas\\core\\generic.py:5303: SettingWithCopyWarning: \n",
      "A value is trying to be set on a copy of a slice from a DataFrame.\n",
      "Try using .loc[row_indexer,col_indexer] = value instead\n",
      "\n",
      "See the caveats in the documentation: https://pandas.pydata.org/pandas-docs/stable/user_guide/indexing.html#returning-a-view-versus-a-copy\n",
      "  self[name] = value\n"
     ]
    }
   ],
   "source": [
    "amazon_rev_sorted = amazon_reviews.sort_values(by=\"Score\")[[\"Score\",\"Text\"]]\n",
    "\n",
    "amazon_rev_reduced = amazon_rev_sorted.groupby([\"Score\"]).head(1000)\n",
    "amazon_rev_reduced.Score = amazon_rev_reduced.Score.apply(lambda x: x-1)\n",
    "# amazon_rev_reduced[amazon_rev_reduced.Score == 0]\n",
    "\n",
    "rev_train, rev_test = train_test_split(amazon_rev_reduced, train_size=0.8, random_state=100)\n"
   ]
  },
  {
   "cell_type": "markdown",
   "metadata": {},
   "source": [
    "**Answer.**"
   ]
  },
  {
   "cell_type": "markdown",
   "metadata": {},
   "source": [
    "------------"
   ]
  },
  {
   "cell_type": "markdown",
   "metadata": {},
   "source": [
    "## Tokenizing our texts\n",
    "\n",
    "Keras comes with its own functions to preprocess text, including a [tokenizer](https://www.tensorflow.org/api_docs/python/tf/keras/preprocessing/text/Tokenizer) (a mapping from each word in our corpus to a unique integer). Unlike the `CountVectorizer` from `sklearn`, which produces sparse matrices, `keras` often expects to work with sequences representing only the words that occur in a text. To prepare text before feeding it into a neural network, we usually:\n",
    "\n",
    "1. Create a [tokenizer](https://www.tensorflow.org/api_docs/python/tf/keras/preprocessing/text/Tokenizer).\n",
    "2. [Create sequences](https://www.tensorflow.org/api_docs/python/tf/keras/preprocessing/text/Tokenizer#texts_to_sequences) from our text (each text becomes a list of integers, based on the tokenizer mapping, instead of words)\n",
    "3. [Pad or truncate](https://www.tensorflow.org/api_docs/python/tf/keras/preprocessing/sequence/pad_sequences) each sequence to a fixed length (very short texts get `0`s added to them, while very long ones are truncated).\n",
    "\n",
    "The tokenizer has a configurable word cap, so it will only consider the $n$ most common words in the corpus, ignoring very rare words."
   ]
  },
  {
   "cell_type": "markdown",
   "metadata": {},
   "source": [
    "### Exercise 2:\n",
    "\n",
    "In this exercise, you will learn how to use the `tf.keras.preprocessing.text.Tokenizer` tool to carry out the preprocessing steps described above.\n",
    "\n",
    "#### 2.1\n",
    "\n",
    "Perform some exploratory analysis of the dataset to calculate the number of unique words in our corpus and the distribution of the number of words in each review of the training set. What is the 80th percentile of this distribution?"
   ]
  },
  {
   "cell_type": "code",
   "execution_count": 4,
   "metadata": {},
   "outputs": [
    {
     "name": "stderr",
     "output_type": "stream",
     "text": [
      "C:\\Conda\\envs\\extended_case_7\\lib\\site-packages\\ipykernel_launcher.py:3: SettingWithCopyWarning: \n",
      "A value is trying to be set on a copy of a slice from a DataFrame.\n",
      "Try using .loc[row_indexer,col_indexer] = value instead\n",
      "\n",
      "See the caveats in the documentation: https://pandas.pydata.org/pandas-docs/stable/user_guide/indexing.html#returning-a-view-versus-a-copy\n",
      "  This is separate from the ipykernel package so we can avoid doing imports until\n"
     ]
    },
    {
     "name": "stdout",
     "output_type": "stream",
     "text": [
      "There are 37138 different words in the original corpus\n",
      "The 80th percentile is:  29710\n",
      "There are 14962 different words in the corpus after using only lowercase and removing special characters\n",
      "The 80th percentile is: 11969\n"
     ]
    }
   ],
   "source": [
    "import re \n",
    "\n",
    "amazon_rev_reduced[\"text_new\"] = amazon_rev_reduced.Text.apply(lambda x: x.lower())\n",
    "\n",
    "special_chars = amazon_rev_reduced.text_new.apply(lambda x: [each for each in list(x) if not each.isalnum() and each != ' '])\n",
    "flat_list = [item for sublist in special_chars for item in sublist]\n",
    "# print(set(flat_list))\n",
    "\n",
    "amazon_rev_reduced_orig = amazon_rev_reduced.copy()\n",
    "\n",
    "amazon_rev_reduced.text_new = amazon_rev_reduced.text_new.apply(\n",
    "    lambda x: re.sub('[^A-Za-z0-9]+', ' ', x))\n",
    "\n",
    "words_orig = amazon_rev_reduced.Text.apply(lambda x: x.split(\" \"))\n",
    "words_orig = [word for sublist in words_orig for word in sublist]\n",
    "\n",
    "words_prep = amazon_rev_reduced.text_new.apply(lambda x: x.split(\" \"))\n",
    "words_prep = [word.strip() for words in words_prep for word in words]\n",
    "\n",
    "print(f\"There are {len(set(words_orig))} different words in the original corpus\")\n",
    "print(f\"The 80th percentile is: \", int(len(set(words_orig)) * 0.8))\n",
    "\n",
    "print(f\"There are {len(set(words_prep))} different words in the corpus after using only lowercase and removing special characters\")\n",
    "print(f\"The 80th percentile is: {int(len(set(words_prep)) * 0.8)}\")\n",
    "\n",
    "# amazon_rev_reduced.head()\n",
    "# amazon_rev_reduced.text_new"
   ]
  },
  {
   "cell_type": "code",
   "execution_count": 5,
   "metadata": {},
   "outputs": [
    {
     "data": {
      "text/plain": [
       "Text(0.5, 1.0, 'Histogram of number of words per review in the train dataset')"
      ]
     },
     "execution_count": 5,
     "metadata": {},
     "output_type": "execute_result"
    },
    {
     "data": {
      "image/png": "[encoded data removed]",
      "text/plain": [
       "<Figure size 432x288 with 1 Axes>"
      ]
     },
     "metadata": {
      "needs_background": "light"
     },
     "output_type": "display_data"
    }
   ],
   "source": [
    "import matplotlib.pyplot as plt\n",
    "words_per_review = rev_train.Text.apply(lambda x: len(x.split(\" \")))\n",
    "words_per_review.hist(bins = 100)\n",
    "\n",
    "plt.title(\"Histogram of number of words per review in the train dataset\")"
   ]
  },
  {
   "cell_type": "code",
   "execution_count": 6,
   "metadata": {},
   "outputs": [
    {
     "data": {
      "text/plain": [
       "count    4000.000000\n",
       "mean       93.326000\n",
       "std        98.810504\n",
       "min         7.000000\n",
       "25%        38.000000\n",
       "50%        65.000000\n",
       "75%       112.000000\n",
       "max      1387.000000\n",
       "Name: Text, dtype: float64"
      ]
     },
     "execution_count": 6,
     "metadata": {},
     "output_type": "execute_result"
    }
   ],
   "source": [
    "words_per_review.describe()"
   ]
  },
  {
   "cell_type": "code",
   "execution_count": 7,
   "metadata": {},
   "outputs": [
    {
     "data": {
      "text/plain": [
       "93.326"
      ]
     },
     "execution_count": 7,
     "metadata": {},
     "output_type": "execute_result"
    }
   ],
   "source": [
    "words_per_review.mean()"
   ]
  },
  {
   "cell_type": "code",
   "execution_count": 8,
   "metadata": {},
   "outputs": [
    {
     "name": "stdout",
     "output_type": "stream",
     "text": [
      "In the train dataset, the 80th quantile of the number of words per review is 127.0\n"
     ]
    }
   ],
   "source": [
    "print(\"In the train dataset, the 80th quantile of the number of words per review is\",words_per_review.quantile(0.8))"
   ]
  },
  {
   "cell_type": "markdown",
   "metadata": {},
   "source": [
    "**Answer.**"
   ]
  },
  {
   "cell_type": "markdown",
   "metadata": {},
   "source": [
    "------------"
   ]
  },
  {
   "cell_type": "markdown",
   "metadata": {},
   "source": [
    "#### 2.2\n",
    "\n",
    "Given the results above, we create a tokenizer using only the top 20,000 most frequent words in our corpus (which corresponds to roughly 80% of the words): "
   ]
  },
  {
   "cell_type": "code",
   "execution_count": 9,
   "metadata": {},
   "outputs": [],
   "source": [
    "tokenizer = Tokenizer(num_words=20000) #We create the tokenizer using only top 20000 words"
   ]
  },
  {
   "cell_type": "code",
   "execution_count": 10,
   "metadata": {},
   "outputs": [],
   "source": [
    "tokenizer.fit_on_texts(rev_train['Text'])  #Then, we create the text->indices mapping. "
   ]
  },
  {
   "cell_type": "markdown",
   "metadata": {},
   "source": [
    "The above line has given several features and methods to our tokenizer. For instance, print the line `tokenizer.word_index` in a new cell - what do you see? Apply the `tokenizer.texts_to_sequences()` method on the list `['I just feel very very good']`. Apply the `tokenizer.sequences_to_texts()` method on the list `[[109, 19, 824, 76, 114, 6315, 1137, 8070]]`. What were your results?"
   ]
  },
  {
   "cell_type": "code",
   "execution_count": 11,
   "metadata": {},
   "outputs": [
    {
     "data": {
      "text/plain": [
       "{'the': 1,\n",
       " 'i': 2,\n",
       " 'a': 3,\n",
       " 'and': 4,\n",
       " 'to': 5,\n",
       " 'it': 6,\n",
       " 'of': 7,\n",
       " 'br': 8,\n",
       " 'is': 9,\n",
       " 'this': 10,\n",
       " 'in': 11,\n",
       " 'for': 12,\n",
       " 'that': 13,\n",
       " 'my': 14,\n",
       " 'but': 15,\n",
       " 'not': 16,\n",
       " 'was': 17,\n",
       " 'with': 18,\n",
       " 'have': 19,\n",
       " 'you': 20,\n",
       " 'as': 21,\n",
       " 'like': 22,\n",
       " 'are': 23,\n",
       " 'they': 24,\n",
       " 'so': 25,\n",
       " 'on': 26,\n",
       " 'be': 27,\n",
       " 'these': 28,\n",
       " 'good': 29,\n",
       " 'taste': 30,\n",
       " 'them': 31,\n",
       " 'if': 32,\n",
       " 'product': 33,\n",
       " 'just': 34,\n",
       " 'coffee': 35,\n",
       " 'or': 36,\n",
       " 'one': 37,\n",
       " 'at': 38,\n",
       " 'more': 39,\n",
       " 'very': 40,\n",
       " 'would': 41,\n",
       " 'all': 42,\n",
       " 'from': 43,\n",
       " 'food': 44,\n",
       " 'out': 45,\n",
       " 'flavor': 46,\n",
       " 'had': 47,\n",
       " 'me': 48,\n",
       " \"it's\": 49,\n",
       " 'can': 50,\n",
       " 'when': 51,\n",
       " 'will': 52,\n",
       " 'has': 53,\n",
       " 'get': 54,\n",
       " 'no': 55,\n",
       " 'really': 56,\n",
       " 'than': 57,\n",
       " 'we': 58,\n",
       " 'because': 59,\n",
       " 'other': 60,\n",
       " 'she': 61,\n",
       " 'about': 62,\n",
       " 'great': 63,\n",
       " 'up': 64,\n",
       " 'some': 65,\n",
       " 'much': 66,\n",
       " \"don't\": 67,\n",
       " 'only': 68,\n",
       " 'too': 69,\n",
       " 'were': 70,\n",
       " 'what': 71,\n",
       " 'an': 72,\n",
       " 'there': 73,\n",
       " 'your': 74,\n",
       " 'tea': 75,\n",
       " 'little': 76,\n",
       " 'even': 77,\n",
       " 'do': 78,\n",
       " 'which': 79,\n",
       " 'amazon': 80,\n",
       " 'by': 81,\n",
       " 'cup': 82,\n",
       " 'love': 83,\n",
       " 'also': 84,\n",
       " 'after': 85,\n",
       " \"i'm\": 86,\n",
       " 'buy': 87,\n",
       " 'her': 88,\n",
       " 'tried': 89,\n",
       " 'eat': 90,\n",
       " 'time': 91,\n",
       " 'he': 92,\n",
       " 'better': 93,\n",
       " 'am': 94,\n",
       " 'been': 95,\n",
       " 'price': 96,\n",
       " 'use': 97,\n",
       " 'then': 98,\n",
       " 'any': 99,\n",
       " 'first': 100,\n",
       " 'now': 101,\n",
       " 'try': 102,\n",
       " 'again': 103,\n",
       " 'well': 104,\n",
       " 'chocolate': 105,\n",
       " 'find': 106,\n",
       " 'dog': 107,\n",
       " \"i've\": 108,\n",
       " 'make': 109,\n",
       " 'their': 110,\n",
       " 'box': 111,\n",
       " 'did': 112,\n",
       " 'sugar': 113,\n",
       " 'think': 114,\n",
       " '2': 115,\n",
       " 'way': 116,\n",
       " 'made': 117,\n",
       " '3': 118,\n",
       " 'still': 119,\n",
       " 'bag': 120,\n",
       " '1': 121,\n",
       " 'water': 122,\n",
       " 'cat': 123,\n",
       " 'used': 124,\n",
       " 'got': 125,\n",
       " 'something': 126,\n",
       " \"didn't\": 127,\n",
       " 'know': 128,\n",
       " 'bought': 129,\n",
       " 'day': 130,\n",
       " 'free': 131,\n",
       " 'best': 132,\n",
       " 'sweet': 133,\n",
       " 'could': 134,\n",
       " 'bad': 135,\n",
       " 'drink': 136,\n",
       " 'over': 137,\n",
       " 'two': 138,\n",
       " 'our': 139,\n",
       " 'does': 140,\n",
       " 'since': 141,\n",
       " 'thought': 142,\n",
       " 'however': 143,\n",
       " '4': 144,\n",
       " 'ingredients': 145,\n",
       " 'who': 146,\n",
       " 'order': 147,\n",
       " 'back': 148,\n",
       " 'bit': 149,\n",
       " 'found': 150,\n",
       " '5': 151,\n",
       " 'tastes': 152,\n",
       " 'off': 153,\n",
       " 'same': 154,\n",
       " 'less': 155,\n",
       " 'eating': 156,\n",
       " 'few': 157,\n",
       " 'most': 158,\n",
       " 'give': 159,\n",
       " 'want': 160,\n",
       " 'products': 161,\n",
       " 'into': 162,\n",
       " 'before': 163,\n",
       " 'mix': 164,\n",
       " 'never': 165,\n",
       " 'though': 166,\n",
       " \"doesn't\": 167,\n",
       " 'k': 168,\n",
       " 'many': 169,\n",
       " 'store': 170,\n",
       " 'go': 171,\n",
       " 'different': 172,\n",
       " 'while': 173,\n",
       " 'diet': 174,\n",
       " 'how': 175,\n",
       " 'flavors': 176,\n",
       " 'real': 177,\n",
       " 'enough': 178,\n",
       " 'cats': 179,\n",
       " \"can't\": 180,\n",
       " 'gluten': 181,\n",
       " 'should': 182,\n",
       " 'brand': 183,\n",
       " 'nice': 184,\n",
       " 'going': 185,\n",
       " 'thing': 186,\n",
       " 'sure': 187,\n",
       " 'looking': 188,\n",
       " 'regular': 189,\n",
       " 'around': 190,\n",
       " 'its': 191,\n",
       " 'pretty': 192,\n",
       " 'stuff': 193,\n",
       " 'always': 194,\n",
       " 'being': 195,\n",
       " 'milk': 196,\n",
       " 'using': 197,\n",
       " 'small': 198,\n",
       " 'work': 199,\n",
       " 'down': 200,\n",
       " 'hot': 201,\n",
       " 'cups': 202,\n",
       " 'ordered': 203,\n",
       " 'lot': 204,\n",
       " 'say': 205,\n",
       " 'strong': 206,\n",
       " 'every': 207,\n",
       " 'package': 208,\n",
       " 'see': 209,\n",
       " 'ever': 210,\n",
       " 'old': 211,\n",
       " 'kind': 212,\n",
       " 'put': 213,\n",
       " 'treats': 214,\n",
       " 'high': 215,\n",
       " 'hard': 216,\n",
       " 'three': 217,\n",
       " 'may': 218,\n",
       " 'him': 219,\n",
       " 'pack': 220,\n",
       " 'years': 221,\n",
       " 'bags': 222,\n",
       " 'long': 223,\n",
       " 'quality': 224,\n",
       " 'trying': 225,\n",
       " 'recommend': 226,\n",
       " 'whole': 227,\n",
       " 'quite': 228,\n",
       " 'dogs': 229,\n",
       " 'right': 230,\n",
       " 'juice': 231,\n",
       " 'tasted': 232,\n",
       " 'money': 233,\n",
       " 'buying': 234,\n",
       " 'bottle': 235,\n",
       " 'natural': 236,\n",
       " 'another': 237,\n",
       " 'those': 238,\n",
       " 'his': 239,\n",
       " 'makes': 240,\n",
       " 'size': 241,\n",
       " 'without': 242,\n",
       " 'chicken': 243,\n",
       " 'away': 244,\n",
       " 'probably': 245,\n",
       " 'new': 246,\n",
       " 'healthy': 247,\n",
       " 'treat': 248,\n",
       " '6': 249,\n",
       " 'smell': 250,\n",
       " 'maybe': 251,\n",
       " 'received': 252,\n",
       " 'bars': 253,\n",
       " 'far': 254,\n",
       " 'might': 255,\n",
       " 'snack': 256,\n",
       " 'amount': 257,\n",
       " 'keep': 258,\n",
       " 'things': 259,\n",
       " 'disappointed': 260,\n",
       " 'people': 261,\n",
       " 'need': 262,\n",
       " 'salt': 263,\n",
       " 'actually': 264,\n",
       " 'each': 265,\n",
       " 'take': 266,\n",
       " 'shipping': 267,\n",
       " 'feel': 268,\n",
       " 'here': 269,\n",
       " 'why': 270,\n",
       " \"i'd\": 271,\n",
       " 'favorite': 272,\n",
       " 'big': 273,\n",
       " 'fresh': 274,\n",
       " 'through': 275,\n",
       " 'half': 276,\n",
       " 'organic': 277,\n",
       " 'said': 278,\n",
       " 'item': 279,\n",
       " '10': 280,\n",
       " 'almost': 281,\n",
       " 'dry': 282,\n",
       " 'per': 283,\n",
       " 'stars': 284,\n",
       " 'both': 285,\n",
       " 'candy': 286,\n",
       " 'cookies': 287,\n",
       " 'green': 288,\n",
       " '8': 289,\n",
       " 'oz': 290,\n",
       " 'definitely': 291,\n",
       " 'add': 292,\n",
       " \"isn't\": 293,\n",
       " 'company': 294,\n",
       " 'anything': 295,\n",
       " 'year': 296,\n",
       " 'enjoy': 297,\n",
       " 'expensive': 298,\n",
       " 'texture': 299,\n",
       " 'problem': 300,\n",
       " 'butter': 301,\n",
       " 'fine': 302,\n",
       " \"you're\": 303,\n",
       " 'worth': 304,\n",
       " 'purchased': 305,\n",
       " 'foods': 306,\n",
       " 'tasting': 307,\n",
       " 'review': 308,\n",
       " 'calories': 309,\n",
       " \"that's\": 310,\n",
       " 'own': 311,\n",
       " 'nothing': 312,\n",
       " 'plastic': 313,\n",
       " 'delicious': 314,\n",
       " 'instead': 315,\n",
       " 'pretzels': 316,\n",
       " 'getting': 317,\n",
       " 'cereal': 318,\n",
       " 'look': 319,\n",
       " 'least': 320,\n",
       " 'easy': 321,\n",
       " 'chips': 322,\n",
       " 'rice': 323,\n",
       " 'reviews': 324,\n",
       " 'come': 325,\n",
       " \"wasn't\": 326,\n",
       " 'happy': 327,\n",
       " \"won't\": 328,\n",
       " 'loves': 329,\n",
       " 'corn': 330,\n",
       " 'purchase': 331,\n",
       " 'fruit': 332,\n",
       " 'tasty': 333,\n",
       " 'local': 334,\n",
       " 'packaging': 335,\n",
       " 'months': 336,\n",
       " 'toy': 337,\n",
       " 'times': 338,\n",
       " 'flavored': 339,\n",
       " 'rather': 340,\n",
       " 'once': 341,\n",
       " 'morning': 342,\n",
       " 'low': 343,\n",
       " 'came': 344,\n",
       " 'mouth': 345,\n",
       " 'took': 346,\n",
       " 'open': 347,\n",
       " 'last': 348,\n",
       " '12': 349,\n",
       " 'large': 350,\n",
       " 'gave': 351,\n",
       " 'vanilla': 352,\n",
       " 'case': 353,\n",
       " 'sauce': 354,\n",
       " 'full': 355,\n",
       " 'able': 356,\n",
       " 'wanted': 357,\n",
       " 'com': 358,\n",
       " 'oil': 359,\n",
       " 'bar': 360,\n",
       " 'energy': 361,\n",
       " 'until': 362,\n",
       " 'protein': 363,\n",
       " 'such': 364,\n",
       " 'usually': 365,\n",
       " 'seems': 366,\n",
       " 'cholesterol': 367,\n",
       " 'having': 368,\n",
       " 'several': 369,\n",
       " 'days': 370,\n",
       " 'house': 371,\n",
       " \"i'll\": 372,\n",
       " 'save': 373,\n",
       " 'bitter': 374,\n",
       " 'black': 375,\n",
       " 'science': 376,\n",
       " 'comes': 377,\n",
       " 'loved': 378,\n",
       " 'powder': 379,\n",
       " 'seem': 380,\n",
       " 'hair': 381,\n",
       " 'top': 382,\n",
       " 'coconut': 383,\n",
       " 'added': 384,\n",
       " 'fat': 385,\n",
       " 'liked': 386,\n",
       " 'blend': 387,\n",
       " 'arrived': 388,\n",
       " 'went': 389,\n",
       " 'ok': 390,\n",
       " 'pieces': 391,\n",
       " 'side': 392,\n",
       " \"wouldn't\": 393,\n",
       " 'cost': 394,\n",
       " 'variety': 395,\n",
       " 'syrup': 396,\n",
       " 'us': 397,\n",
       " 'perfect': 398,\n",
       " 'brands': 399,\n",
       " 'where': 400,\n",
       " 'fact': 401,\n",
       " 'ounce': 402,\n",
       " 'opened': 403,\n",
       " 'prefer': 404,\n",
       " \"they're\": 405,\n",
       " 'couple': 406,\n",
       " 'either': 407,\n",
       " 'grocery': 408,\n",
       " 'ones': 409,\n",
       " 'dark': 410,\n",
       " 'husband': 411,\n",
       " 'others': 412,\n",
       " 'else': 413,\n",
       " 'wheat': 414,\n",
       " 'peanut': 415,\n",
       " 'guess': 416,\n",
       " 'beans': 417,\n",
       " 'overall': 418,\n",
       " 'roast': 419,\n",
       " 'serving': 420,\n",
       " 'care': 421,\n",
       " 'feed': 422,\n",
       " 'four': 423,\n",
       " 'decided': 424,\n",
       " 'especially': 425,\n",
       " 'whatever': 426,\n",
       " 'boxes': 427,\n",
       " 'cream': 428,\n",
       " 'hours': 429,\n",
       " 'keurig': 430,\n",
       " 'nuts': 431,\n",
       " 'feeding': 432,\n",
       " 'second': 433,\n",
       " 'cherry': 434,\n",
       " 'started': 435,\n",
       " 'family': 436,\n",
       " 'bottom': 437,\n",
       " 'mixed': 438,\n",
       " 'health': 439,\n",
       " 'unfortunately': 440,\n",
       " 'end': 441,\n",
       " 'wonderful': 442,\n",
       " 'fan': 443,\n",
       " 'granola': 444,\n",
       " 'inside': 445,\n",
       " 'recommended': 446,\n",
       " \"couldn't\": 447,\n",
       " 'light': 448,\n",
       " 'let': 449,\n",
       " 'http': 450,\n",
       " 'www': 451,\n",
       " 'weeks': 452,\n",
       " 'ago': 453,\n",
       " 'next': 454,\n",
       " 'says': 455,\n",
       " 'idea': 456,\n",
       " 'href': 457,\n",
       " 'gp': 458,\n",
       " 'must': 459,\n",
       " 'etc': 460,\n",
       " 'yet': 461,\n",
       " 'cheap': 462,\n",
       " 'making': 463,\n",
       " 'home': 464,\n",
       " 'drinking': 465,\n",
       " 'although': 466,\n",
       " 'total': 467,\n",
       " 'please': 468,\n",
       " 'read': 469,\n",
       " 'part': 470,\n",
       " 'deal': 471,\n",
       " 'bold': 472,\n",
       " 'color': 473,\n",
       " 'spicy': 474,\n",
       " '50': 475,\n",
       " 'longer': 476,\n",
       " 'tell': 477,\n",
       " 'minutes': 478,\n",
       " 'popcorn': 479,\n",
       " 'type': 480,\n",
       " 'likes': 481,\n",
       " 'stick': 482,\n",
       " 'excellent': 483,\n",
       " 'stores': 484,\n",
       " 'wish': 485,\n",
       " 'white': 486,\n",
       " 'experience': 487,\n",
       " 'soft': 488,\n",
       " 'waste': 489,\n",
       " 'cans': 490,\n",
       " 'shampoo': 491,\n",
       " 'month': 492,\n",
       " 'weak': 493,\n",
       " 'left': 494,\n",
       " 'believe': 495,\n",
       " 'star': 496,\n",
       " 'artificial': 497,\n",
       " 'extra': 498,\n",
       " 'clean': 499,\n",
       " 'slightly': 500,\n",
       " 'stale': 501,\n",
       " 'list': 502,\n",
       " 'wrong': 503,\n",
       " 'brew': 504,\n",
       " 'anyone': 505,\n",
       " 'absolutely': 506,\n",
       " 'chews': 507,\n",
       " 'week': 508,\n",
       " 'brown': 509,\n",
       " 'reason': 510,\n",
       " 'looks': 511,\n",
       " 'date': 512,\n",
       " 'ground': 513,\n",
       " 'difference': 514,\n",
       " 'version': 515,\n",
       " 'red': 516,\n",
       " 'works': 517,\n",
       " 'cheaper': 518,\n",
       " 'twice': 519,\n",
       " 'cookie': 520,\n",
       " 'help': 521,\n",
       " 'quickly': 522,\n",
       " 'contains': 523,\n",
       " 'pods': 524,\n",
       " 'meat': 525,\n",
       " 'container': 526,\n",
       " 'kids': 527,\n",
       " 'acid': 528,\n",
       " 'aftertaste': 529,\n",
       " 'apple': 530,\n",
       " 'itself': 531,\n",
       " 'told': 532,\n",
       " 'cannot': 533,\n",
       " 'jar': 534,\n",
       " 'honey': 535,\n",
       " 'soy': 536,\n",
       " 'ingredient': 537,\n",
       " 'ginger': 538,\n",
       " '100': 539,\n",
       " 'bean': 540,\n",
       " 'myself': 541,\n",
       " 'cut': 542,\n",
       " 'highly': 543,\n",
       " 'choice': 544,\n",
       " 'ordering': 545,\n",
       " 'salty': 546,\n",
       " 'cheese': 547,\n",
       " 'hungry': 548,\n",
       " 'single': 549,\n",
       " 'chew': 550,\n",
       " 'non': 551,\n",
       " 'plus': 552,\n",
       " 'available': 553,\n",
       " 'sodium': 554,\n",
       " 'ate': 555,\n",
       " 'original': 556,\n",
       " '7': 557,\n",
       " 'gift': 558,\n",
       " 'expect': 559,\n",
       " 'bite': 560,\n",
       " 'bowl': 561,\n",
       " 'rest': 562,\n",
       " 'sour': 563,\n",
       " 'machine': 564,\n",
       " 'rope': 565,\n",
       " 'wellness': 566,\n",
       " 'seemed': 567,\n",
       " \"aren't\": 568,\n",
       " 'smooth': 569,\n",
       " 'soda': 570,\n",
       " 'easily': 571,\n",
       " 'baby': 572,\n",
       " 'huge': 573,\n",
       " 'someone': 574,\n",
       " 'amazing': 575,\n",
       " 'ball': 576,\n",
       " 'items': 577,\n",
       " 'lower': 578,\n",
       " 'okay': 579,\n",
       " 'expected': 580,\n",
       " 'normal': 581,\n",
       " 'results': 582,\n",
       " 'close': 583,\n",
       " 'done': 584,\n",
       " 'vet': 585,\n",
       " 'awful': 586,\n",
       " 'description': 587,\n",
       " 'dried': 588,\n",
       " 'crunchy': 589,\n",
       " 'online': 590,\n",
       " 'market': 591,\n",
       " 'completely': 592,\n",
       " 'life': 593,\n",
       " 'needs': 594,\n",
       " 'place': 595,\n",
       " 'smells': 596,\n",
       " 'start': 597,\n",
       " 'aroma': 598,\n",
       " 'based': 599,\n",
       " 'formula': 600,\n",
       " \"haven't\": 601,\n",
       " 'finally': 602,\n",
       " 'similar': 603,\n",
       " 'body': 604,\n",
       " 'snacks': 605,\n",
       " 'label': 606,\n",
       " 'flour': 607,\n",
       " 'value': 608,\n",
       " 'name': 609,\n",
       " 'five': 610,\n",
       " 'mind': 611,\n",
       " 'felt': 612,\n",
       " 'fiber': 613,\n",
       " 'starbucks': 614,\n",
       " 'certainly': 615,\n",
       " 'teas': 616,\n",
       " 'problems': 617,\n",
       " 'smaller': 618,\n",
       " 'often': 619,\n",
       " 'enjoyed': 620,\n",
       " 'giving': 621,\n",
       " 'grain': 622,\n",
       " 'saw': 623,\n",
       " 'pay': 624,\n",
       " 'given': 625,\n",
       " 'french': 626,\n",
       " 'excited': 627,\n",
       " 'course': 628,\n",
       " 'blue': 629,\n",
       " 'figured': 630,\n",
       " 'hazelnut': 631,\n",
       " 'expecting': 632,\n",
       " 'surprised': 633,\n",
       " 'due': 634,\n",
       " 'change': 635,\n",
       " 'along': 636,\n",
       " 'hoping': 637,\n",
       " 'lemon': 638,\n",
       " 'son': 639,\n",
       " 'cinnamon': 640,\n",
       " 'perhaps': 641,\n",
       " 'everything': 642,\n",
       " 'pepper': 643,\n",
       " \"there's\": 644,\n",
       " 'pod': 645,\n",
       " 'breakfast': 646,\n",
       " 'tiny': 647,\n",
       " 'benecol': 648,\n",
       " 'teeth': 649,\n",
       " 'between': 650,\n",
       " 'meal': 651,\n",
       " 'yourself': 652,\n",
       " \"you'll\": 653,\n",
       " 'contain': 654,\n",
       " 'later': 655,\n",
       " 'doing': 656,\n",
       " 'leave': 657,\n",
       " 'heat': 658,\n",
       " 'plain': 659,\n",
       " 'special': 660,\n",
       " 'fast': 661,\n",
       " 'decaf': 662,\n",
       " 'alternative': 663,\n",
       " 'anyway': 664,\n",
       " 'past': 665,\n",
       " 'canned': 666,\n",
       " '20': 667,\n",
       " 'taking': 668,\n",
       " 'caffeine': 669,\n",
       " 'leaves': 670,\n",
       " 'clear': 671,\n",
       " 'unless': 672,\n",
       " 'line': 673,\n",
       " 'during': 674,\n",
       " 'called': 675,\n",
       " 'peppermint': 676,\n",
       " 'terrible': 677,\n",
       " 'brewing': 678,\n",
       " 'drinks': 679,\n",
       " 'figure': 680,\n",
       " 'wet': 681,\n",
       " 'almonds': 682,\n",
       " 'already': 683,\n",
       " 'looked': 684,\n",
       " 'bottles': 685,\n",
       " 'eaten': 686,\n",
       " 'subscribe': 687,\n",
       " 'broken': 688,\n",
       " 'everyone': 689,\n",
       " 'decent': 690,\n",
       " '30': 691,\n",
       " 'hand': 692,\n",
       " 'stomach': 693,\n",
       " 'quick': 694,\n",
       " 'exactly': 695,\n",
       " 'picture': 696,\n",
       " 'friends': 697,\n",
       " 'gets': 698,\n",
       " 'extremely': 699,\n",
       " 'sorry': 700,\n",
       " 'weight': 701,\n",
       " 'cocoa': 702,\n",
       " 'compared': 703,\n",
       " 'daughter': 704,\n",
       " 'seller': 705,\n",
       " 'eats': 706,\n",
       " 'sent': 707,\n",
       " 'opinion': 708,\n",
       " 'live': 709,\n",
       " 'orange': 710,\n",
       " 'except': 711,\n",
       " 'difficult': 712,\n",
       " 'return': 713,\n",
       " 'coffees': 714,\n",
       " 'hope': 715,\n",
       " '16': 716,\n",
       " 'hint': 717,\n",
       " 'packages': 718,\n",
       " 'goes': 719,\n",
       " 'avoid': 720,\n",
       " 'ended': 721,\n",
       " 'super': 722,\n",
       " 'noticed': 723,\n",
       " 'mine': 724,\n",
       " 'medium': 725,\n",
       " 'cause': 726,\n",
       " 'point': 727,\n",
       " 'gum': 728,\n",
       " 'supposed': 729,\n",
       " 'needed': 730,\n",
       " 'liquid': 731,\n",
       " 'under': 732,\n",
       " 'crazy': 733,\n",
       " 'stop': 734,\n",
       " 'wife': 735,\n",
       " 'stuck': 736,\n",
       " 'paid': 737,\n",
       " 'kibble': 738,\n",
       " 'horrible': 739,\n",
       " 'purchasing': 740,\n",
       " 'sometimes': 741,\n",
       " 'soon': 742,\n",
       " 'anymore': 743,\n",
       " 'rich': 744,\n",
       " 'finish': 745,\n",
       " 'glad': 746,\n",
       " 'content': 747,\n",
       " 'cake': 748,\n",
       " 'chili': 749,\n",
       " 'customer': 750,\n",
       " 'entire': 751,\n",
       " 'friend': 752,\n",
       " 'servings': 753,\n",
       " 'loose': 754,\n",
       " 'floor': 755,\n",
       " 'larger': 756,\n",
       " 'beef': 757,\n",
       " 'pound': 758,\n",
       " 'mild': 759,\n",
       " 'gone': 760,\n",
       " 'grams': 761,\n",
       " 'vitamin': 762,\n",
       " 'yes': 763,\n",
       " 'skin': 764,\n",
       " 'otherwise': 765,\n",
       " 'actual': 766,\n",
       " 'spice': 767,\n",
       " 'service': 768,\n",
       " 'batch': 769,\n",
       " 'lots': 770,\n",
       " 'glass': 771,\n",
       " 'short': 772,\n",
       " 'pouches': 773,\n",
       " '9': 774,\n",
       " 'wash': 775,\n",
       " '24': 776,\n",
       " 'worst': 777,\n",
       " 'filling': 778,\n",
       " 'somewhat': 779,\n",
       " 'paper': 780,\n",
       " 'pill': 781,\n",
       " 'gf': 782,\n",
       " 'brewed': 783,\n",
       " 'mess': 784,\n",
       " 'adding': 785,\n",
       " 'yummy': 786,\n",
       " 'baking': 787,\n",
       " 'percent': 788,\n",
       " '00': 789,\n",
       " 'fit': 790,\n",
       " 'sold': 791,\n",
       " 'vinegar': 792,\n",
       " 'thick': 793,\n",
       " 'call': 794,\n",
       " 'worse': 795,\n",
       " 'scent': 796,\n",
       " 'normally': 797,\n",
       " 'run': 798,\n",
       " 'flavorful': 799,\n",
       " 'basically': 800,\n",
       " 'nutrition': 801,\n",
       " 'sealed': 802,\n",
       " '0': 803,\n",
       " 'delivery': 804,\n",
       " 'fish': 805,\n",
       " 'issue': 806,\n",
       " 'packaged': 807,\n",
       " 'means': 808,\n",
       " '99': 809,\n",
       " 'recently': 810,\n",
       " 'changed': 811,\n",
       " 'picky': 812,\n",
       " 'pleased': 813,\n",
       " 'packs': 814,\n",
       " 'piece': 815,\n",
       " 'continue': 816,\n",
       " 'reading': 817,\n",
       " 'shipped': 818,\n",
       " 'grains': 819,\n",
       " 'thinking': 820,\n",
       " 'smart': 821,\n",
       " 'throw': 822,\n",
       " 'instant': 823,\n",
       " 'simply': 824,\n",
       " 'mango': 825,\n",
       " 'none': 826,\n",
       " 'chewing': 827,\n",
       " 'salad': 828,\n",
       " 'maker': 829,\n",
       " 'daily': 830,\n",
       " 'c': 831,\n",
       " 'hour': 832,\n",
       " 'calorie': 833,\n",
       " 'seen': 834,\n",
       " 'potato': 835,\n",
       " 'higher': 836,\n",
       " 'became': 837,\n",
       " 'oatmeal': 838,\n",
       " 'issues': 839,\n",
       " 'particular': 840,\n",
       " 'seeds': 841,\n",
       " 'thin': 842,\n",
       " '15': 843,\n",
       " 'garbage': 844,\n",
       " 'within': 845,\n",
       " 'caramel': 846,\n",
       " 'mint': 847,\n",
       " 'pop': 848,\n",
       " 'varieties': 849,\n",
       " 'listed': 850,\n",
       " 'mostly': 851,\n",
       " 'note': 852,\n",
       " 'form': 853,\n",
       " 'touch': 854,\n",
       " 'blueberry': 855,\n",
       " 'hold': 856,\n",
       " \"what's\": 857,\n",
       " 'disappointment': 858,\n",
       " 'reviewers': 859,\n",
       " 'usual': 860,\n",
       " 'sweetness': 861,\n",
       " 'bland': 862,\n",
       " 'true': 863,\n",
       " 'together': 864,\n",
       " 'above': 865,\n",
       " 'stay': 866,\n",
       " 'website': 867,\n",
       " 'heavy': 868,\n",
       " 'level': 869,\n",
       " 'packet': 870,\n",
       " 'mountain': 871,\n",
       " 'matter': 872,\n",
       " 'crunch': 873,\n",
       " 'types': 874,\n",
       " 'almond': 875,\n",
       " 'pouch': 876,\n",
       " 'creamy': 877,\n",
       " 'filter': 878,\n",
       " 'feeling': 879,\n",
       " 'grape': 880,\n",
       " 'notice': 881,\n",
       " 'nasty': 882,\n",
       " 'dinner': 883,\n",
       " 'stronger': 884,\n",
       " 'totally': 885,\n",
       " 'pleasant': 886,\n",
       " 'putting': 887,\n",
       " 'saying': 888,\n",
       " '11': 889,\n",
       " 'pasta': 890,\n",
       " 'oh': 891,\n",
       " 'serve': 892,\n",
       " 'chemical': 893,\n",
       " 'ice': 894,\n",
       " 'plenty': 895,\n",
       " 'count': 896,\n",
       " 'important': 897,\n",
       " 'chai': 898,\n",
       " 'consistency': 899,\n",
       " 'pet': 900,\n",
       " 'strawberry': 901,\n",
       " 'china': 902,\n",
       " 'sale': 903,\n",
       " 'expiration': 904,\n",
       " 'hate': 905,\n",
       " 'thank': 906,\n",
       " 'clusters': 907,\n",
       " 'sitting': 908,\n",
       " 'sweetener': 909,\n",
       " 'immediately': 910,\n",
       " 'recipe': 911,\n",
       " 'bulk': 912,\n",
       " 'chewy': 913,\n",
       " 'wait': 914,\n",
       " 'mean': 915,\n",
       " 'door': 916,\n",
       " 'adult': 917,\n",
       " 'shipment': 918,\n",
       " 'substitute': 919,\n",
       " 'sticks': 920,\n",
       " 'gives': 921,\n",
       " 'turn': 922,\n",
       " 'opening': 923,\n",
       " 'sort': 924,\n",
       " 'crackers': 925,\n",
       " 'nearly': 926,\n",
       " 'forward': 927,\n",
       " 'six': 928,\n",
       " 'packets': 929,\n",
       " 'remember': 930,\n",
       " 'toys': 931,\n",
       " 'candies': 932,\n",
       " 'scalp': 933,\n",
       " 'hit': 934,\n",
       " 'ounces': 935,\n",
       " 'awesome': 936,\n",
       " 'including': 937,\n",
       " 'christmas': 938,\n",
       " 'kit': 939,\n",
       " 'peanuts': 940,\n",
       " 'generally': 941,\n",
       " 'filled': 942,\n",
       " 'vitamins': 943,\n",
       " 'e': 944,\n",
       " 'rating': 945,\n",
       " 'check': 946,\n",
       " 'understand': 947,\n",
       " \"we've\": 948,\n",
       " 'consider': 949,\n",
       " 'mustard': 950,\n",
       " 'nor': 951,\n",
       " 'front': 952,\n",
       " 'lick': 953,\n",
       " 'lid': 954,\n",
       " 'general': 955,\n",
       " 'reviewer': 956,\n",
       " 'overly': 957,\n",
       " 'yogurt': 958,\n",
       " 'bits': 959,\n",
       " 'litter': 960,\n",
       " 'lost': 961,\n",
       " 'pure': 962,\n",
       " 'working': 963,\n",
       " 'obviously': 964,\n",
       " 'nutritional': 965,\n",
       " '25': 966,\n",
       " 'convenient': 967,\n",
       " 'process': 968,\n",
       " 'flavoring': 969,\n",
       " 'iced': 970,\n",
       " 'worked': 971,\n",
       " 'egg': 972,\n",
       " 'sample': 973,\n",
       " 'person': 974,\n",
       " 'began': 975,\n",
       " 'neither': 976,\n",
       " 'happened': 977,\n",
       " 'salmon': 978,\n",
       " 'possible': 979,\n",
       " 'middle': 980,\n",
       " 'indoor': 981,\n",
       " 'followed': 982,\n",
       " 'mocha': 983,\n",
       " 'mistake': 984,\n",
       " 'job': 985,\n",
       " 'jars': 986,\n",
       " 'jerky': 987,\n",
       " 'chunks': 988,\n",
       " 'switch': 989,\n",
       " 'style': 990,\n",
       " 'play': 991,\n",
       " 'dressing': 992,\n",
       " 'asked': 993,\n",
       " 'takes': 994,\n",
       " 'tongue': 995,\n",
       " 'easier': 996,\n",
       " \"he's\": 997,\n",
       " 'thanks': 998,\n",
       " 'ship': 999,\n",
       " 'delivered': 1000,\n",
       " ...}"
      ]
     },
     "execution_count": 11,
     "metadata": {},
     "output_type": "execute_result"
    }
   ],
   "source": [
    "tokenizer.word_index"
   ]
  },
  {
   "cell_type": "markdown",
   "metadata": {},
   "source": [
    "The tokenizer converts all the words to lower case, removes most of the separators by default (unless specific ones are chosen) and assigns a value to each word, most likely using the tf-idf method to order the words in the returned dictionary. Therefore, we can see that the word_index method returns the words and they are order from most common to less common."
   ]
  },
  {
   "cell_type": "code",
   "execution_count": 12,
   "metadata": {},
   "outputs": [
    {
     "data": {
      "text/plain": [
       "[[2, 34, 268, 40, 40, 29]]"
      ]
     },
     "execution_count": 12,
     "metadata": {},
     "output_type": "execute_result"
    }
   ],
   "source": [
    "tokenizer.texts_to_sequences(['I just feel very very good'])"
   ]
  },
  {
   "cell_type": "code",
   "execution_count": 13,
   "metadata": {
    "scrolled": true
   },
   "outputs": [
    {
     "data": {
      "text/plain": [
       "['make have simply little think rabbits beer eggwhite']"
      ]
     },
     "execution_count": 13,
     "metadata": {},
     "output_type": "execute_result"
    }
   ],
   "source": [
    "tokenizer.sequences_to_texts([[109, 19, 824, 76, 114, 6315, 1137, 8070]])"
   ]
  },
  {
   "cell_type": "markdown",
   "metadata": {},
   "source": [
    "**Answer.**\n",
    "\n",
    "The texts_to_sequences method simply matches each word to its token. Returning the integer value paired to each word if it exists in the tokenizer. Conversely, the sequences_to_texts takes list of integers and returns the words matched to each of those integers, if they exist."
   ]
  },
  {
   "cell_type": "markdown",
   "metadata": {},
   "source": [
    "------------"
   ]
  },
  {
   "cell_type": "markdown",
   "metadata": {},
   "source": [
    "#### 2.3\n",
    "\n",
    "Use the tokenizer to transform the texts in our test and train data to sequences. Then, use the `pad_sequences` function to pad/truncate these sequences to length 116 (the 80th percentile of text lengths). Save the resulting arrays as `train_sequences` and `test_sequences`."
   ]
  },
  {
   "cell_type": "code",
   "execution_count": 14,
   "metadata": {},
   "outputs": [],
   "source": [
    "train_seq = tokenizer.texts_to_sequences(rev_train.Text)\n",
    "test_seq = tokenizer.texts_to_sequences(rev_test.Text)\n",
    "train_sequences = pad_sequences(\n",
    "    train_seq, maxlen=116, dtype='int32', padding='pre', truncating='pre',\n",
    "    value=0.0)\n",
    "test_sequences = pad_sequences(\n",
    "    test_seq, maxlen=116, dtype='int32', padding='pre', truncating='pre',\n",
    "    value=0.0)\n"
   ]
  },
  {
   "cell_type": "code",
   "execution_count": 15,
   "metadata": {},
   "outputs": [],
   "source": [
    "train_labels = rev_train.Score\n",
    "test_labels = rev_test.Score"
   ]
  },
  {
   "cell_type": "markdown",
   "metadata": {},
   "source": [
    "**Answer.**"
   ]
  },
  {
   "cell_type": "markdown",
   "metadata": {},
   "source": [
    "------------"
   ]
  },
  {
   "cell_type": "markdown",
   "metadata": {},
   "source": [
    "## Building a basic neural network model \n",
    "\n",
    "Now that we have preprocessed the text, let's create a basic neural network to train on our data. We'll use an embedding layer which performs [one-hot encoding](https://machinelearningmastery.com/why-one-hot-encode-data-in-machine-learning/) on our word sequences, two fully connected (\"dense\") layers, and an output layer with 5 neurons to represent the 5 possible star ratings.\n",
    "\n",
    "Before we train a `keras` model, there is an additional `compile` step where we define what loss function and optimizer to use, and what metrics to output. Then we can train the model using the `fit` function. All of this is shown below.\n",
    "\n",
    "Note the `validation_split=0.2` argument which tells Keras to train on only 80% of the training data and tune the model on the remaining 20%, which we call the validation set. You can see the accuracy and loss for both the training and validation set in the output for each epoch:"
   ]
  },
  {
   "cell_type": "code",
   "execution_count": 36,
   "metadata": {},
   "outputs": [],
   "source": [
    "model = Sequential()\n",
    "model.add(Embedding(20000, 128, input_length=116))\n",
    "model.add(Dense(128, activation='relu'))\n",
    "model.add(Dense(128, activation='relu'))\n",
    "model.add(GlobalMaxPooling1D())\n",
    "model.add(Dense(5, activation='sigmoid'))\n",
    "model.compile(loss='sparse_categorical_crossentropy', optimizer='adam', metrics=['accuracy'])"
   ]
  },
  {
   "cell_type": "code",
   "execution_count": 37,
   "metadata": {},
   "outputs": [
    {
     "name": "stdout",
     "output_type": "stream",
     "text": [
      "Model: \"sequential_1\"\n",
      "_________________________________________________________________\n",
      "Layer (type)                 Output Shape              Param #   \n",
      "=================================================================\n",
      "embedding_1 (Embedding)      (None, 116, 128)          2560000   \n",
      "_________________________________________________________________\n",
      "dense_3 (Dense)              (None, 116, 128)          16512     \n",
      "_________________________________________________________________\n",
      "dense_4 (Dense)              (None, 116, 128)          16512     \n",
      "_________________________________________________________________\n",
      "global_max_pooling1d_1 (Glob (None, 128)               0         \n",
      "_________________________________________________________________\n",
      "dense_5 (Dense)              (None, 5)                 645       \n",
      "=================================================================\n",
      "Total params: 2,593,669\n",
      "Trainable params: 2,593,669\n",
      "Non-trainable params: 0\n",
      "_________________________________________________________________\n"
     ]
    }
   ],
   "source": [
    "model.summary()"
   ]
  },
  {
   "cell_type": "code",
   "execution_count": 38,
   "metadata": {
    "scrolled": true
   },
   "outputs": [
    {
     "name": "stdout",
     "output_type": "stream",
     "text": [
      "Train on 3200 samples, validate on 800 samples\n",
      "Epoch 1/10\n",
      "3200/3200 [==============================] - 5s 2ms/sample - loss: 1.5884 - accuracy: 0.3050 - val_loss: 1.5270 - val_accuracy: 0.4025\n",
      "Epoch 2/10\n",
      "3200/3200 [==============================] - 5s 2ms/sample - loss: 1.3286 - accuracy: 0.4875 - val_loss: 1.2604 - val_accuracy: 0.4663\n",
      "Epoch 3/10\n",
      "3200/3200 [==============================] - 5s 2ms/sample - loss: 0.9667 - accuracy: 0.6456 - val_loss: 1.2167 - val_accuracy: 0.4863\n",
      "Epoch 4/10\n",
      "3200/3200 [==============================] - 5s 2ms/sample - loss: 0.6143 - accuracy: 0.8044 - val_loss: 1.3429 - val_accuracy: 0.4863\n",
      "Epoch 5/10\n",
      "3200/3200 [==============================] - 5s 2ms/sample - loss: 0.3197 - accuracy: 0.9150 - val_loss: 1.5248 - val_accuracy: 0.4762\n",
      "Epoch 6/10\n",
      "3200/3200 [==============================] - 5s 2ms/sample - loss: 0.1440 - accuracy: 0.9734 - val_loss: 1.7319 - val_accuracy: 0.4725\n",
      "Epoch 7/10\n",
      "3200/3200 [==============================] - 5s 2ms/sample - loss: 0.0628 - accuracy: 0.9937 - val_loss: 1.9457 - val_accuracy: 0.4737\n",
      "Epoch 8/10\n",
      "3200/3200 [==============================] - 5s 2ms/sample - loss: 0.0288 - accuracy: 0.9987 - val_loss: 2.1280 - val_accuracy: 0.4737\n",
      "Epoch 9/10\n",
      "3200/3200 [==============================] - 5s 2ms/sample - loss: 0.0152 - accuracy: 1.0000 - val_loss: 2.2195 - val_accuracy: 0.4775\n",
      "Epoch 10/10\n",
      "3200/3200 [==============================] - 5s 2ms/sample - loss: 0.0095 - accuracy: 1.0000 - val_loss: 2.2785 - val_accuracy: 0.4638\n"
     ]
    }
   ],
   "source": [
    "history = model.fit(train_sequences, train_labels, validation_split=0.2, epochs=10)"
   ]
  },
  {
   "cell_type": "markdown",
   "metadata": {},
   "source": [
    "### Exercise 3:\n",
    "\n",
    "How well does this model perform? How does this compare to a baseline expectation? What do you notice about the accuracy and loss values for both the validation and training sets over time and what does this mean?"
   ]
  },
  {
   "cell_type": "code",
   "execution_count": 57,
   "metadata": {},
   "outputs": [
    {
     "data": {
      "text/plain": [
       "Text(0.5, 1.0, 'Model performance')"
      ]
     },
     "execution_count": 57,
     "metadata": {},
     "output_type": "execute_result"
    },
    {
     "data": {
      "image/png": "[encoded data removed]",
      "text/plain": [
       "<Figure size 432x288 with 1 Axes>"
      ]
     },
     "metadata": {},
     "output_type": "display_data"
    }
   ],
   "source": [
    "data = history.history\n",
    "# print(data)\n",
    "import seaborn as sns; sns.set()\n",
    "import matplotlib.pyplot as plt\n",
    "ax = sns.lineplot(x=range(1,11), y=data[\"loss\"])\n",
    "ax = sns.lineplot(x=range(1,11), y=data[\"accuracy\"])\n",
    "ax = sns.lineplot(x=range(1,11), y=data[\"val_loss\"])\n",
    "ax = sns.lineplot(x=range(1,11), y=data[\"val_accuracy\"])\n",
    "ax.legend(['loss',\"accuracy\",\"val_loss\",\"val_accuracy\"])\n",
    "plt.xlabel(\"Epoch\")\n",
    "plt.title(\"Model performance\")"
   ]
  },
  {
   "cell_type": "markdown",
   "metadata": {},
   "source": [
    "**Answer.**\n",
    "\n",
    "We can see that this model performs extremely well on the train set but not so much on the validation set. In fact, the accuracy even after several runs does not change much. Also, the loss of the train set decreases continuously down to zero while the loss of the validation quickly reaches a minimum at the 3rd epoch and then starts increasing again. This is a signal that the model is not learning from that epoch forward. We could say that the model does not perform very well. It could also be a signal of overfitting of the model on the train dataset and that is why it underperforms after the 3rd epoch.\n",
    "\n",
    "Nevertheless, if we think of a baseline model that predicts all reviews with the same Score, we would have a baseline accuracy of around 20% because we defined 5000 as the whole dataset, 4000 for training the model and 3200/800 for train/val. A baseline model would correctly predict 1000 scores correctly. Currently, the model would be predicting roughly 50% at the validation level. "
   ]
  },
  {
   "cell_type": "markdown",
   "metadata": {},
   "source": [
    "------------"
   ]
  },
  {
   "cell_type": "markdown",
   "metadata": {},
   "source": [
    "## Experimenting with different regularization strategies\n",
    "\n",
    "There are many different ways to mitigate overfitting in a neural network, collectively known as *regularization* techniques. One common regularization technique is called [Dropout](https://www.tensorflow.org/api_docs/python/tf/keras/layers/Dropout). In this regularization method, a set of neurons is randomly selected at each training step to be completely ignored. This is done so that the neurons in our network do not rely strongly on their neighboring neurons and we avoid the creation of [\"co-adaptations\"](http://jmlr.org/papers/volume15/srivastava14a/srivastava14a.pdf) that do not generalize well to unseen data. This making the model more robust and less prone to overffiting.\n",
    "\n",
    "You can create dropouts in `keras` by adding a layer named `Dropout(p)`, where `p` is the probability of dropping neurons in the previous layer. For example, the following model would implement dropout by removing roughly 20% percent of the outputs of the embedding layer at each training step:"
   ]
  },
  {
   "cell_type": "code",
   "execution_count": 60,
   "metadata": {
    "scrolled": true
   },
   "outputs": [
    {
     "name": "stdout",
     "output_type": "stream",
     "text": [
      "Train on 3200 samples, validate on 800 samples\n",
      "Epoch 1/10\n",
      "3200/3200 [==============================] - 6s 2ms/sample - loss: 1.5939 - accuracy: 0.2666 - val_loss: 1.5480 - val_accuracy: 0.3150\n",
      "Epoch 2/10\n",
      "3200/3200 [==============================] - 5s 2ms/sample - loss: 1.3989 - accuracy: 0.4075 - val_loss: 1.3101 - val_accuracy: 0.4375\n",
      "Epoch 3/10\n",
      "3200/3200 [==============================] - 6s 2ms/sample - loss: 1.1285 - accuracy: 0.5581 - val_loss: 1.2332 - val_accuracy: 0.4775\n",
      "Epoch 4/10\n",
      "3200/3200 [==============================] - 6s 2ms/sample - loss: 0.8419 - accuracy: 0.6853 - val_loss: 1.2571 - val_accuracy: 0.4850\n",
      "Epoch 5/10\n",
      "3200/3200 [==============================] - 5s 2ms/sample - loss: 0.5619 - accuracy: 0.8172 - val_loss: 1.3132 - val_accuracy: 0.5025\n",
      "Epoch 6/10\n",
      "3200/3200 [==============================] - 5s 2ms/sample - loss: 0.3340 - accuracy: 0.9056 - val_loss: 1.4707 - val_accuracy: 0.4913\n",
      "Epoch 7/10\n",
      "3200/3200 [==============================] - 5s 2ms/sample - loss: 0.1799 - accuracy: 0.9647 - val_loss: 1.6781 - val_accuracy: 0.5025\n",
      "Epoch 8/10\n",
      "3200/3200 [==============================] - 5s 2ms/sample - loss: 0.0912 - accuracy: 0.9853 - val_loss: 1.8707 - val_accuracy: 0.4988\n",
      "Epoch 9/10\n",
      "3200/3200 [==============================] - 5s 2ms/sample - loss: 0.0483 - accuracy: 0.9956 - val_loss: 2.0354 - val_accuracy: 0.4913\n",
      "Epoch 10/10\n",
      "3200/3200 [==============================] - 5s 2ms/sample - loss: 0.0272 - accuracy: 0.9981 - val_loss: 2.1127 - val_accuracy: 0.4963\n"
     ]
    }
   ],
   "source": [
    "model2 = Sequential()\n",
    "model2.add(Embedding(20000, 128, input_length=116))\n",
    "model2.add(Dropout(0.2)) # --------------------------->Dropout layer will affect the output of previous layer.\n",
    "model2.add(Dense(128, activation='relu')) \n",
    "model2.add(Dense(128, activation='relu'))\n",
    "model2.add(GlobalMaxPooling1D())\n",
    "model2.add(Dense(5, activation='sigmoid'))\n",
    "model2.compile(loss='sparse_categorical_crossentropy', optimizer='adam', metrics=['accuracy'])\n",
    "history_4_0 = model2.fit(train_sequences, train_labels, validation_split=0.2, epochs=10)"
   ]
  },
  {
   "cell_type": "code",
   "execution_count": null,
   "metadata": {},
   "outputs": [],
   "source": []
  },
  {
   "cell_type": "markdown",
   "metadata": {},
   "source": [
    "### Exercise 4:\n",
    "\n",
    "Modify the neural network definition above to try and fix the overfitting problem using Dropout. Explain the configuration that you tried and your results. Why do you think your modifications were or were not able to mitigate the overfitting problem?"
   ]
  },
  {
   "cell_type": "code",
   "execution_count": 61,
   "metadata": {
    "scrolled": true
   },
   "outputs": [
    {
     "name": "stdout",
     "output_type": "stream",
     "text": [
      "Train on 3200 samples, validate on 800 samples\n",
      "Epoch 1/10\n",
      "3200/3200 [==============================] - 7s 2ms/sample - loss: 1.5983 - accuracy: 0.2444 - val_loss: 1.5727 - val_accuracy: 0.3075\n",
      "Epoch 2/10\n",
      "3200/3200 [==============================] - 6s 2ms/sample - loss: 1.4749 - accuracy: 0.3644 - val_loss: 1.3903 - val_accuracy: 0.4025\n",
      "Epoch 3/10\n",
      "3200/3200 [==============================] - 6s 2ms/sample - loss: 1.2442 - accuracy: 0.4834 - val_loss: 1.2606 - val_accuracy: 0.4675\n",
      "Epoch 4/10\n",
      "3200/3200 [==============================] - 6s 2ms/sample - loss: 1.0204 - accuracy: 0.5931 - val_loss: 1.2282 - val_accuracy: 0.4675\n",
      "Epoch 5/10\n",
      "3200/3200 [==============================] - 6s 2ms/sample - loss: 0.8115 - accuracy: 0.6966 - val_loss: 1.2667 - val_accuracy: 0.4825\n",
      "Epoch 6/10\n",
      "3200/3200 [==============================] - 6s 2ms/sample - loss: 0.5961 - accuracy: 0.7953 - val_loss: 1.3502 - val_accuracy: 0.4762\n",
      "Epoch 7/10\n",
      "3200/3200 [==============================] - 6s 2ms/sample - loss: 0.4162 - accuracy: 0.8600 - val_loss: 1.4574 - val_accuracy: 0.4837\n",
      "Epoch 8/10\n",
      "3200/3200 [==============================] - 6s 2ms/sample - loss: 0.2773 - accuracy: 0.9156 - val_loss: 1.6314 - val_accuracy: 0.4700\n",
      "Epoch 9/10\n",
      "3200/3200 [==============================] - 6s 2ms/sample - loss: 0.1877 - accuracy: 0.9425 - val_loss: 1.8330 - val_accuracy: 0.4525\n",
      "Epoch 10/10\n",
      "3200/3200 [==============================] - 6s 2ms/sample - loss: 0.1160 - accuracy: 0.9722 - val_loss: 2.0118 - val_accuracy: 0.4812\n"
     ]
    }
   ],
   "source": [
    "model2 = Sequential()\n",
    "model2.add(Embedding(20000, 128, input_length=116))\n",
    "model2.add(Dropout(0.2)) # --------------------------->Dropout layer will affect the output of previous layer.\n",
    "model2.add(Dense(128, activation='relu')) \n",
    "model2.add(Dropout(0.2))\n",
    "model2.add(Dense(128, activation='relu'))\n",
    "model2.add(Dropout(0.2))\n",
    "model2.add(GlobalMaxPooling1D())\n",
    "model2.add(Dense(5, activation='sigmoid'))\n",
    "model2.compile(loss='sparse_categorical_crossentropy', optimizer='adam', metrics=['accuracy'])\n",
    "history_4_1 = model2.fit(train_sequences, train_labels, validation_split=0.2, epochs=10)"
   ]
  },
  {
   "cell_type": "code",
   "execution_count": 66,
   "metadata": {
    "scrolled": true
   },
   "outputs": [
    {
     "name": "stdout",
     "output_type": "stream",
     "text": [
      "Train on 3200 samples, validate on 800 samples\n",
      "Epoch 1/10\n",
      "3200/3200 [==============================] - 6s 2ms/sample - loss: 1.5940 - accuracy: 0.2594 - val_loss: 1.5612 - val_accuracy: 0.3550\n",
      "Epoch 2/10\n",
      "3200/3200 [==============================] - 6s 2ms/sample - loss: 1.3959 - accuracy: 0.4384 - val_loss: 1.2918 - val_accuracy: 0.4613\n",
      "Epoch 3/10\n",
      "3200/3200 [==============================] - 6s 2ms/sample - loss: 1.0775 - accuracy: 0.5794 - val_loss: 1.2184 - val_accuracy: 0.4888\n",
      "Epoch 4/10\n",
      "3200/3200 [==============================] - 6s 2ms/sample - loss: 0.8068 - accuracy: 0.6994 - val_loss: 1.2161 - val_accuracy: 0.4863\n",
      "Epoch 5/10\n",
      "3200/3200 [==============================] - 6s 2ms/sample - loss: 0.5462 - accuracy: 0.8181 - val_loss: 1.3182 - val_accuracy: 0.5025\n",
      "Epoch 6/10\n",
      "3200/3200 [==============================] - 6s 2ms/sample - loss: 0.3153 - accuracy: 0.9159 - val_loss: 1.4761 - val_accuracy: 0.5138\n",
      "Epoch 7/10\n",
      "3200/3200 [==============================] - 6s 2ms/sample - loss: 0.1725 - accuracy: 0.9581 - val_loss: 1.6685 - val_accuracy: 0.4913\n",
      "Epoch 8/10\n",
      "3200/3200 [==============================] - 6s 2ms/sample - loss: 0.0954 - accuracy: 0.9803 - val_loss: 1.9004 - val_accuracy: 0.4888\n",
      "Epoch 9/10\n",
      "3200/3200 [==============================] - 6s 2ms/sample - loss: 0.0486 - accuracy: 0.9956 - val_loss: 2.0293 - val_accuracy: 0.4988\n",
      "Epoch 10/10\n",
      "3200/3200 [==============================] - 7s 2ms/sample - loss: 0.0295 - accuracy: 0.9962 - val_loss: 2.1606 - val_accuracy: 0.4913\n"
     ]
    }
   ],
   "source": [
    "model2 = Sequential()\n",
    "model2.add(Embedding(20000, 128, input_length=116))\n",
    "model2.add(Dense(128, activation='relu')) \n",
    "model2.add(Dropout(0.1))\n",
    "model2.add(Dense(128, activation='relu'))\n",
    "model2.add(Dropout(0.1))\n",
    "model2.add(GlobalMaxPooling1D())\n",
    "model2.add(Dense(5, activation='sigmoid'))\n",
    "model2.compile(loss='sparse_categorical_crossentropy', optimizer='adam', metrics=['accuracy'])\n",
    "history_4_2 = model2.fit(train_sequences, train_labels, validation_split=0.2, epochs=10)"
   ]
  },
  {
   "cell_type": "code",
   "execution_count": 63,
   "metadata": {
    "scrolled": true
   },
   "outputs": [
    {
     "name": "stdout",
     "output_type": "stream",
     "text": [
      "Train on 3200 samples, validate on 800 samples\n",
      "Epoch 1/10\n",
      "3200/3200 [==============================] - 7s 2ms/sample - loss: 1.6005 - accuracy: 0.2500 - val_loss: 1.5768 - val_accuracy: 0.3113\n",
      "Epoch 2/10\n",
      "3200/3200 [==============================] - 7s 2ms/sample - loss: 1.4725 - accuracy: 0.3684 - val_loss: 1.3657 - val_accuracy: 0.4175\n",
      "Epoch 3/10\n",
      "3200/3200 [==============================] - 6s 2ms/sample - loss: 1.2347 - accuracy: 0.4875 - val_loss: 1.2437 - val_accuracy: 0.4563\n",
      "Epoch 4/10\n",
      "3200/3200 [==============================] - 6s 2ms/sample - loss: 1.0122 - accuracy: 0.6112 - val_loss: 1.2225 - val_accuracy: 0.4775\n",
      "Epoch 5/10\n",
      "3200/3200 [==============================] - 6s 2ms/sample - loss: 0.7841 - accuracy: 0.7103 - val_loss: 1.2767 - val_accuracy: 0.4850\n",
      "Epoch 6/10\n",
      "3200/3200 [==============================] - 6s 2ms/sample - loss: 0.5733 - accuracy: 0.8075 - val_loss: 1.3779 - val_accuracy: 0.4762\n",
      "Epoch 7/10\n",
      "3200/3200 [==============================] - 6s 2ms/sample - loss: 0.4062 - accuracy: 0.8659 - val_loss: 1.5384 - val_accuracy: 0.4762\n",
      "Epoch 8/10\n",
      "3200/3200 [==============================] - 7s 2ms/sample - loss: 0.2862 - accuracy: 0.9116 - val_loss: 1.6593 - val_accuracy: 0.4812\n",
      "Epoch 9/10\n",
      "3200/3200 [==============================] - 6s 2ms/sample - loss: 0.1893 - accuracy: 0.9444 - val_loss: 1.8355 - val_accuracy: 0.4900\n",
      "Epoch 10/10\n",
      "3200/3200 [==============================] - 6s 2ms/sample - loss: 0.1267 - accuracy: 0.9656 - val_loss: 1.9880 - val_accuracy: 0.4913\n"
     ]
    }
   ],
   "source": [
    "model2 = Sequential()\n",
    "model2.add(Embedding(20000, 128, input_length=116))\n",
    "model2.add(Dropout(0.2)) # --------------------------->Dropout layer will affect the output of previous layer.\n",
    "model2.add(Dense(128, activation='relu')) \n",
    "model2.add(Dropout(0.1))\n",
    "model2.add(Dense(128, activation='relu'))\n",
    "model2.add(Dropout(0.1))\n",
    "model2.add(GlobalMaxPooling1D())\n",
    "model2.add(Dropout(0.1))\n",
    "model2.add(Dense(5, activation='sigmoid'))\n",
    "model2.compile(loss='sparse_categorical_crossentropy', optimizer='adam', metrics=['accuracy'])\n",
    "history_4_3 = model2.fit(train_sequences, train_labels, validation_split=0.2, epochs=10)"
   ]
  },
  {
   "cell_type": "code",
   "execution_count": 64,
   "metadata": {
    "scrolled": true
   },
   "outputs": [
    {
     "name": "stdout",
     "output_type": "stream",
     "text": [
      "Train on 3200 samples, validate on 800 samples\n",
      "Epoch 1/10\n",
      "3200/3200 [==============================] - 6s 2ms/sample - loss: 1.5967 - accuracy: 0.2553 - val_loss: 1.5584 - val_accuracy: 0.3313\n",
      "Epoch 2/10\n",
      "3200/3200 [==============================] - 6s 2ms/sample - loss: 1.4298 - accuracy: 0.4122 - val_loss: 1.3261 - val_accuracy: 0.4387\n",
      "Epoch 3/10\n",
      "3200/3200 [==============================] - 6s 2ms/sample - loss: 1.1858 - accuracy: 0.5206 - val_loss: 1.2328 - val_accuracy: 0.4625\n",
      "Epoch 4/10\n",
      "3200/3200 [==============================] - 5s 2ms/sample - loss: 0.9509 - accuracy: 0.6297 - val_loss: 1.2506 - val_accuracy: 0.4812\n",
      "Epoch 5/10\n",
      "3200/3200 [==============================] - 6s 2ms/sample - loss: 0.7137 - accuracy: 0.7391 - val_loss: 1.3276 - val_accuracy: 0.4837\n",
      "Epoch 6/10\n",
      "3200/3200 [==============================] - 6s 2ms/sample - loss: 0.4930 - accuracy: 0.8359 - val_loss: 1.4589 - val_accuracy: 0.4575\n",
      "Epoch 7/10\n",
      "3200/3200 [==============================] - 6s 2ms/sample - loss: 0.3279 - accuracy: 0.8966 - val_loss: 1.6328 - val_accuracy: 0.4575\n",
      "Epoch 8/10\n",
      "3200/3200 [==============================] - 6s 2ms/sample - loss: 0.2199 - accuracy: 0.9356 - val_loss: 1.8240 - val_accuracy: 0.4475\n",
      "Epoch 9/10\n",
      "3200/3200 [==============================] - 6s 2ms/sample - loss: 0.1431 - accuracy: 0.9597 - val_loss: 2.0124 - val_accuracy: 0.4550\n",
      "Epoch 10/10\n",
      "3200/3200 [==============================] - 6s 2ms/sample - loss: 0.0891 - accuracy: 0.9784 - val_loss: 2.2010 - val_accuracy: 0.4425\n"
     ]
    }
   ],
   "source": [
    "model2 = Sequential()\n",
    "model2.add(Embedding(20000, 128, input_length=116))\n",
    "model2.add(Dropout(0.2)) # --------------------------->Dropout layer will affect the output of previous layer.\n",
    "model2.add(Dense(128, activation='relu')) \n",
    "model2.add(Dense(128, activation='relu'))\n",
    "model2.add(Dropout(0.1))\n",
    "model2.add(GlobalMaxPooling1D())\n",
    "model2.add(Dropout(0.1))\n",
    "model2.add(Dense(5, activation='sigmoid'))\n",
    "model2.compile(loss='sparse_categorical_crossentropy', optimizer='adam', metrics=['accuracy'])\n",
    "history_4_4 = model2.fit(train_sequences, train_labels, validation_split=0.2, epochs=10)"
   ]
  },
  {
   "cell_type": "code",
   "execution_count": 65,
   "metadata": {
    "scrolled": true
   },
   "outputs": [
    {
     "name": "stdout",
     "output_type": "stream",
     "text": [
      "Train on 3200 samples, validate on 800 samples\n",
      "Epoch 1/10\n",
      "3200/3200 [==============================] - 6s 2ms/sample - loss: 1.5968 - accuracy: 0.2481 - val_loss: 1.5685 - val_accuracy: 0.3050\n",
      "Epoch 2/10\n",
      "3200/3200 [==============================] - 6s 2ms/sample - loss: 1.4526 - accuracy: 0.3700 - val_loss: 1.3839 - val_accuracy: 0.3988\n",
      "Epoch 3/10\n",
      "3200/3200 [==============================] - 6s 2ms/sample - loss: 1.2098 - accuracy: 0.5116 - val_loss: 1.2720 - val_accuracy: 0.4500\n",
      "Epoch 4/10\n",
      "3200/3200 [==============================] - 6s 2ms/sample - loss: 0.9823 - accuracy: 0.6100 - val_loss: 1.2496 - val_accuracy: 0.4700\n",
      "Epoch 5/10\n",
      "3200/3200 [==============================] - 6s 2ms/sample - loss: 0.7515 - accuracy: 0.7294 - val_loss: 1.2791 - val_accuracy: 0.4775\n",
      "Epoch 6/10\n",
      "3200/3200 [==============================] - 6s 2ms/sample - loss: 0.5318 - accuracy: 0.8300 - val_loss: 1.3728 - val_accuracy: 0.4787\n",
      "Epoch 7/10\n",
      "3200/3200 [==============================] - 6s 2ms/sample - loss: 0.3580 - accuracy: 0.8856 - val_loss: 1.4944 - val_accuracy: 0.4787\n",
      "Epoch 8/10\n",
      "3200/3200 [==============================] - 6s 2ms/sample - loss: 0.2279 - accuracy: 0.9331 - val_loss: 1.6608 - val_accuracy: 0.4400\n",
      "Epoch 9/10\n",
      "3200/3200 [==============================] - 6s 2ms/sample - loss: 0.1419 - accuracy: 0.9603 - val_loss: 1.8140 - val_accuracy: 0.4600\n",
      "Epoch 10/10\n",
      "3200/3200 [==============================] - 6s 2ms/sample - loss: 0.0854 - accuracy: 0.9778 - val_loss: 1.9576 - val_accuracy: 0.4588\n"
     ]
    }
   ],
   "source": [
    "model2 = Sequential()\n",
    "model2.add(Embedding(20000, 128, input_length=116))\n",
    "model2.add(Dropout(0.3)) # --------------------------->Dropout layer will affect the output of previous layer.\n",
    "model2.add(Dense(128, activation='relu')) \n",
    "model2.add(Dense(128, activation='relu'))\n",
    "model2.add(Dropout(0.3))\n",
    "model2.add(GlobalMaxPooling1D())\n",
    "model2.add(Dense(5, activation='sigmoid'))\n",
    "model2.compile(loss='sparse_categorical_crossentropy', optimizer='adam', metrics=['accuracy'])\n",
    "history_4_5 = model2.fit(train_sequences, train_labels, validation_split=0.2, epochs=10)"
   ]
  },
  {
   "cell_type": "markdown",
   "metadata": {},
   "source": [
    "**Answer.**\n",
    "\n",
    "From the 5 models tried, we can see that history_4_2 has the highest validation accuracy during validation: 51.38%. Slightly higher than the best validation accuracy (50.50%) for the first model with dropout (history_4_0). This results might not be significantly different, as the dropout turns off randomly a defined percentage of the neurons and not always the same. \n",
    "\n",
    "It is noticeable how using a dropout over 0.2 tends to decrease the performance of the model overall. This is likely to result in giving too much load to few neurons that cannot generalize correctly for the validation dataset.\n",
    "\n",
    "Also, the idea of the best performing model comes from the fact that setting a lower (0.1) dropout in two consecutive layers means that every epoch, these two layers will have different neurons to fit the data and will force the network to better generalize for the fewer neurons and connections. This is also seen in the paper of Srivastava, where the dropout networks that outperform tend to have dropouts in several layers. The accuracy, nevertheless, does not improve greatly with this technique.\n",
    "\n",
    "In my opinion, the model is not improving greatly either because there is simply not enough data or the data is very similar and the model cannot avoid overfitting with the parameters as have been set up so far."
   ]
  },
  {
   "cell_type": "markdown",
   "metadata": {},
   "source": [
    "------------"
   ]
  },
  {
   "cell_type": "markdown",
   "metadata": {},
   "source": [
    "### Exercise 5:\n",
    "\n",
    "Keras allows you to add [L1](https://www.tensorflow.org/api_docs/python/tf/keras/regularizers/l1), [L2](https://www.tensorflow.org/api_docs/python/tf/keras/regularizers/l2), or [L1 and L2](https://www.tensorflow.org/api_docs/python/tf/keras/regularizers/l1_l2) combined regularizers on individual layers by passing in the `kernel_regularizer`, `bias_regularizer` or `activity_regularizer` arguments. In neural networks, these regularizers work by penalizing the loss function in different ways, based on the number of weights or the size of the weights.\n",
    "\n",
    "Try 4-5 different combinations of L1, L2, L1 and L2 regularization in different combinations on different layers. In each example, explain why you tried that configuration and the results. Why do you think your modifications were or were not able to mitigate the overfitting problem?"
   ]
  },
  {
   "cell_type": "code",
   "execution_count": 69,
   "metadata": {
    "scrolled": true
   },
   "outputs": [
    {
     "name": "stdout",
     "output_type": "stream",
     "text": [
      "Train on 3200 samples, validate on 800 samples\n",
      "Epoch 1/10\n",
      "3200/3200 [==============================] - 6s 2ms/sample - loss: 1.6212 - accuracy: 0.2731 - val_loss: 1.5921 - val_accuracy: 0.3837\n",
      "Epoch 2/10\n",
      "3200/3200 [==============================] - 5s 2ms/sample - loss: 1.4272 - accuracy: 0.4422 - val_loss: 1.3120 - val_accuracy: 0.4762\n",
      "Epoch 3/10\n",
      "3200/3200 [==============================] - 5s 2ms/sample - loss: 1.1058 - accuracy: 0.5972 - val_loss: 1.2652 - val_accuracy: 0.4800\n",
      "Epoch 4/10\n",
      "3200/3200 [==============================] - 5s 2ms/sample - loss: 0.8236 - accuracy: 0.7153 - val_loss: 1.3222 - val_accuracy: 0.4712\n",
      "Epoch 5/10\n",
      "3200/3200 [==============================] - 5s 2ms/sample - loss: 0.5619 - accuracy: 0.8247 - val_loss: 1.4474 - val_accuracy: 0.4737\n",
      "Epoch 6/10\n",
      "3200/3200 [==============================] - 5s 2ms/sample - loss: 0.3503 - accuracy: 0.9078 - val_loss: 1.6396 - val_accuracy: 0.4638\n",
      "Epoch 7/10\n",
      "3200/3200 [==============================] - 5s 2ms/sample - loss: 0.2179 - accuracy: 0.9550 - val_loss: 1.8711 - val_accuracy: 0.4613\n",
      "Epoch 8/10\n",
      "3200/3200 [==============================] - 5s 2ms/sample - loss: 0.1436 - accuracy: 0.9819 - val_loss: 2.0276 - val_accuracy: 0.4625\n",
      "Epoch 9/10\n",
      "3200/3200 [==============================] - 5s 2ms/sample - loss: 0.1052 - accuracy: 0.9909 - val_loss: 2.0970 - val_accuracy: 0.4762\n",
      "Epoch 10/10\n",
      "3200/3200 [==============================] - 5s 2ms/sample - loss: 0.0824 - accuracy: 0.9969 - val_loss: 2.2084 - val_accuracy: 0.4762\n"
     ]
    }
   ],
   "source": [
    "# regularizers.l1_l2(l1=0.01, l2=0.01)\n",
    "# regularizers.l1(l=0.01)\n",
    "# regularizers.l2(l=0.01)\n",
    "\n",
    "model2 = Sequential()\n",
    "model2.add(Embedding(20000, 128, input_length=116))\n",
    "model2.add(Dense(128, activation='relu', kernel_regularizer = regularizers.l2(l=0.0001))) \n",
    "model2.add(Dropout(0.1))\n",
    "model2.add(Dense(128, activation='relu', kernel_regularizer = regularizers.l2(l=0.0001)))\n",
    "model2.add(Dropout(0.1))\n",
    "model2.add(GlobalMaxPooling1D())\n",
    "model2.add(Dense(5, activation='sigmoid'))\n",
    "model2.compile(loss='sparse_categorical_crossentropy', optimizer='adam', metrics=['accuracy'])\n",
    "history_5_0 = model2.fit(train_sequences, train_labels, validation_split=0.2, epochs=10)"
   ]
  },
  {
   "cell_type": "code",
   "execution_count": 74,
   "metadata": {
    "scrolled": true
   },
   "outputs": [
    {
     "name": "stdout",
     "output_type": "stream",
     "text": [
      "Train on 3200 samples, validate on 800 samples\n",
      "Epoch 1/10\n",
      "3200/3200 [==============================] - 6s 2ms/sample - loss: 1.8016 - accuracy: 0.2416 - val_loss: 1.7234 - val_accuracy: 0.3200\n",
      "Epoch 2/10\n",
      "3200/3200 [==============================] - 5s 2ms/sample - loss: 1.6221 - accuracy: 0.3613 - val_loss: 1.5064 - val_accuracy: 0.4225\n",
      "Epoch 3/10\n",
      "3200/3200 [==============================] - 5s 2ms/sample - loss: 1.3710 - accuracy: 0.4684 - val_loss: 1.4223 - val_accuracy: 0.4288\n",
      "Epoch 4/10\n",
      "3200/3200 [==============================] - 5s 2ms/sample - loss: 1.1653 - accuracy: 0.5809 - val_loss: 1.4407 - val_accuracy: 0.4350\n",
      "Epoch 5/10\n",
      "3200/3200 [==============================] - 5s 2ms/sample - loss: 0.9565 - accuracy: 0.6769 - val_loss: 1.5584 - val_accuracy: 0.4450\n",
      "Epoch 6/10\n",
      "3200/3200 [==============================] - 5s 2ms/sample - loss: 0.7711 - accuracy: 0.7672 - val_loss: 1.6583 - val_accuracy: 0.4538\n",
      "Epoch 7/10\n",
      "3200/3200 [==============================] - 5s 2ms/sample - loss: 0.6089 - accuracy: 0.8356 - val_loss: 1.8562 - val_accuracy: 0.4700\n",
      "Epoch 8/10\n",
      "3200/3200 [==============================] - 6s 2ms/sample - loss: 0.4739 - accuracy: 0.8891 - val_loss: 2.0636 - val_accuracy: 0.4512\n",
      "Epoch 9/10\n",
      "3200/3200 [==============================] - 5s 2ms/sample - loss: 0.3747 - accuracy: 0.9250 - val_loss: 2.2081 - val_accuracy: 0.4487\n",
      "Epoch 10/10\n",
      "3200/3200 [==============================] - 5s 2ms/sample - loss: 0.3192 - accuracy: 0.9463 - val_loss: 2.3661 - val_accuracy: 0.4575\n"
     ]
    }
   ],
   "source": [
    "model2 = Sequential()\n",
    "model2.add(Embedding(20000, 128, input_length=116))\n",
    "model2.add(Dense(128, activation='relu', kernel_regularizer = regularizers.l1_l2(l1=0.0001, l2=0.0001))) \n",
    "model2.add(Dropout(0.1))\n",
    "model2.add(Dense(128, activation='relu', kernel_regularizer = regularizers.l1_l2(l1=0.0001, l2=0.0001)))\n",
    "model2.add(Dropout(0.1))\n",
    "model2.add(GlobalMaxPooling1D())\n",
    "model2.add(Dense(5, activation='sigmoid'))\n",
    "model2.compile(loss='sparse_categorical_crossentropy', optimizer='adam', metrics=['accuracy'])\n",
    "history_5_1 = model2.fit(train_sequences, train_labels, validation_split=0.2, epochs=10)"
   ]
  },
  {
   "cell_type": "code",
   "execution_count": 75,
   "metadata": {
    "scrolled": true
   },
   "outputs": [
    {
     "name": "stdout",
     "output_type": "stream",
     "text": [
      "Train on 3200 samples, validate on 800 samples\n",
      "Epoch 1/10\n",
      "3200/3200 [==============================] - 5s 2ms/sample - loss: 1.5902 - accuracy: 0.2678 - val_loss: 1.5411 - val_accuracy: 0.3512\n",
      "Epoch 2/10\n",
      "3200/3200 [==============================] - 5s 2ms/sample - loss: 1.3744 - accuracy: 0.4338 - val_loss: 1.2920 - val_accuracy: 0.4675\n",
      "Epoch 3/10\n",
      "3200/3200 [==============================] - 5s 2ms/sample - loss: 1.0640 - accuracy: 0.5925 - val_loss: 1.2247 - val_accuracy: 0.4650\n",
      "Epoch 4/10\n",
      "3200/3200 [==============================] - 5s 2ms/sample - loss: 0.7599 - accuracy: 0.7247 - val_loss: 1.2743 - val_accuracy: 0.4837\n",
      "Epoch 5/10\n",
      "3200/3200 [==============================] - 5s 2ms/sample - loss: 0.4806 - accuracy: 0.8462 - val_loss: 1.3971 - val_accuracy: 0.4762\n",
      "Epoch 6/10\n",
      "3200/3200 [==============================] - 5s 2ms/sample - loss: 0.2790 - accuracy: 0.9212 - val_loss: 1.6037 - val_accuracy: 0.4613\n",
      "Epoch 7/10\n",
      "3200/3200 [==============================] - 5s 2ms/sample - loss: 0.1408 - accuracy: 0.9741 - val_loss: 1.8076 - val_accuracy: 0.4650\n",
      "Epoch 8/10\n",
      "3200/3200 [==============================] - 5s 2ms/sample - loss: 0.0751 - accuracy: 0.9891 - val_loss: 1.9765 - val_accuracy: 0.4600\n",
      "Epoch 9/10\n",
      "3200/3200 [==============================] - 5s 2ms/sample - loss: 0.0418 - accuracy: 0.9953 - val_loss: 2.0972 - val_accuracy: 0.4663\n",
      "Epoch 10/10\n",
      "3200/3200 [==============================] - 5s 2ms/sample - loss: 0.0229 - accuracy: 0.9994 - val_loss: 2.3264 - val_accuracy: 0.4638\n"
     ]
    }
   ],
   "source": [
    "model2 = Sequential()\n",
    "model2.add(Embedding(20000, 128, input_length=116))\n",
    "model2.add(Dense(128, activation='relu', bias_regularizer = regularizers.l2(l=0.0001))) \n",
    "model2.add(Dropout(0.1))\n",
    "model2.add(Dense(128, activation='relu', bias_regularizer = regularizers.l2(l=0.0001)))\n",
    "model2.add(Dropout(0.1))\n",
    "model2.add(GlobalMaxPooling1D())\n",
    "model2.add(Dense(5, activation='sigmoid'))\n",
    "model2.compile(loss='sparse_categorical_crossentropy', optimizer='adam', metrics=['accuracy'])\n",
    "history_5_2 = model2.fit(train_sequences, train_labels, validation_split=0.2, epochs=10)"
   ]
  },
  {
   "cell_type": "code",
   "execution_count": 77,
   "metadata": {
    "scrolled": true
   },
   "outputs": [
    {
     "name": "stdout",
     "output_type": "stream",
     "text": [
      "Train on 3200 samples, validate on 800 samples\n",
      "Epoch 1/10\n",
      "3200/3200 [==============================] - 6s 2ms/sample - loss: 1.5845 - accuracy: 0.2763 - val_loss: 1.5095 - val_accuracy: 0.3700\n",
      "Epoch 2/10\n",
      "3200/3200 [==============================] - 5s 2ms/sample - loss: 1.3783 - accuracy: 0.4428 - val_loss: 1.3293 - val_accuracy: 0.4062\n",
      "Epoch 3/10\n",
      "3200/3200 [==============================] - 5s 2ms/sample - loss: 1.0925 - accuracy: 0.5756 - val_loss: 1.2504 - val_accuracy: 0.4650\n",
      "Epoch 4/10\n",
      "3200/3200 [==============================] - 5s 2ms/sample - loss: 0.8112 - accuracy: 0.6966 - val_loss: 1.3179 - val_accuracy: 0.4650\n",
      "Epoch 5/10\n",
      "3200/3200 [==============================] - 5s 2ms/sample - loss: 0.5327 - accuracy: 0.8228 - val_loss: 1.4176 - val_accuracy: 0.4737\n",
      "Epoch 6/10\n",
      "3200/3200 [==============================] - 5s 2ms/sample - loss: 0.3139 - accuracy: 0.9106 - val_loss: 1.6133 - val_accuracy: 0.4663\n",
      "Epoch 7/10\n",
      "3200/3200 [==============================] - 5s 2ms/sample - loss: 0.1714 - accuracy: 0.9559 - val_loss: 1.7914 - val_accuracy: 0.4675\n",
      "Epoch 8/10\n",
      "3200/3200 [==============================] - 5s 2ms/sample - loss: 0.0896 - accuracy: 0.9825 - val_loss: 1.9848 - val_accuracy: 0.4837\n",
      "Epoch 9/10\n",
      "3200/3200 [==============================] - 5s 2ms/sample - loss: 0.0439 - accuracy: 0.9959 - val_loss: 2.1137 - val_accuracy: 0.4787\n",
      "Epoch 10/10\n",
      "3200/3200 [==============================] - 5s 2ms/sample - loss: 0.0250 - accuracy: 0.9987 - val_loss: 2.2421 - val_accuracy: 0.4712\n"
     ]
    }
   ],
   "source": [
    "model2 = Sequential()\n",
    "model2.add(Embedding(20000, 128, input_length=116))\n",
    "model2.add(Dense(128, activation='relu', bias_regularizer = regularizers.l1_l2(l1=0.00001, l2=0.0001)))\n",
    "model2.add(Dropout(0.1))\n",
    "model2.add(Dense(128, activation='relu', bias_regularizer = regularizers.l1_l2(l1=0.00001, l2=0.0001)))\n",
    "model2.add(Dropout(0.1))\n",
    "model2.add(GlobalMaxPooling1D())\n",
    "model2.add(Dense(5, activation='sigmoid'))\n",
    "model2.compile(loss='sparse_categorical_crossentropy', optimizer='adam', metrics=['accuracy'])\n",
    "history_5_3 = model2.fit(train_sequences, train_labels, validation_split=0.2, epochs=10)"
   ]
  },
  {
   "cell_type": "code",
   "execution_count": 72,
   "metadata": {
    "scrolled": true
   },
   "outputs": [
    {
     "name": "stdout",
     "output_type": "stream",
     "text": [
      "Train on 3200 samples, validate on 800 samples\n",
      "Epoch 1/10\n",
      "3200/3200 [==============================] - 6s 2ms/sample - loss: 1.5996 - accuracy: 0.2800 - val_loss: 1.5633 - val_accuracy: 0.4000\n",
      "Epoch 2/10\n",
      "3200/3200 [==============================] - 5s 2ms/sample - loss: 1.4266 - accuracy: 0.4419 - val_loss: 1.3537 - val_accuracy: 0.4450\n",
      "Epoch 3/10\n",
      "3200/3200 [==============================] - 5s 2ms/sample - loss: 1.1597 - accuracy: 0.5678 - val_loss: 1.2721 - val_accuracy: 0.4762\n",
      "Epoch 4/10\n",
      "3200/3200 [==============================] - 5s 2ms/sample - loss: 0.8749 - accuracy: 0.7075 - val_loss: 1.3115 - val_accuracy: 0.4775\n",
      "Epoch 5/10\n",
      "3200/3200 [==============================] - 6s 2ms/sample - loss: 0.5804 - accuracy: 0.8537 - val_loss: 1.4201 - val_accuracy: 0.4800\n",
      "Epoch 6/10\n",
      "3200/3200 [==============================] - 5s 2ms/sample - loss: 0.3910 - accuracy: 0.9291 - val_loss: 1.5267 - val_accuracy: 0.4725\n",
      "Epoch 7/10\n",
      "3200/3200 [==============================] - 5s 2ms/sample - loss: 0.2702 - accuracy: 0.9737 - val_loss: 1.6304 - val_accuracy: 0.4688\n",
      "Epoch 8/10\n",
      "3200/3200 [==============================] - 5s 2ms/sample - loss: 0.2091 - accuracy: 0.9878 - val_loss: 1.7074 - val_accuracy: 0.4712\n",
      "Epoch 9/10\n",
      "3200/3200 [==============================] - 5s 2ms/sample - loss: 0.1709 - accuracy: 0.9934 - val_loss: 1.7790 - val_accuracy: 0.4625\n",
      "Epoch 10/10\n",
      "3200/3200 [==============================] - 5s 2ms/sample - loss: 0.1497 - accuracy: 0.9959 - val_loss: 1.8198 - val_accuracy: 0.4600\n"
     ]
    }
   ],
   "source": [
    "model2 = Sequential()\n",
    "model2.add(Embedding(20000, 128, input_length=116))\n",
    "model2.add(Dense(128, activation='relu', activity_regularizer = regularizers.l2(l=0.001))) \n",
    "model2.add(Dropout(0.1))\n",
    "model2.add(Dense(128, activation='relu', activity_regularizer = regularizers.l2(l=0.001)))\n",
    "model2.add(Dropout(0.1))\n",
    "model2.add(GlobalMaxPooling1D())\n",
    "model2.add(Dense(5, activation='sigmoid'))\n",
    "model2.compile(loss='sparse_categorical_crossentropy', optimizer='adam', metrics=['accuracy'])\n",
    "history_5_4 = model2.fit(train_sequences, train_labels, validation_split=0.2, epochs=10)"
   ]
  },
  {
   "cell_type": "code",
   "execution_count": 80,
   "metadata": {
    "scrolled": true
   },
   "outputs": [
    {
     "name": "stdout",
     "output_type": "stream",
     "text": [
      "Train on 3200 samples, validate on 800 samples\n",
      "Epoch 1/10\n",
      "3200/3200 [==============================] - 6s 2ms/sample - loss: 1.5815 - accuracy: 0.2894 - val_loss: 1.5133 - val_accuracy: 0.3625\n",
      "Epoch 2/10\n",
      "3200/3200 [==============================] - 6s 2ms/sample - loss: 1.3832 - accuracy: 0.4288 - val_loss: 1.3125 - val_accuracy: 0.4487\n",
      "Epoch 3/10\n",
      "3200/3200 [==============================] - 5s 2ms/sample - loss: 1.0974 - accuracy: 0.5628 - val_loss: 1.2335 - val_accuracy: 0.4900\n",
      "Epoch 4/10\n",
      "3200/3200 [==============================] - 5s 2ms/sample - loss: 0.8055 - accuracy: 0.6997 - val_loss: 1.2793 - val_accuracy: 0.4888\n",
      "Epoch 5/10\n",
      "3200/3200 [==============================] - 5s 2ms/sample - loss: 0.5270 - accuracy: 0.8291 - val_loss: 1.4288 - val_accuracy: 0.4712\n",
      "Epoch 6/10\n",
      "3200/3200 [==============================] - 5s 2ms/sample - loss: 0.3204 - accuracy: 0.9100 - val_loss: 1.5851 - val_accuracy: 0.4600\n",
      "Epoch 7/10\n",
      "3200/3200 [==============================] - 5s 2ms/sample - loss: 0.1788 - accuracy: 0.9616 - val_loss: 1.7904 - val_accuracy: 0.4538\n",
      "Epoch 8/10\n",
      "3200/3200 [==============================] - 5s 2ms/sample - loss: 0.1054 - accuracy: 0.9822 - val_loss: 1.9681 - val_accuracy: 0.4500\n",
      "Epoch 9/10\n",
      "3200/3200 [==============================] - 5s 2ms/sample - loss: 0.0589 - accuracy: 0.9953 - val_loss: 2.1026 - val_accuracy: 0.4550\n",
      "Epoch 10/10\n",
      "3200/3200 [==============================] - 5s 2ms/sample - loss: 0.0401 - accuracy: 0.9981 - val_loss: 2.2331 - val_accuracy: 0.4575\n"
     ]
    }
   ],
   "source": [
    "model2 = Sequential()\n",
    "model2.add(Embedding(20000, 128, input_length=116))\n",
    "model2.add(Dense(128, activation='relu', activity_regularizer = regularizers.l1_l2(l1=0, l2=0.0001))) \n",
    "model2.add(Dropout(0.1))\n",
    "model2.add(Dense(128, activation='relu'))\n",
    "model2.add(Dropout(0.1))\n",
    "model2.add(GlobalMaxPooling1D())\n",
    "model2.add(Dense(5, activation='sigmoid'))\n",
    "model2.compile(loss='sparse_categorical_crossentropy', optimizer='adam', metrics=['accuracy'])\n",
    "history_5_5 = model2.fit(train_sequences, train_labels, validation_split=0.2, epochs=10)"
   ]
  },
  {
   "cell_type": "code",
   "execution_count": 82,
   "metadata": {
    "scrolled": true
   },
   "outputs": [
    {
     "name": "stdout",
     "output_type": "stream",
     "text": [
      "Train on 3200 samples, validate on 800 samples\n",
      "Epoch 1/10\n",
      "3200/3200 [==============================] - 5s 2ms/sample - loss: 1.5939 - accuracy: 0.2756 - val_loss: 1.5525 - val_accuracy: 0.3963\n",
      "Epoch 2/10\n",
      "3200/3200 [==============================] - 5s 1ms/sample - loss: 1.3703 - accuracy: 0.4731 - val_loss: 1.2983 - val_accuracy: 0.4525\n",
      "Epoch 3/10\n",
      "3200/3200 [==============================] - 5s 1ms/sample - loss: 1.0140 - accuracy: 0.6306 - val_loss: 1.2705 - val_accuracy: 0.4775\n",
      "Epoch 4/10\n",
      "3200/3200 [==============================] - 5s 1ms/sample - loss: 0.6665 - accuracy: 0.7866 - val_loss: 1.3764 - val_accuracy: 0.4837\n",
      "Epoch 5/10\n",
      "3200/3200 [==============================] - 4s 1ms/sample - loss: 0.3743 - accuracy: 0.9091 - val_loss: 1.5576 - val_accuracy: 0.4775\n",
      "Epoch 6/10\n",
      "3200/3200 [==============================] - 5s 1ms/sample - loss: 0.1939 - accuracy: 0.9753 - val_loss: 1.7411 - val_accuracy: 0.4750\n",
      "Epoch 7/10\n",
      "3200/3200 [==============================] - 5s 2ms/sample - loss: 0.1087 - accuracy: 0.9947 - val_loss: 1.8870 - val_accuracy: 0.4812\n",
      "Epoch 8/10\n",
      "3200/3200 [==============================] - 5s 1ms/sample - loss: 0.0741 - accuracy: 0.9991 - val_loss: 2.0142 - val_accuracy: 0.4737\n",
      "Epoch 9/10\n",
      "3200/3200 [==============================] - 5s 1ms/sample - loss: 0.0600 - accuracy: 0.9997 - val_loss: 2.0536 - val_accuracy: 0.4712\n",
      "Epoch 10/10\n",
      "3200/3200 [==============================] - 5s 1ms/sample - loss: 0.0526 - accuracy: 0.9997 - val_loss: 2.0989 - val_accuracy: 0.4700\n"
     ]
    }
   ],
   "source": [
    "model2 = Sequential()\n",
    "model2.add(Embedding(20000, 128, input_length=116))\n",
    "model2.add(Dense(128, activation='relu', activity_regularizer = regularizers.l1_l2(l1=0, l2=0.0001))) \n",
    "model2.add(Dense(128, activation='relu', activity_regularizer = regularizers.l1_l2(l1=0, l2=0.0001)))\n",
    "model2.add(GlobalMaxPooling1D())\n",
    "model2.add(Dense(5, activation='sigmoid'))\n",
    "model2.compile(loss='sparse_categorical_crossentropy', optimizer='adam', metrics=['accuracy'])\n",
    "history_5_6 = model2.fit(train_sequences, train_labels, validation_split=0.2, epochs=10)"
   ]
  },
  {
   "cell_type": "markdown",
   "metadata": {},
   "source": [
    "**Answer.**\n",
    "\n",
    "After adding different kinds of regularizations to the dense layers, in no case, there was an improvement over the model with dropout. It is important to note that i used the model with dropout in order to keep building upon the previous improvement.\n",
    "\n",
    "The regularizations L1 and L2 were chosen between 0 and 1e-5. This is given the recommendations in the literature as summarized in https://machinelearningmastery.com/how-to-reduce-overfitting-in-deep-learning-with-weight-regularization/. Also, applying L1 and L2 regularizations to the kernels, bias and activity did not show promising results, as the model kept obtaining similar results to the initial ones.\n",
    "\n",
    "More trials were done with values closer to 0 but for these values the regularization was so high that the network ended up not learning at all. Therefore, the impact was only seen with values between 0.001 and 0.0001.\n",
    "\n",
    "Also, regularizing only one layer instead of both showed the same results.\n",
    "\n",
    "When regularizing the model without the dropout, the results were very similar to adding the dropout only.\n",
    "\n",
    "Also, we could say that the regularization makes the nn more patience and avoid overfitting. Nevertheless, in this case, the nn seems to keep reaching a maximum of accuracy around 50%."
   ]
  },
  {
   "cell_type": "markdown",
   "metadata": {},
   "source": [
    "------------"
   ]
  },
  {
   "cell_type": "markdown",
   "metadata": {},
   "source": [
    "## Regularization through adding more data\n",
    "\n",
    "Depending on the configurations you tried above, you probably saw that L1 and L2 regularization are pretty limited for this model and this amount of data. A more straightforward way to prevent overfitting is simply by adding more training data. If the network has more (and more varied) examples to learn from, perhaps it will learn more generalizable rules."
   ]
  },
  {
   "cell_type": "markdown",
   "metadata": {},
   "source": [
    "### Exercise 6:\n",
    "\n",
    "How would you test the hypothesis that adding more data would result in a more generalizable model? Explain any change in results you see from further experimentation.\n",
    "\n",
    "**Hint:** Try adding 6000 reviews for each score instead. Compare with the original proposed model."
   ]
  },
  {
   "cell_type": "code",
   "execution_count": 87,
   "metadata": {},
   "outputs": [
    {
     "name": "stderr",
     "output_type": "stream",
     "text": [
      "C:\\Conda\\envs\\extended_case_7\\lib\\site-packages\\pandas\\core\\generic.py:5303: SettingWithCopyWarning: \n",
      "A value is trying to be set on a copy of a slice from a DataFrame.\n",
      "Try using .loc[row_indexer,col_indexer] = value instead\n",
      "\n",
      "See the caveats in the documentation: https://pandas.pydata.org/pandas-docs/stable/user_guide/indexing.html#returning-a-view-versus-a-copy\n",
      "  self[name] = value\n"
     ]
    }
   ],
   "source": [
    "amazon_rev_reduced_6 = amazon_rev_sorted.groupby([\"Score\"]).head(6000)\n",
    "amazon_rev_reduced_6.Score = amazon_rev_reduced_6.Score.apply(lambda x: x-1)\n",
    "# amazon_rev_reduced[amazon_rev_reduced.Score == 0]\n",
    "\n",
    "rev_train_6, rev_test_6 = train_test_split(amazon_rev_reduced_6, train_size=0.8, random_state=100)"
   ]
  },
  {
   "cell_type": "code",
   "execution_count": 88,
   "metadata": {},
   "outputs": [
    {
     "data": {
      "text/plain": [
       "Text(0.5, 1.0, 'Histogram of number of words per review in the train dataset')"
      ]
     },
     "execution_count": 88,
     "metadata": {},
     "output_type": "execute_result"
    },
    {
     "data": {
      "image/png": "[encoded data removed]",
      "text/plain": [
       "<Figure size 432x288 with 1 Axes>"
      ]
     },
     "metadata": {},
     "output_type": "display_data"
    }
   ],
   "source": [
    "words_per_review_6 = rev_train_6.Text.apply(lambda x: len(x.split(\" \")))\n",
    "words_per_review_6.hist(bins = 100)\n",
    "\n",
    "plt.title(\"Histogram of number of words per review in the train dataset\")"
   ]
  },
  {
   "cell_type": "code",
   "execution_count": 89,
   "metadata": {},
   "outputs": [
    {
     "name": "stdout",
     "output_type": "stream",
     "text": [
      "In the train dataset, the 80th quantile of the number of words per review is 131.0\n"
     ]
    }
   ],
   "source": [
    "print(\"In the train dataset, the 80th quantile of the number of words per review is\",words_per_review_6.quantile(0.8))"
   ]
  },
  {
   "cell_type": "code",
   "execution_count": 92,
   "metadata": {},
   "outputs": [
    {
     "name": "stdout",
     "output_type": "stream",
     "text": [
      "There are 112964 different words in the original corpus\n",
      "The 80th percentile is:  90371\n"
     ]
    },
    {
     "name": "stderr",
     "output_type": "stream",
     "text": [
      "C:\\Conda\\envs\\extended_case_7\\lib\\site-packages\\ipykernel_launcher.py:6: SettingWithCopyWarning: \n",
      "A value is trying to be set on a copy of a slice from a DataFrame.\n",
      "Try using .loc[row_indexer,col_indexer] = value instead\n",
      "\n",
      "See the caveats in the documentation: https://pandas.pydata.org/pandas-docs/stable/user_guide/indexing.html#returning-a-view-versus-a-copy\n",
      "  \n"
     ]
    },
    {
     "name": "stdout",
     "output_type": "stream",
     "text": [
      "There are 33973 different words in the corpus after using only lowercase and removing special characters\n",
      "The 80th percentile is: 27178\n"
     ]
    }
   ],
   "source": [
    "words_orig_6 = amazon_rev_reduced_6.Text.apply(lambda x: x.split(\" \"))\n",
    "words_orig_6 = [word for sublist in words_orig_6 for word in sublist]\n",
    "print(f\"There are {len(set(words_orig_6))} different words in the original corpus\")\n",
    "print(f\"The 80th percentile is: \", int(len(set(words_orig_6)) * 0.8))\n",
    "\n",
    "amazon_rev_reduced_6[\"text_new\"] = amazon_rev_reduced_6.Text.apply(lambda x: x.lower())\n",
    "\n",
    "special_chars = amazon_rev_reduced_6.text_new.apply(lambda x: [each for each in list(x) if not each.isalnum() and each != ' '])\n",
    "flat_list = [item for sublist in special_chars for item in sublist]\n",
    "# print(set(flat_list))\n",
    "\n",
    "amazon_rev_reduced_6.text_new = amazon_rev_reduced_6.text_new.apply(\n",
    "    lambda x: re.sub('[^A-Za-z0-9]+', ' ', x))\n",
    "words_prep_6 = amazon_rev_reduced_6.text_new.apply(lambda x: x.split(\" \"))\n",
    "words_prep_6 = [word.strip() for words in words_prep_6 for word in words]\n",
    "print(f\"There are {len(set(words_prep_6))} different words in the corpus after using only lowercase and removing special characters\")\n",
    "print(f\"The 80th percentile is: {int(len(set(words_prep_6)) * 0.8)}\")"
   ]
  },
  {
   "cell_type": "code",
   "execution_count": 93,
   "metadata": {},
   "outputs": [],
   "source": [
    "train_seq_6 = tokenizer.texts_to_sequences(rev_train_6.Text)\n",
    "test_seq_6 = tokenizer.texts_to_sequences(rev_test_6.Text)\n",
    "train_sequences_6 = pad_sequences(\n",
    "    train_seq_6, maxlen=116, dtype='int32', padding='pre', truncating='pre',\n",
    "    value=0.0)\n",
    "test_sequences_6 = pad_sequences(\n",
    "    test_seq_6, maxlen=116, dtype='int32', padding='pre', truncating='pre',\n",
    "    value=0.0)\n",
    "\n",
    "train_labels_6 = rev_train_6.Score\n",
    "test_labels_6 = rev_test_6.Score"
   ]
  },
  {
   "cell_type": "code",
   "execution_count": 94,
   "metadata": {
    "scrolled": true
   },
   "outputs": [
    {
     "name": "stdout",
     "output_type": "stream",
     "text": [
      "Train on 19200 samples, validate on 4800 samples\n",
      "Epoch 1/10\n",
      "19200/19200 [==============================] - 26s 1ms/sample - loss: 1.3609 - accuracy: 0.4061 - val_loss: 1.2311 - val_accuracy: 0.4762\n",
      "Epoch 2/10\n",
      "19200/19200 [==============================] - 25s 1ms/sample - loss: 1.0945 - accuracy: 0.5424 - val_loss: 1.2072 - val_accuracy: 0.5004\n",
      "Epoch 3/10\n",
      "19200/19200 [==============================] - 25s 1ms/sample - loss: 0.9295 - accuracy: 0.6261 - val_loss: 1.2006 - val_accuracy: 0.5123\n",
      "Epoch 4/10\n",
      "19200/19200 [==============================] - 24s 1ms/sample - loss: 0.7751 - accuracy: 0.7027 - val_loss: 1.2415 - val_accuracy: 0.5231\n",
      "Epoch 5/10\n",
      "19200/19200 [==============================] - 24s 1ms/sample - loss: 0.6430 - accuracy: 0.7606 - val_loss: 1.3667 - val_accuracy: 0.5235\n",
      "Epoch 6/10\n",
      "19200/19200 [==============================] - 24s 1ms/sample - loss: 0.5178 - accuracy: 0.8147 - val_loss: 1.4809 - val_accuracy: 0.5298\n",
      "Epoch 7/10\n",
      "19200/19200 [==============================] - 25s 1ms/sample - loss: 0.4120 - accuracy: 0.8560 - val_loss: 1.6632 - val_accuracy: 0.5342\n",
      "Epoch 8/10\n",
      "19200/19200 [==============================] - 25s 1ms/sample - loss: 0.3214 - accuracy: 0.8929 - val_loss: 1.8150 - val_accuracy: 0.5221\n",
      "Epoch 9/10\n",
      "19200/19200 [==============================] - 25s 1ms/sample - loss: 0.2419 - accuracy: 0.9230 - val_loss: 2.0219 - val_accuracy: 0.5102\n",
      "Epoch 10/10\n",
      "19200/19200 [==============================] - 25s 1ms/sample - loss: 0.1774 - accuracy: 0.9463 - val_loss: 2.2184 - val_accuracy: 0.5152\n"
     ]
    }
   ],
   "source": [
    "model = Sequential()\n",
    "model.add(Embedding(20000, 128, input_length=116))\n",
    "model.add(Dense(128, activation='relu'))\n",
    "model.add(Dense(128, activation='relu'))\n",
    "model.add(GlobalMaxPooling1D())\n",
    "model.add(Dense(5, activation='sigmoid'))\n",
    "model.compile(loss='sparse_categorical_crossentropy', optimizer='adam', metrics=['accuracy'])\n",
    "history_6_0 = model.fit(train_sequences_6, train_labels_6, validation_split=0.2, epochs=10)"
   ]
  },
  {
   "cell_type": "code",
   "execution_count": 95,
   "metadata": {
    "scrolled": true
   },
   "outputs": [
    {
     "name": "stdout",
     "output_type": "stream",
     "text": [
      "Train on 19200 samples, validate on 4800 samples\n",
      "Epoch 1/10\n",
      "19200/19200 [==============================] - 38s 2ms/sample - loss: 1.3680 - accuracy: 0.4022 - val_loss: 1.2371 - val_accuracy: 0.4702\n",
      "Epoch 2/10\n",
      "19200/19200 [==============================] - 37s 2ms/sample - loss: 1.1065 - accuracy: 0.5349 - val_loss: 1.2027 - val_accuracy: 0.4975\n",
      "Epoch 3/10\n",
      "19200/19200 [==============================] - 38s 2ms/sample - loss: 0.9504 - accuracy: 0.6152 - val_loss: 1.1915 - val_accuracy: 0.5158\n",
      "Epoch 4/10\n",
      "19200/19200 [==============================] - 38s 2ms/sample - loss: 0.7989 - accuracy: 0.6934 - val_loss: 1.2387 - val_accuracy: 0.5294\n",
      "Epoch 5/10\n",
      "19200/19200 [==============================] - 39s 2ms/sample - loss: 0.6709 - accuracy: 0.7479 - val_loss: 1.3353 - val_accuracy: 0.5200\n",
      "Epoch 6/10\n",
      "19200/19200 [==============================] - 38s 2ms/sample - loss: 0.5527 - accuracy: 0.7954 - val_loss: 1.4597 - val_accuracy: 0.5250\n",
      "Epoch 7/10\n",
      "19200/19200 [==============================] - 38s 2ms/sample - loss: 0.4376 - accuracy: 0.8466 - val_loss: 1.6683 - val_accuracy: 0.5244\n",
      "Epoch 8/10\n",
      "19200/19200 [==============================] - 38s 2ms/sample - loss: 0.3541 - accuracy: 0.8779 - val_loss: 1.7800 - val_accuracy: 0.5127\n",
      "Epoch 9/10\n",
      "19200/19200 [==============================] - 38s 2ms/sample - loss: 0.2724 - accuracy: 0.9083 - val_loss: 1.9705 - val_accuracy: 0.5092\n",
      "Epoch 10/10\n",
      "19200/19200 [==============================] - 38s 2ms/sample - loss: 0.2014 - accuracy: 0.9374 - val_loss: 2.1569 - val_accuracy: 0.5046\n"
     ]
    }
   ],
   "source": [
    "model = Sequential()\n",
    "model.add(Embedding(30000, 128, input_length=116))\n",
    "model.add(Dense(128, activation='relu'))\n",
    "model.add(Dense(128, activation='relu'))\n",
    "model.add(GlobalMaxPooling1D())\n",
    "model.add(Dense(5, activation='sigmoid'))\n",
    "model.compile(loss='sparse_categorical_crossentropy', optimizer='adam', metrics=['accuracy'])\n",
    "history_6_1 = model.fit(train_sequences_6, train_labels_6, validation_split=0.2, epochs=10)"
   ]
  },
  {
   "cell_type": "markdown",
   "metadata": {},
   "source": [
    "**Answer.**\n",
    "\n",
    "In the first model, maintaining only 20.000 most frequent words and still truncating the sequences at position 116, we achieve a different result of the model compared to the original. The accuracy of the validation was around 53.4% in the 7th epoch. After that, it seemed that the model started overfitting again.\n",
    "\n",
    "Nevertheless, another try was done with the 30.000 most frequent words since, as explored above, we see that for this larger dataset the quantiles changed considerably (even for the 80th quantile of the length of the sequence, as it increase by 10 compared to the original). This last model also achieved an accuracy of around 53%, this time in the 4th epoch. The numbers for this model were selected due to computational limitations but would be interesting to check for higher amount of words and sequence lengths.\n",
    "\n",
    "Therefore, it seems that the model found a new ceiling in accuracy but still overfits. **In fact, the validation loss keeps reaching a minimum in the models around the 3rd epoch.**"
   ]
  },
  {
   "cell_type": "markdown",
   "metadata": {},
   "source": [
    "------------"
   ]
  },
  {
   "cell_type": "markdown",
   "metadata": {},
   "source": [
    "## Regularization through early stopping\n",
    "\n",
    "We have consistently seen that our neural network overfits at around the third epoch. Hence, another form of regularization is to end training early if validation loss starts increasing. (This is similar to the validation curves we used when constructing classification models.) Although the network will not have found an optimal function in the training data, the looser function that it has found will likely be more generalizable.\n",
    "\n",
    "You can do this manually by inspecting the data as we have done above and modifying the `epochs` argument in `fit()`, but Keras also allows you to easily do this automatically via an [`EarlyStopping` callback](https://www.tensorflow.org/api_docs/python/tf/keras/callbacks/EarlyStopping)."
   ]
  },
  {
   "cell_type": "markdown",
   "metadata": {},
   "source": [
    "### Exercise 7:\n",
    "\n",
    "Experiment with the `EarlyStopping` callback and explain the results."
   ]
  },
  {
   "cell_type": "code",
   "execution_count": 97,
   "metadata": {},
   "outputs": [
    {
     "name": "stdout",
     "output_type": "stream",
     "text": [
      "Train on 19200 samples, validate on 4800 samples\n",
      "Epoch 1/10\n",
      "19200/19200 [==============================] - 25s 1ms/sample - loss: 1.3610 - accuracy: 0.4069 - val_loss: 1.2214 - val_accuracy: 0.4746\n",
      "Epoch 2/10\n",
      "19200/19200 [==============================] - 24s 1ms/sample - loss: 1.1074 - accuracy: 0.5378 - val_loss: 1.2342 - val_accuracy: 0.4940\n",
      "Epoch 3/10\n",
      "19200/19200 [==============================] - 25s 1ms/sample - loss: 0.9472 - accuracy: 0.6185 - val_loss: 1.1876 - val_accuracy: 0.5123\n",
      "Epoch 4/10\n",
      "19200/19200 [==============================] - 25s 1ms/sample - loss: 0.8016 - accuracy: 0.6901 - val_loss: 1.2224 - val_accuracy: 0.5246\n"
     ]
    }
   ],
   "source": [
    "callback = EarlyStopping(monitor='val_loss', min_delta=0.5, patience=3, verbose=1)\n",
    "\n",
    "model = Sequential()\n",
    "model.add(Embedding(20000, 128, input_length=116))\n",
    "model.add(Dense(128, activation='relu'))\n",
    "model.add(Dense(128, activation='relu'))\n",
    "model.add(GlobalMaxPooling1D())\n",
    "model.add(Dense(5, activation='sigmoid'))\n",
    "model.compile(loss='sparse_categorical_crossentropy', optimizer='adam', metrics=['accuracy'])\n",
    "history_7_0 = model.fit(train_sequences_6, train_labels_6, validation_split=0.2, epochs=10, callbacks = [callback])"
   ]
  },
  {
   "cell_type": "code",
   "execution_count": 98,
   "metadata": {},
   "outputs": [
    {
     "name": "stdout",
     "output_type": "stream",
     "text": [
      "Train on 19200 samples, validate on 4800 samples\n",
      "Epoch 1/10\n",
      "19200/19200 [==============================] - 27s 1ms/sample - loss: 1.3739 - accuracy: 0.3996 - val_loss: 1.2291 - val_accuracy: 0.4698\n",
      "Epoch 2/10\n",
      "19200/19200 [==============================] - 25s 1ms/sample - loss: 1.1049 - accuracy: 0.5435 - val_loss: 1.2093 - val_accuracy: 0.5006\n",
      "Epoch 3/10\n",
      "19200/19200 [==============================] - 25s 1ms/sample - loss: 0.9380 - accuracy: 0.6265 - val_loss: 1.2169 - val_accuracy: 0.5088\n",
      "Epoch 4/10\n",
      "19200/19200 [==============================] - 25s 1ms/sample - loss: 0.7886 - accuracy: 0.6967 - val_loss: 1.2502 - val_accuracy: 0.5277\n",
      "Epoch 5/10\n",
      "19200/19200 [==============================] - 26s 1ms/sample - loss: 0.6534 - accuracy: 0.7569 - val_loss: 1.3371 - val_accuracy: 0.5321\n",
      "Epoch 00005: early stopping\n"
     ]
    }
   ],
   "source": [
    "callback = EarlyStopping(monitor='val_loss', min_delta=0.5, patience=4, verbose=1)\n",
    "\n",
    "model = Sequential()\n",
    "model.add(Embedding(20000, 128, input_length=116))\n",
    "model.add(Dense(128, activation='relu'))\n",
    "model.add(Dense(128, activation='relu'))\n",
    "model.add(GlobalMaxPooling1D())\n",
    "model.add(Dense(5, activation='sigmoid'))\n",
    "model.compile(loss='sparse_categorical_crossentropy', optimizer='adam', metrics=['accuracy'])\n",
    "history_7_1 = model.fit(train_sequences_6, train_labels_6, validation_split=0.2, epochs=10, callbacks = [callback])"
   ]
  },
  {
   "cell_type": "markdown",
   "metadata": {},
   "source": [
    "**Answer.**\n",
    "\n",
    "From the models, we had already seen that the best validation accuracy was found one or two epochs after the loss validation reached its minimum and started increasing again. Therefore, i used this particularity of the model to tune the early stopping. \n",
    "\n",
    "Moreover, it is seen that the val_loss is not monotonically decreasing, as it can increase a bit before reaching its minimum and then start increasing constantly after that. Therefore, it was necesary to add a higher \"patience\" parameter to the early_stopping.\n",
    "\n",
    "We can see that after tuning a bit the early_stopping, we end up with the model having a validation accuracy as high as was expected for the best model, around 53%."
   ]
  },
  {
   "cell_type": "markdown",
   "metadata": {},
   "source": [
    "------------"
   ]
  },
  {
   "cell_type": "markdown",
   "metadata": {},
   "source": [
    "## Evaluating our model"
   ]
  },
  {
   "cell_type": "markdown",
   "metadata": {},
   "source": [
    "Unlike in most previous cases, we used *three* splits of our data instead of two. All of our model tuning has been done on the validation set, and we have not even touched the test set that we split off right at the start.\n",
    "\n",
    "For experiments, it's very important that your model is only run **once** on your test set. As there is so much randomness at play, it's vital to not \"cherry-pick\" the best results, so optimize as much as you want on the validation set, but keep the test set until the end and all official results should be based on the single run of the test set (or whatever configuration was decided *before the experiment started*)."
   ]
  },
  {
   "cell_type": "markdown",
   "metadata": {},
   "source": [
    "### Exercise 8:\n",
    "\n",
    "Let's take the model configuration that resulted in the highest validation accuracy and use that one as our final model. Evaluate this configuration on how well it performs on the test set, and furthermore diagnose *what kinds of mistakes it makes*. Explain whether these mistakes are expected or not, and print some of these poorly classified reviews. Given the mistakes the model made, how would you then go back and try to improve the model or optimize the tuning steps?\n",
    "\n",
    "**Hint:** You can use the [`predict_classes`](https://www.tensorflow.org/api_docs/python/tf/keras/Sequential#predict_classes) method on your model to get the most probable class directly."
   ]
  },
  {
   "cell_type": "code",
   "execution_count": 100,
   "metadata": {},
   "outputs": [
    {
     "name": "stdout",
     "output_type": "stream",
     "text": [
      "6000/6000 [==============================] - 1s 105us/sample\n"
     ]
    }
   ],
   "source": [
    "predicted = model.predict_classes(test_sequences_6,verbose = 1)"
   ]
  },
  {
   "cell_type": "code",
   "execution_count": 106,
   "metadata": {},
   "outputs": [
    {
     "name": "stdout",
     "output_type": "stream",
     "text": [
      "The accuracy on the test set was:  0.5176666666666667\n"
     ]
    }
   ],
   "source": [
    "print(\"The accuracy on the test set was: \", np.array([predicted == test_labels_6]).sum()/len(predicted))"
   ]
  },
  {
   "cell_type": "code",
   "execution_count": 120,
   "metadata": {},
   "outputs": [
    {
     "name": "stdout",
     "output_type": "stream",
     "text": [
      "First five really bad reviews (difference of more than 2 in predicted score)\n",
      "\n",
      "Review:  I just bought the Zebra flavor after sampling at a holiday booth. The sample had chocolate drizzled on each piece.  False representation. The actual bag contains few pieces with chocolate. (less than 10& of pieces have chocolate) It looks and tastes like Crunch 'n Munch or Cracker Jacks.  If you're looking for gourmet popcorn, this is not it.\n",
      "The predicted score was:  4\n",
      "The real score was:  1\n",
      "\n",
      "--------------\n",
      "\n",
      "Review:  My dog seems to really like them, but the sweet potato gets very, very hard once the bag is opened.  My concern is they are about and inch and half long and do not want to have my dog swallowing something that size and  hardness.  As canines are gulpers, I am concerned.  The same product with the the chicken and apple is much softer.\n",
      "The predicted score was:  3\n",
      "The real score was:  1\n",
      "\n",
      "--------------\n",
      "\n",
      "Review:  This extract has a very strong alcohol aroma, so much so that it is difficult to discern any pistachio flavor. You might as well use a liquer instead- you'd probably get a better flavor.\n",
      "The predicted score was:  5\n",
      "The real score was:  2\n",
      "\n",
      "--------------\n",
      "\n",
      "Review:  This product description does not say whether this product is pasteurized. Alton Brown on Good Eats says that if pomegranate juice is pasteurized you lose a lot of the antioxidant benefits. I would likely change to more stars if it is not pasteurized.\n",
      "The predicted score was:  4\n",
      "The real score was:  1\n",
      "\n",
      "--------------\n",
      "\n",
      "Review:  So, Amazon, you're back to selling whale meat, fois gras, and other gross foods?  What gives?  Is it because few American's eat it, or even know what it is?  And, it's expensive which helps your bottom line.  So, why not take stuff American's don't or are forbidden to eat (remember the ban on whale slaughter is now world wide and it makes your selling of it illlegal).  People are becoming more informed on a daily basis, and finding this kind of stuff on Amazon is little less than appalling, much less, law disregarding.\n",
      "The predicted score was:  4\n",
      "The real score was:  1\n",
      "\n",
      "--------------\n",
      "\n"
     ]
    }
   ],
   "source": [
    "predicted == test_labels_6\n",
    "i=0\n",
    "counter = 0\n",
    "\n",
    "print(\"First five really bad reviews (difference of more than 2 in predicted score)\\n\")\n",
    "\n",
    "while counter < 5:\n",
    "    diff = predicted[i] - test_labels_6.values[i]\n",
    "    if  diff >= 2:\n",
    "        print(\"Review: \", rev_test_6.Text.values[i])\n",
    "        print(\"The predicted score was: \", predicted[i]+1)\n",
    "        print(\"The real score was: \", test_labels_6.values[i]+1)\n",
    "        print(\"\\n--------------\\n\")\n",
    "        \n",
    "        counter += 1\n",
    "    i += 1\n"
   ]
  },
  {
   "cell_type": "markdown",
   "metadata": {},
   "source": [
    "**Answer.**\n",
    "\n",
    "We can see that the model has an accuracy of about 51.7%. This represented 3016 samples of the 6000 in the test set. This is consistent with the validation accuracy that was obtained during the training.\n",
    "\n",
    "When looking at badly classified reviews, meaning that the difference between classification and real score was more than 2. We can see that these reviews tend to be gentle, in the sense that they can be sarcastic, using generally positive or neutral adjectives to describe what is not a good feeling or result.\n",
    "\n",
    "We can see this in: \"The sample had chocolate drizzled on each piece\" and it is refering to the fact that the products creates false expectations.\n",
    "\n",
    "\"My dog seems to really like them\" but then speaks of characteristics of the product that imply a negative experience.\n",
    "\n",
    "\"This extract has a very strong alcohol aroma\", \"I would likely change to more stars\". The last review is a curious case because it is not direct for me to notice what the model is predicting.\n",
    "\n",
    "Nevertheless, we see that these reviews have \"difficult\", \"not\", \"but\" and these words might be connected to negative experiences but they can also appear in positive reviews as well.\n",
    "\n",
    "**It would be interesting to try the model including the most common 2- and 3-grams as well as making sure to remove the stopwords that might be polluting the dataset used to train the model.**\n",
    "\n",
    "Also, as mentioned before, using longer sequences and more data in the model embedder could be positive, as we saw that including 6000 samples of each score resulted in a much higher number of unique words and length quantiles."
   ]
  },
  {
   "cell_type": "markdown",
   "metadata": {},
   "source": [
    "------------"
   ]
  },
  {
   "cell_type": "code",
   "execution_count": null,
   "metadata": {},
   "outputs": [],
   "source": []
  }
 ],
 "metadata": {
  "kernelspec": {
   "display_name": "Python 3",
   "language": "python",
   "name": "python3"
  },
  "language_info": {
   "codemirror_mode": {
    "name": "ipython",
    "version": 3
   },
   "file_extension": ".py",
   "mimetype": "text/x-python",
   "name": "python",
   "nbconvert_exporter": "python",
   "pygments_lexer": "ipython3",
   "version": "3.7.7"
  }
 },
 "nbformat": 4,
 "nbformat_minor": 2
}
